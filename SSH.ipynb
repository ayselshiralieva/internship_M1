{
 "cells": [
  {
   "cell_type": "markdown",
   "id": "british-algorithm",
   "metadata": {},
   "source": [
    "# SSH model"
   ]
  },
  {
   "cell_type": "code",
   "execution_count": 1,
   "id": "handy-provision",
   "metadata": {},
   "outputs": [],
   "source": [
    "%matplotlib inline\n",
    "import numpy as np\n",
    "import matplotlib.pyplot as plt"
   ]
  },
  {
   "cell_type": "markdown",
   "id": "foreign-barrel",
   "metadata": {},
   "source": [
    "$H=\\sum_{j}\\left[(1-\\delta) c_{A, j}^{\\dagger} c_{B, j}+(1+\\delta) c_{B, j}^{\\dagger} c_{A, j+1}+\\text { h.c. }\\right]$"
   ]
  },
  {
   "cell_type": "code",
   "execution_count": 2,
   "id": "underlying-laser",
   "metadata": {},
   "outputs": [],
   "source": [
    "def SSH_hamiltonian_periodic(N, Delta):\n",
    "    x = np.zeros(N-1)\n",
    "    x[0::2] = 1 - Delta\n",
    "    x[1::2] = 1 + Delta\n",
    "    A = np.diag(x, k = 1) + np.diag(x, k = -1)\n",
    "    A[0][N-1] = 1 + Delta\n",
    "    A[N-1][0] = 1 + Delta\n",
    "    return A"
   ]
  },
  {
   "cell_type": "code",
   "execution_count": 3,
   "id": "hundred-kernel",
   "metadata": {},
   "outputs": [
    {
     "data": {
      "text/plain": [
       "array([[0., 0., 0., 2.],\n",
       "       [0., 0., 2., 0.],\n",
       "       [0., 2., 0., 0.],\n",
       "       [2., 0., 0., 0.]])"
      ]
     },
     "execution_count": 3,
     "metadata": {},
     "output_type": "execute_result"
    }
   ],
   "source": [
    "SSH_hamiltonian_periodic(4, 1)"
   ]
  },
  {
   "cell_type": "code",
   "execution_count": 4,
   "id": "polished-miller",
   "metadata": {},
   "outputs": [
    {
     "data": {
      "text/plain": [
       "[<matplotlib.lines.Line2D at 0x20e85648188>]"
      ]
     },
     "execution_count": 4,
     "metadata": {},
     "output_type": "execute_result"
    },
    {
     "data": {
      "image/png": "[encoded data removed]",
      "text/plain": [
       "<Figure size 432x288 with 1 Axes>"
      ]
     },
     "metadata": {
      "needs_background": "light"
     },
     "output_type": "display_data"
    }
   ],
   "source": [
    "Delta = 0.5\n",
    "N = 100\n",
    "A_SSH = SSH_hamiltonian_periodic(N, Delta)\n",
    "plt.plot(np.sort(np.linalg.eigvals(A_SSH)), \".\")"
   ]
  },
  {
   "cell_type": "code",
   "execution_count": 5,
   "id": "genetic-adelaide",
   "metadata": {},
   "outputs": [],
   "source": [
    "def SSH_hamiltonian_open(N, Delta):\n",
    "    x = np.zeros(N-1)\n",
    "    x[0::2] = 1 - Delta\n",
    "    x[1::2] = 1 + Delta\n",
    "    A = np.diag(x, k = 1) + np.diag(x, k = -1)\n",
    "    return A"
   ]
  },
  {
   "cell_type": "code",
   "execution_count": 6,
   "id": "excited-landscape",
   "metadata": {},
   "outputs": [
    {
     "data": {
      "text/plain": [
       "[<matplotlib.lines.Line2D at 0x20e8745ce88>]"
      ]
     },
     "execution_count": 6,
     "metadata": {},
     "output_type": "execute_result"
    },
    {
     "data": {
      "image/png": "[encoded data removed]",
      "text/plain": [
       "<Figure size 432x288 with 1 Axes>"
      ]
     },
     "metadata": {
      "needs_background": "light"
     },
     "output_type": "display_data"
    }
   ],
   "source": [
    "A1_SSH = SSH_hamiltonian_open(N, Delta)\n",
    "plt.plot(np.sort(np.linalg.eigvals(A1_SSH)), \".\")"
   ]
  },
  {
   "cell_type": "code",
   "execution_count": 7,
   "id": "secure-greene",
   "metadata": {},
   "outputs": [
    {
     "data": {
      "text/plain": [
       "array([[0., 0., 0., 0., 0., 0., 0., 0., 0., 0.],\n",
       "       [0., 0., 2., 0., 0., 0., 0., 0., 0., 0.],\n",
       "       [0., 2., 0., 0., 0., 0., 0., 0., 0., 0.],\n",
       "       [0., 0., 0., 0., 2., 0., 0., 0., 0., 0.],\n",
       "       [0., 0., 0., 2., 0., 0., 0., 0., 0., 0.],\n",
       "       [0., 0., 0., 0., 0., 0., 2., 0., 0., 0.],\n",
       "       [0., 0., 0., 0., 0., 2., 0., 0., 0., 0.],\n",
       "       [0., 0., 0., 0., 0., 0., 0., 0., 2., 0.],\n",
       "       [0., 0., 0., 0., 0., 0., 0., 2., 0., 0.],\n",
       "       [0., 0., 0., 0., 0., 0., 0., 0., 0., 0.]])"
      ]
     },
     "execution_count": 7,
     "metadata": {},
     "output_type": "execute_result"
    }
   ],
   "source": [
    "SSH_hamiltonian_open(10, 1)"
   ]
  },
  {
   "cell_type": "code",
   "execution_count": 8,
   "id": "likely-faith",
   "metadata": {},
   "outputs": [
    {
     "data": {
      "text/plain": [
       "[<matplotlib.lines.Line2D at 0x20e874de1c8>]"
      ]
     },
     "execution_count": 8,
     "metadata": {},
     "output_type": "execute_result"
    },
    {
     "data": {
      "image/png": "[encoded data removed]",
      "text/plain": [
       "<Figure size 432x288 with 1 Axes>"
      ]
     },
     "metadata": {
      "needs_background": "light"
     },
     "output_type": "display_data"
    }
   ],
   "source": [
    "plt.plot(np.sort(np.linalg.eigvals(SSH_hamiltonian_open(10, 1))), \".\")"
   ]
  },
  {
   "cell_type": "code",
   "execution_count": 9,
   "id": "peripheral-knock",
   "metadata": {},
   "outputs": [
    {
     "data": {
      "image/png": "[encoded data removed]",
      "text/plain": [
       "<Figure size 432x288 with 1 Axes>"
      ]
     },
     "metadata": {
      "needs_background": "light"
     },
     "output_type": "display_data"
    }
   ],
   "source": [
    "x = np.linspace(-1, 1, 20)\n",
    "A_matrices_spec = []\n",
    "for i in range(x.size):\n",
    "    Delta = x[i]\n",
    "    A_SSH = SSH_hamiltonian_open(N, Delta)\n",
    "    A_matrices_spec.append(np.sort(np.linalg.eigvals(A_SSH)))\n",
    "    plt.plot(A_matrices_spec[i], \".\")\n",
    "A_matrices_spec = np.array(A_matrices_spec)"
   ]
  },
  {
   "cell_type": "code",
   "execution_count": 10,
   "id": "junior-track",
   "metadata": {},
   "outputs": [],
   "source": [
    "def energy_gap(arr):\n",
    "    N = arr.size\n",
    "    return arr[N//2] - arr[N//2 - 1]"
   ]
  },
  {
   "cell_type": "code",
   "execution_count": 11,
   "id": "deadly-performer",
   "metadata": {},
   "outputs": [
    {
     "data": {
      "text/plain": [
       "Text(0, 0.5, 'Energy gap')"
      ]
     },
     "execution_count": 11,
     "metadata": {},
     "output_type": "execute_result"
    },
    {
     "data": {
      "image/png": "[encoded data removed]",
      "text/plain": [
       "<Figure size 432x288 with 1 Axes>"
      ]
     },
     "metadata": {
      "needs_background": "light"
     },
     "output_type": "display_data"
    }
   ],
   "source": [
    "gap_array = np.array([energy_gap(A_matrices_spec[i]) for i in range(20)])\n",
    "plt.plot(x, gap_array, \".\")\n",
    "plt.xlabel('$\\delta$')\n",
    "plt.ylabel('Energy gap')"
   ]
  },
  {
   "cell_type": "code",
   "execution_count": 12,
   "id": "separated-croatia",
   "metadata": {},
   "outputs": [
    {
     "name": "stderr",
     "output_type": "stream",
     "text": [
      "C:\\Users\\MI\\Anaconda3\\lib\\site-packages\\ipykernel_launcher.py:7: VisibleDeprecationWarning: Creating an ndarray from ragged nested sequences (which is a list-or-tuple of lists-or-tuples-or ndarrays with different lengths or shapes) is deprecated. If you meant to do this, you must specify 'dtype=object' when creating the ndarray\n",
      "  import sys\n"
     ]
    }
   ],
   "source": [
    "A_matrices_spec_N = []\n",
    "Delta = 0.5\n",
    "for i in range(2,100,2):\n",
    "    N = i\n",
    "    A_SSH_N = SSH_hamiltonian_open(N, Delta)\n",
    "    A_matrices_spec_N.append(np.sort(np.linalg.eigvals(A_SSH_N)))\n",
    "A_matrices_spec_N = np.array(A_matrices_spec_N)"
   ]
  },
  {
   "cell_type": "code",
   "execution_count": 13,
   "id": "moving-bulgarian",
   "metadata": {},
   "outputs": [
    {
     "data": {
      "text/plain": [
       "[<matplotlib.lines.Line2D at 0x20e87659988>]"
      ]
     },
     "execution_count": 13,
     "metadata": {},
     "output_type": "execute_result"
    },
    {
     "data": {
      "image/png": "[encoded data removed]",
      "text/plain": [
       "<Figure size 432x288 with 1 Axes>"
      ]
     },
     "metadata": {
      "needs_background": "light"
     },
     "output_type": "display_data"
    }
   ],
   "source": [
    "plt.plot(np.sort(np.linalg.eigvals(SSH_hamiltonian_open(2, 0.5))), \".\")"
   ]
  },
  {
   "cell_type": "code",
   "execution_count": 14,
   "id": "subjective-consolidation",
   "metadata": {},
   "outputs": [
    {
     "data": {
      "text/plain": [
       "Text(0, 0.5, 'Energy gap')"
      ]
     },
     "execution_count": 14,
     "metadata": {},
     "output_type": "execute_result"
    },
    {
     "data": {
      "image/png": "[encoded data removed]",
      "text/plain": [
       "<Figure size 432x288 with 1 Axes>"
      ]
     },
     "metadata": {
      "needs_background": "light"
     },
     "output_type": "display_data"
    }
   ],
   "source": [
    "gap_array = np.log(np.array([energy_gap(A_matrices_spec_N[i]) for i in range(49)]))\n",
    "plt.plot(gap_array,\".\")\n",
    "plt.xlabel(\"N\")\n",
    "plt.ylabel('Energy gap')"
   ]
  },
  {
   "cell_type": "code",
   "execution_count": 15,
   "id": "amended-crisis",
   "metadata": {},
   "outputs": [
    {
     "data": {
      "text/plain": [
       "-32.23619130191664"
      ]
     },
     "execution_count": 15,
     "metadata": {},
     "output_type": "execute_result"
    }
   ],
   "source": [
    "np.log(1e-14)"
   ]
  },
  {
   "cell_type": "code",
   "execution_count": 16,
   "id": "rural-purchase",
   "metadata": {},
   "outputs": [
    {
     "data": {
      "text/plain": [
       "[<matplotlib.lines.Line2D at 0x20e876b2dc8>]"
      ]
     },
     "execution_count": 16,
     "metadata": {},
     "output_type": "execute_result"
    },
    {
     "data": {
      "image/png": "[encoded data removed]",
      "text/plain": [
       "<Figure size 432x288 with 1 Axes>"
      ]
     },
     "metadata": {
      "needs_background": "light"
     },
     "output_type": "display_data"
    }
   ],
   "source": [
    "plt.plot(np.sort(np.linalg.eigvals(SSH_hamiltonian_open(50, 0.1))),\".\")"
   ]
  },
  {
   "cell_type": "code",
   "execution_count": 17,
   "id": "vocal-diagram",
   "metadata": {},
   "outputs": [
    {
     "data": {
      "text/plain": [
       "[<matplotlib.lines.Line2D at 0x20e8758df48>]"
      ]
     },
     "execution_count": 17,
     "metadata": {},
     "output_type": "execute_result"
    },
    {
     "data": {
      "image/png": "[encoded data removed]",
      "text/plain": [
       "<Figure size 432x288 with 1 Axes>"
      ]
     },
     "metadata": {
      "needs_background": "light"
     },
     "output_type": "display_data"
    }
   ],
   "source": [
    "plt.plot(np.sort(np.linalg.eigvals(SSH_hamiltonian_open(1000, 0.1))),\".\")"
   ]
  },
  {
   "cell_type": "markdown",
   "id": "unsigned-damage",
   "metadata": {},
   "source": [
    "### Density of one state"
   ]
  },
  {
   "cell_type": "code",
   "execution_count": 18,
   "id": "partial-savage",
   "metadata": {},
   "outputs": [],
   "source": [
    "#sorting eigenvalues and corresponding eigenvectors\n",
    "delta1 = 0.05\n",
    "eigenvalues, eigenvectors = np.linalg.eig(SSH_hamiltonian_open(200, delta1))\n",
    "idx = eigenvalues.argsort()[::1]   \n",
    "eigenvalues = eigenvalues[idx]\n",
    "eigenvectors = eigenvectors[:,idx]"
   ]
  },
  {
   "cell_type": "code",
   "execution_count": 19,
   "id": "southeast-combat",
   "metadata": {},
   "outputs": [
    {
     "data": {
      "text/plain": [
       "[<matplotlib.lines.Line2D at 0x20e87ffd648>]"
      ]
     },
     "execution_count": 19,
     "metadata": {},
     "output_type": "execute_result"
    },
    {
     "data": {
      "image/png": "[encoded data removed]",
      "text/plain": [
       "<Figure size 432x288 with 1 Axes>"
      ]
     },
     "metadata": {
      "needs_background": "light"
     },
     "output_type": "display_data"
    }
   ],
   "source": [
    "plt.plot(eigenvectors[:,99] + eigenvectors[:,100])"
   ]
  },
  {
   "cell_type": "code",
   "execution_count": 20,
   "id": "offensive-imaging",
   "metadata": {},
   "outputs": [
    {
     "name": "stdout",
     "output_type": "stream",
     "text": [
      "localization length = 9.991661103824155\n"
     ]
    },
    {
     "data": {
      "image/png": "[encoded data removed]",
      "text/plain": [
       "<Figure size 432x288 with 1 Axes>"
      ]
     },
     "metadata": {
      "needs_background": "light"
     },
     "output_type": "display_data"
    }
   ],
   "source": [
    "x1 = (eigenvectors[:,100][0] + eigenvectors[:,99][0])**2\n",
    "amp_spec = np.log((1/x1)*(eigenvectors[:,100] + eigenvectors[:,99])**2)\n",
    "plt.plot(amp_spec[0::2], \".\")\n",
    "chi = 1 / (np.log(1 + delta1) - np.log(1 - delta1))\n",
    "plt.plot([(-x+1)*2/chi for x in range(1,126)])\n",
    "print(\"localization length =\", chi)"
   ]
  },
  {
   "cell_type": "markdown",
   "id": "greek-convertible",
   "metadata": {},
   "source": [
    "## Perturbations"
   ]
  },
  {
   "cell_type": "code",
   "execution_count": 21,
   "id": "brown-character",
   "metadata": {},
   "outputs": [],
   "source": [
    "def SSH_hamiltonian_open_random(N, Delta, R):\n",
    "    x = np.zeros(N-1)\n",
    "    for i in range(N-1):\n",
    "        if i%2 == 0:\n",
    "            x[i] = 1 - Delta + np.random.uniform(low=-R, high=R, size=(1,))\n",
    "        else:\n",
    "            x[i] = 1 + Delta + np.random.uniform(low=-R, high=R, size=(1,))\n",
    "    A = np.diag(x, k = 1) + np.diag(x, k = -1)\n",
    "    return A"
   ]
  },
  {
   "cell_type": "code",
   "execution_count": 22,
   "id": "promotional-operator",
   "metadata": {},
   "outputs": [
    {
     "data": {
      "text/plain": [
       "<matplotlib.legend.Legend at 0x20e880e81c8>"
      ]
     },
     "execution_count": 22,
     "metadata": {},
     "output_type": "execute_result"
    },
    {
     "data": {
      "image/png": "[encoded data removed]",
      "text/plain": [
       "<Figure size 432x288 with 1 Axes>"
      ]
     },
     "metadata": {
      "needs_background": "light"
     },
     "output_type": "display_data"
    }
   ],
   "source": [
    "Delta = 0.5\n",
    "N = 20\n",
    "R = 0.5\n",
    "A_SSH = SSH_hamiltonian_open_random(N, Delta, R)\n",
    "plt.plot(np.sort(np.linalg.eigvals(A_SSH)), \".\", label = \"with perturbations\")\n",
    "plt.plot(np.sort(np.linalg.eigvals(SSH_hamiltonian_open(N, Delta))), \".\", label = \"without perturbations\")\n",
    "plt.legend()"
   ]
  },
  {
   "cell_type": "markdown",
   "id": "protected-directive",
   "metadata": {},
   "source": [
    "## Next nearest neighbor hopping "
   ]
  },
  {
   "cell_type": "markdown",
   "id": "measured-surrey",
   "metadata": {},
   "source": [
    "\\begin{aligned}\n",
    "H=\\sum_{j} &\\left[(1-\\delta) c_{A, j}^{\\dagger} c_{B, j}+(1+\\delta) c_{B, j}^{\\dagger} c_{A, j+1}\\right.\\\\\n",
    "&\\left.+t c_{A, j}^{\\dagger} c_{A, j+1}+\\text { h.c. }\\right]\n",
    "\\end{aligned}"
   ]
  },
  {
   "cell_type": "code",
   "execution_count": 23,
   "id": "blond-interaction",
   "metadata": {},
   "outputs": [],
   "source": [
    "def SSH_hamiltonian_NNN_hopping(N, Delta, t):\n",
    "    x = np.zeros(N-1)\n",
    "    t_array = np.zeros(N-2)\n",
    "    x[0::2] = 1 - Delta\n",
    "    x[1::2] = 1 + Delta\n",
    "    t_array[0::2] = t \n",
    "    A = np.diag(x, k = 1) + np.diag(x, k = -1) + np.diag(t_array, k = -2) + np.diag(t_array, k = 2) \n",
    "    return A"
   ]
  },
  {
   "cell_type": "code",
   "execution_count": 24,
   "id": "manual-jesus",
   "metadata": {},
   "outputs": [
    {
     "data": {
      "text/plain": [
       "array([[ 0. ,  0.5, 10. ,  0. ,  0. ,  0. ],\n",
       "       [ 0.5,  0. ,  1.5,  0. ,  0. ,  0. ],\n",
       "       [10. ,  1.5,  0. ,  0.5, 10. ,  0. ],\n",
       "       [ 0. ,  0. ,  0.5,  0. ,  1.5,  0. ],\n",
       "       [ 0. ,  0. , 10. ,  1.5,  0. ,  0.5],\n",
       "       [ 0. ,  0. ,  0. ,  0. ,  0.5,  0. ]])"
      ]
     },
     "execution_count": 24,
     "metadata": {},
     "output_type": "execute_result"
    }
   ],
   "source": [
    "SSH_hamiltonian_NNN_hopping(6, 0.5, 10)"
   ]
  },
  {
   "cell_type": "code",
   "execution_count": 25,
   "id": "smart-interval",
   "metadata": {},
   "outputs": [
    {
     "data": {
      "text/plain": [
       "<Figure size 432x288 with 0 Axes>"
      ]
     },
     "execution_count": 25,
     "metadata": {},
     "output_type": "execute_result"
    },
    {
     "data": {
      "image/png": "[encoded data removed]",
      "text/plain": [
       "<Figure size 432x288 with 1 Axes>"
      ]
     },
     "metadata": {
      "needs_background": "light"
     },
     "output_type": "display_data"
    },
    {
     "data": {
      "text/plain": [
       "<Figure size 432x288 with 0 Axes>"
      ]
     },
     "metadata": {},
     "output_type": "display_data"
    }
   ],
   "source": [
    "Delta = 0.5\n",
    "t = 10\n",
    "N = 50\n",
    "A_SSH_new1 = SSH_hamiltonian_NNN_hopping(N, Delta, t)\n",
    "plt.plot(np.sort(np.linalg.eigvals(A_SSH_new1)), \".\",label = \"with hopping\")\n",
    "plt.plot(np.sort(np.linalg.eigvals(SSH_hamiltonian_open(N, Delta))),\".\", label = \"without hopping\")\n",
    "plt.legend()\n",
    "plt.figure()"
   ]
  },
  {
   "cell_type": "markdown",
   "id": "honey-supplement",
   "metadata": {},
   "source": [
    "Adding a similar next nearest neighbor hopping between B sites (with the same amplitude t)"
   ]
  },
  {
   "cell_type": "code",
   "execution_count": 26,
   "id": "graduate-parking",
   "metadata": {},
   "outputs": [],
   "source": [
    "def SSH_hamiltonian_NNN_hoppingAB(N, Delta, t):\n",
    "    x = np.zeros(N-1)\n",
    "    t_array = np.zeros(N-2)\n",
    "    x[0::2] = 1 - Delta\n",
    "    x[1::2] = 1 + Delta\n",
    "    t_array[::] = t \n",
    "    A = np.diag(x, k = 1) + np.diag(x, k = -1) + np.diag(t_array, k = -2) + np.diag(t_array, k = 2) \n",
    "    return A"
   ]
  },
  {
   "cell_type": "code",
   "execution_count": 27,
   "id": "fewer-treatment",
   "metadata": {},
   "outputs": [
    {
     "data": {
      "text/plain": [
       "array([[0. , 0.5, 1. , 0. , 0. , 0. , 0. , 0. , 0. , 0. ],\n",
       "       [0.5, 0. , 1.5, 1. , 0. , 0. , 0. , 0. , 0. , 0. ],\n",
       "       [1. , 1.5, 0. , 0.5, 1. , 0. , 0. , 0. , 0. , 0. ],\n",
       "       [0. , 1. , 0.5, 0. , 1.5, 1. , 0. , 0. , 0. , 0. ],\n",
       "       [0. , 0. , 1. , 1.5, 0. , 0.5, 1. , 0. , 0. , 0. ],\n",
       "       [0. , 0. , 0. , 1. , 0.5, 0. , 1.5, 1. , 0. , 0. ],\n",
       "       [0. , 0. , 0. , 0. , 1. , 1.5, 0. , 0.5, 1. , 0. ],\n",
       "       [0. , 0. , 0. , 0. , 0. , 1. , 0.5, 0. , 1.5, 1. ],\n",
       "       [0. , 0. , 0. , 0. , 0. , 0. , 1. , 1.5, 0. , 0.5],\n",
       "       [0. , 0. , 0. , 0. , 0. , 0. , 0. , 1. , 0.5, 0. ]])"
      ]
     },
     "execution_count": 27,
     "metadata": {},
     "output_type": "execute_result"
    }
   ],
   "source": [
    "SSH_hamiltonian_NNN_hoppingAB(10, 0.5, 1)"
   ]
  },
  {
   "cell_type": "code",
   "execution_count": 28,
   "id": "quantitative-anderson",
   "metadata": {},
   "outputs": [
    {
     "data": {
      "text/plain": [
       "<Figure size 432x288 with 0 Axes>"
      ]
     },
     "execution_count": 28,
     "metadata": {},
     "output_type": "execute_result"
    },
    {
     "data": {
      "image/png": "[encoded data removed]",
      "text/plain": [
       "<Figure size 432x288 with 1 Axes>"
      ]
     },
     "metadata": {
      "needs_background": "light"
     },
     "output_type": "display_data"
    },
    {
     "data": {
      "text/plain": [
       "<Figure size 432x288 with 0 Axes>"
      ]
     },
     "metadata": {},
     "output_type": "display_data"
    }
   ],
   "source": [
    "Delta = 0.5\n",
    "t = 0.1\n",
    "N = 20\n",
    "A_SSH_new = SSH_hamiltonian_NNN_hoppingAB(N, Delta, t)\n",
    "plt.plot(np.sort(np.linalg.eigvals(A_SSH_new)), \".\", label = \"with AB hopping\")\n",
    "plt.plot(np.sort(np.linalg.eigvals(SSH_hamiltonian_open(N, Delta))), \".\", label = \"without hopping\")\n",
    "plt.legend()\n",
    "plt.figure()"
   ]
  }
 ],
 "metadata": {
  "kernelspec": {
   "display_name": "Python 3",
   "language": "python",
   "name": "python3"
  },
  "language_info": {
   "codemirror_mode": {
    "name": "ipython",
    "version": 3
   },
   "file_extension": ".py",
   "mimetype": "text/x-python",
   "name": "python",
   "nbconvert_exporter": "python",
   "pygments_lexer": "ipython3",
   "version": "3.7.9"
  }
 },
 "nbformat": 4,
 "nbformat_minor": 5
}
