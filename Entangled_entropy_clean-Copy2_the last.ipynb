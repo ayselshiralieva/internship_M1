{
 "cells": [
  {
   "cell_type": "markdown",
   "id": "hairy-birth",
   "metadata": {},
   "source": [
    "## N is a number of unit cells here!"
   ]
  },
  {
   "cell_type": "code",
   "execution_count": 1,
   "id": "smaller-blair",
   "metadata": {},
   "outputs": [],
   "source": [
    "%matplotlib inline\n",
    "import numpy as np\n",
    "import matplotlib.pyplot as plt\n",
    "import scipy.linalg\n",
    "import scipy as sp\n",
    "from datetime import datetime\n",
    "import math"
   ]
  },
  {
   "cell_type": "code",
   "execution_count": 2,
   "id": "numerical-screening",
   "metadata": {},
   "outputs": [],
   "source": [
    "def SSH_hamiltonian_periodic(N1, Delta):\n",
    "    N = N1*2\n",
    "    x = np.zeros(N-1)\n",
    "    x[0::2] = 1 - Delta\n",
    "    x[1::2] = 1 + Delta\n",
    "    A = np.diag(x, k = 1) + np.diag(x, k = -1)\n",
    "    A[0][N-1] = 1 + Delta\n",
    "    A[N-1][0] = 1 + Delta\n",
    "    return A"
   ]
  },
  {
   "cell_type": "code",
   "execution_count": 3,
   "id": "fancy-salad",
   "metadata": {
    "scrolled": true
   },
   "outputs": [
    {
     "data": {
      "text/plain": [
       "[<matplotlib.lines.Line2D at 0x1cee0a751c8>]"
      ]
     },
     "execution_count": 3,
     "metadata": {},
     "output_type": "execute_result"
    },
    {
     "data": {
      "image/png": "[encoded data removed]",
      "text/plain": [
       "<Figure size 432x288 with 1 Axes>"
      ]
     },
     "metadata": {
      "needs_background": "light"
     },
     "output_type": "display_data"
    }
   ],
   "source": [
    "A_SSH = SSH_hamiltonian_periodic(50, 0)\n",
    "A_SSH1 = SSH_hamiltonian_periodic(50, 0.2)\n",
    "plt.plot(np.sort(np.linalg.eigvals(A_SSH)), \".\")\n",
    "plt.plot(np.sort(np.linalg.eigvals(A_SSH1)), \".\")"
   ]
  },
  {
   "cell_type": "code",
   "execution_count": 4,
   "id": "distinguished-surrey",
   "metadata": {},
   "outputs": [],
   "source": [
    "def corr_matrix(N1, Delta):\n",
    "    eps = 1e-15\n",
    "    eigenvalues, eigenvectors = np.linalg.eigh(SSH_hamiltonian_periodic(N1, Delta))\n",
    "    idx = eigenvalues.argsort()[::1]   \n",
    "    eigenvalues = eigenvalues[idx]\n",
    "    eigenvectors = eigenvectors[:,idx]\n",
    "    N = N1*2\n",
    "    Corr_matrix = np.zeros((N,N), dtype = \"complex\")    \n",
    "    for i in range(N):\n",
    "        for j in range(N):\n",
    "            for k in range(N//2):\n",
    "                Corr_matrix[i][j] += np.conjugate(eigenvectors[:,k][i])*(eigenvectors[:,k][j])\n",
    "    return Corr_matrix  "
   ]
  },
  {
   "cell_type": "code",
   "execution_count": 5,
   "id": "israeli-fabric",
   "metadata": {},
   "outputs": [
    {
     "data": {
      "text/plain": [
       "array([[ 1.11022302e-16+0.j, -5.00000000e-01+0.j],\n",
       "       [-5.00000000e-01+0.j,  0.00000000e+00+0.j]])"
      ]
     },
     "execution_count": 5,
     "metadata": {},
     "output_type": "execute_result"
    }
   ],
   "source": [
    "Numer = 2\n",
    "Delta1 = 0.5\n",
    "corr_matrix(Numer, Delta1)[Numer:Numer*2, 0:Numer]"
   ]
  },
  {
   "cell_type": "code",
   "execution_count": 7,
   "id": "multiple-textbook",
   "metadata": {},
   "outputs": [],
   "source": [
    "def corr_matrix_A(N1, Delta, NA):\n",
    "    eps = 1e-15\n",
    "    eigenvalues, eigenvectors = np.linalg.eigh(SSH_hamiltonian_periodic(N1, Delta))\n",
    "    idx = eigenvalues.argsort()[::1]   \n",
    "    eigenvalues = eigenvalues[idx]\n",
    "    eigenvectors = eigenvectors[:,idx]\n",
    "    N = N1*2\n",
    "    Num = NA*2\n",
    "    Corr_matrix = np.zeros((Num,Num), dtype = \"complex\")    \n",
    "    for i in range(Num):\n",
    "        for j in range(Num):\n",
    "            for k in range(N//2):\n",
    "                Corr_matrix[i][j] += np.conjugate(eigenvectors[:,k][i])*(eigenvectors[:,k][j])\n",
    "    return Corr_matrix "
   ]
  },
  {
   "cell_type": "code",
   "execution_count": 8,
   "id": "acting-parts",
   "metadata": {},
   "outputs": [],
   "source": [
    "def entang_entropy_A(N, Delta, NA):\n",
    "    CM = corr_matrix_A(N, Delta, NA)\n",
    "    S = 0.0\n",
    "    lambd = np.linalg.eigvalsh(CM)\n",
    "    for i in range(np.shape(CM)[0]):\n",
    "        if lambd[i] > 1e-14 and (1 - lambd[i]) > 1e-14:     \n",
    "            S -= lambd[i]*np.log(lambd[i]) + (1 - lambd[i])*np.log(1 - lambd[i])\n",
    "        else:\n",
    "            S -= 0\n",
    "    return S"
   ]
  },
  {
   "cell_type": "code",
   "execution_count": 9,
   "id": "cloudy-excuse",
   "metadata": {},
   "outputs": [],
   "source": [
    "def entang_entropy_A1(N, Delta, NA):\n",
    "    CM = corr_matrix_A(N, Delta, NA)\n",
    "    S = 0.0\n",
    "    lambd = np.linalg.eigvalsh(CM)\n",
    "    for i in range(np.shape(CM)[0]):  \n",
    "        S -= lambd[i]*np.log(lambd[i]) + (1 - lambd[i])*np.log(1 - lambd[i])\n",
    "    return(S)"
   ]
  },
  {
   "cell_type": "code",
   "execution_count": 10,
   "id": "bright-waters",
   "metadata": {
    "scrolled": true
   },
   "outputs": [
    {
     "name": "stdout",
     "output_type": "stream",
     "text": [
      "Duration: 0:00:04.005127\n"
     ]
    },
    {
     "data": {
      "image/png": "[encoded data removed]",
      "text/plain": [
       "<Figure size 432x288 with 1 Axes>"
      ]
     },
     "metadata": {
      "needs_background": "light"
     },
     "output_type": "display_data"
    }
   ],
   "source": [
    "M = 10\n",
    "N = 50\n",
    "NA = N//2 \n",
    "start_time = datetime.now()\n",
    "\n",
    "Delta = np.linspace(-1,1,M)\n",
    "Entropy_array = np.array([entang_entropy_A(N, Delta[i], NA) for i in range(M)])\n",
    "plt.plot(Delta, Entropy_array, \".\")\n",
    "plt.plot(Delta, np.ones(Delta.size)*2*np.log(2))\n",
    "\n",
    "end_time = datetime.now()\n",
    "print('Duration: {}'.format(end_time - start_time))"
   ]
  },
  {
   "cell_type": "markdown",
   "id": "coupled-madness",
   "metadata": {},
   "source": [
    "# FOURIER Transform"
   ]
  },
  {
   "cell_type": "code",
   "execution_count": 11,
   "id": "peaceful-bulgaria",
   "metadata": {},
   "outputs": [],
   "source": [
    "def u_func(k, Delta, N):\n",
    "    lambda1 = (1 - Delta) + (1 + Delta)*np.exp(-(2*np.pi/N)*1j*k)\n",
    "    s = np.sqrt(lambda1 / np.conjugate(lambda1))\n",
    "    u1 = -(1/np.sqrt(2))*np.array([-1, s]) \n",
    "    u2 = -(1/np.sqrt(2))*np.array([1, s])\n",
    "    return u1, u2 "
   ]
  },
  {
   "cell_type": "markdown",
   "id": "incorporated-wings",
   "metadata": {},
   "source": [
    "Почему u_func не работает? Надо пересчитать! Что там с блоховскими состояниями?"
   ]
  },
  {
   "cell_type": "code",
   "execution_count": 12,
   "id": "specific-darkness",
   "metadata": {},
   "outputs": [],
   "source": [
    "def u_func_new(k, Delta, N):\n",
    "    H = np.array([[0, (1 - Delta) + (1 + Delta)*np.exp(-(2*np.pi/N)*1j*k)],[(1 - Delta) + (1 + Delta)*np.exp((2*np.pi/N)*1j*k), 0]])\n",
    "    eigenvalues, eigenvectors = np.linalg.eigh(H)\n",
    "    idx = eigenvalues.argsort()[::1]   \n",
    "    eigenvalues = eigenvalues[idx]\n",
    "    eigenvectors = eigenvectors[:,idx]\n",
    "    return eigenvectors"
   ]
  },
  {
   "cell_type": "code",
   "execution_count": 13,
   "id": "lightweight-whale",
   "metadata": {},
   "outputs": [
    {
     "data": {
      "text/plain": [
       "array([[-0.70710678-0.j        , -0.70710678+0.j        ],\n",
       "       [ 0.35355339+0.61237244j, -0.35355339-0.61237244j]])"
      ]
     },
     "execution_count": 13,
     "metadata": {},
     "output_type": "execute_result"
    }
   ],
   "source": [
    "u_func_new(2, 0, 6)"
   ]
  },
  {
   "cell_type": "code",
   "execution_count": 14,
   "id": "referenced-parcel",
   "metadata": {},
   "outputs": [],
   "source": [
    "def corr_matrix_new(N1, Delta):\n",
    "    N = N1*2\n",
    "    eps = 1e-15\n",
    "    C = np.zeros((N,N),dtype = \"complex\")\n",
    "    for i in range(N):\n",
    "        for j in range(N):\n",
    "            for k in range(N//2):\n",
    "                    C[i][j] += (1/N1)*np.conjugate(u_func_new(k, Delta, N1)[:,0][i%2])*np.exp(-(2*np.pi/N1)*1j*k*(i//2 - j//2))*u_func_new(k, Delta, N1)[:,0][j%2]\n",
    "    return C"
   ]
  },
  {
   "cell_type": "code",
   "execution_count": 15,
   "id": "direct-glucose",
   "metadata": {},
   "outputs": [
    {
     "name": "stdout",
     "output_type": "stream",
     "text": [
      "[2.29795828e-07 2.29795828e-07 3.21659367e-03 3.21659367e-03\n",
      " 5.00000000e-01 5.00000000e-01 9.96783406e-01 9.96783406e-01\n",
      " 9.99999770e-01 9.99999770e-01]\n",
      "0.9999999999999986\n"
     ]
    }
   ],
   "source": [
    "C = corr_matrix_A(10, 0.05, 5)\n",
    "eigenvalues = np.linalg.eigvalsh(C)\n",
    "idx = eigenvalues.argsort()[::1]   \n",
    "eigenvalues = eigenvalues[idx]\n",
    "print(eigenvalues)\n",
    "print(eigenvalues[-3-1] + eigenvalues[3])"
   ]
  },
  {
   "cell_type": "code",
   "execution_count": 16,
   "id": "valid-courage",
   "metadata": {},
   "outputs": [],
   "source": [
    "def corr_matrix_A_new(N1, Delta, NA):\n",
    "    N = N1*2\n",
    "    Num = NA*2\n",
    "    eps = 1e-15\n",
    "    C = np.zeros((Num,Num),dtype = \"complex\")\n",
    "    for i in range(Num):\n",
    "        for j in range(Num):\n",
    "            for k in range(N//2):\n",
    "                    C[i][j] += (1/N1)*np.conjugate(u_func_new(k, Delta, N1)[:,0][i%2])*np.exp(-(2*np.pi/N1)*1j*k*(i//2 - j//2))*u_func_new(k, Delta, N1)[:,0][j%2]\n",
    "    return C"
   ]
  },
  {
   "cell_type": "code",
   "execution_count": 17,
   "id": "adaptive-reform",
   "metadata": {},
   "outputs": [],
   "source": [
    "def entang_entropy_A_new(N, Delta, NA):\n",
    "    CM = corr_matrix_A_new(N, Delta, NA)\n",
    "    S = 0.0\n",
    "    lambd = np.linalg.eigvalsh(CM)\n",
    "    for i in range(np.shape(CM)[0]):\n",
    "        if lambd[i] > 1e-14 and (1 - lambd[i]) > 1e-14:     \n",
    "            S -= lambd[i]*np.log(lambd[i]) + (1 - lambd[i])*np.log(1 - lambd[i])\n",
    "        else:\n",
    "            S -= 0\n",
    "    return(S)"
   ]
  },
  {
   "cell_type": "code",
   "execution_count": 18,
   "id": "medical-color",
   "metadata": {
    "scrolled": true
   },
   "outputs": [
    {
     "name": "stdout",
     "output_type": "stream",
     "text": [
      "Duration: 0:00:00.866809\n"
     ]
    },
    {
     "data": {
      "image/png": "[encoded data removed]",
      "text/plain": [
       "<Figure size 432x288 with 1 Axes>"
      ]
     },
     "metadata": {
      "needs_background": "light"
     },
     "output_type": "display_data"
    }
   ],
   "source": [
    "M = 10\n",
    "N = 10\n",
    "NA = N//2\n",
    "start_time = datetime.now()\n",
    "\n",
    "Delta = np.linspace(-1,1,M)\n",
    "Entropy_array_new = np.array([entang_entropy_A_new(N, Delta[i], NA) for i in range(M)])\n",
    "plt.plot(Delta, Entropy_array_new, \".\")\n",
    "plt.plot(Delta, np.ones(Delta.size)*2*np.log(2))\n",
    "\n",
    "end_time = datetime.now()\n",
    "print('Duration: {}'.format(end_time - start_time))"
   ]
  },
  {
   "cell_type": "code",
   "execution_count": 19,
   "id": "outside-blackjack",
   "metadata": {},
   "outputs": [
    {
     "name": "stdout",
     "output_type": "stream",
     "text": [
      "S old =  [-5.23391544e-16 -4.97914811e-16 -3.70224246e-16 -3.51218758e-16\n",
      " -3.01493660e-16 -2.38743418e-16 -1.97888462e-16 -1.53922413e-16\n",
      " -1.03857259e-16 -9.75506218e-17 -6.43654685e-17 -1.74359356e-18\n",
      "  2.53029130e-17  6.79349035e-17  1.06274189e-16  1.19095519e-16\n",
      "  1.79403206e-16  2.83508849e-16  2.92488284e-16  3.45218662e-16\n",
      "  6.93887087e-16  8.16081279e-16  3.00573026e-08  3.00573028e-08\n",
      "  5.00000000e-01  5.00000000e-01  9.99999970e-01  9.99999970e-01\n",
      "  1.00000000e+00  1.00000000e+00  1.00000000e+00  1.00000000e+00\n",
      "  1.00000000e+00  1.00000000e+00  1.00000000e+00  1.00000000e+00\n",
      "  1.00000000e+00  1.00000000e+00  1.00000000e+00  1.00000000e+00\n",
      "  1.00000000e+00  1.00000000e+00  1.00000000e+00  1.00000000e+00\n",
      "  1.00000000e+00  1.00000000e+00  1.00000000e+00  1.00000000e+00\n",
      "  1.00000000e+00  1.00000000e+00]\n",
      "S new =  [1. 1. 1. 1. 1. 1. 1. 1. 1. 1. 1. 1. 1. 1. 1. 1. 1. 1. 1. 1. 1. 1. 1. 1.\n",
      " 1.]\n"
     ]
    }
   ],
   "source": [
    "#symmetry of the correlation matrix A\n",
    "\n",
    "Num = 50\n",
    "\n",
    "Delta = 0.9\n",
    "S = corr_matrix_A(Num, Delta, Num//2)\n",
    "S_eigvals = np.linalg.eigvalsh(S)\n",
    "S_new = []\n",
    "for i in range(Num//2):\n",
    "    S_new.append(S_eigvals[i] + S_eigvals[-i-1])\n",
    "S_new = np.array(S_new)\n",
    "print(\"S old = \", S_eigvals)\n",
    "print(\"S new = \", S_new)"
   ]
  },
  {
   "cell_type": "code",
   "execution_count": 20,
   "id": "august-privilege",
   "metadata": {},
   "outputs": [],
   "source": [
    "def Z_n(n, alpha, eigenvalues, N1):\n",
    "    Z = 1.0\n",
    "    alpha = alpha*(2*np.pi/(N1+1))\n",
    "    Ns = eigenvalues.size\n",
    "    for m in range(Ns):\n",
    "        lam = eigenvalues[m]\n",
    "        Z *= ((lam**n)*np.exp(1j*alpha*(1 - lam)) + ((1 - lam)**n)*np.exp(-1j*alpha*lam))\n",
    "    return Z\n",
    "\n",
    "\n",
    "#real Z_N expression"
   ]
  },
  {
   "cell_type": "code",
   "execution_count": 21,
   "id": "hispanic-costume",
   "metadata": {},
   "outputs": [
    {
     "data": {
      "text/plain": [
       "'def Z_n_real(n, alpha, Delta, N1):\\n    #alpha goes from -pi to pi\\n    C = corr_matrix_A(N1, Delta)\\n    eigenvalues= np.linalg.eigvalsh(C)\\n    idx = eigenvalues.argsort()[::1]   \\n    eigenvalues = eigenvalues[idx]\\n    Z = 1.0\\n    for m in range(N1//2):\\n        lam = eigenvalues[m]\\n        Z *= (lam**(2*n) + (1 - lam)**(2*n) + 2*(lam**n)*((1 - lam)**n)*np.cos(alpha))\\n    return Z'"
      ]
     },
     "execution_count": 21,
     "metadata": {},
     "output_type": "execute_result"
    }
   ],
   "source": [
    "def eigval_corr_matrix(N1, Delta, NA):\n",
    "    C = corr_matrix_A(N1, Delta, NA)\n",
    "    eigenvalues= np.linalg.eigvalsh(C)\n",
    "    idx = eigenvalues.argsort()[::1]   \n",
    "    eigenvalues = eigenvalues[idx]\n",
    "    return eigenvalues\n",
    "\n",
    "def Z_n_real(n, alpha, eigenvalues, N1):\n",
    "    Z = 1.0\n",
    "    Ns = eigenvalues.size \n",
    "    alpha = alpha*(2*np.pi/(N1+1)) \n",
    "    for m in range(Ns//2):\n",
    "        lam = eigenvalues[m]\n",
    "        Z *= (lam**(2*n) + (1 - lam)**(2*n) + 2*(lam**n)*((1 - lam)**n)*np.cos(alpha))\n",
    "    return Z\n",
    "\n",
    "'''def Z_n_real(n, alpha, Delta, N1):\n",
    "    #alpha goes from -pi to pi\n",
    "    C = corr_matrix_A(N1, Delta)\n",
    "    eigenvalues= np.linalg.eigvalsh(C)\n",
    "    idx = eigenvalues.argsort()[::1]   \n",
    "    eigenvalues = eigenvalues[idx]\n",
    "    Z = 1.0\n",
    "    for m in range(N1//2):\n",
    "        lam = eigenvalues[m]\n",
    "        Z *= (lam**(2*n) + (1 - lam)**(2*n) + 2*(lam**n)*((1 - lam)**n)*np.cos(alpha))\n",
    "    return Z'''"
   ]
  },
  {
   "cell_type": "code",
   "execution_count": 22,
   "id": "wrapped-somerset",
   "metadata": {},
   "outputs": [
    {
     "data": {
      "text/plain": [
       "'N = 10\\nalpha_test = np.array([2*np.pi*j/N for j in range(N)])\\nDelta = 1\\ntyp = 1\\nZ_n_test = np.array(Z_n(typ, alpha_test[i], Delta, N) for i in range(N))\\nplt.plot(alpha_test, Z_n_test)'"
      ]
     },
     "execution_count": 22,
     "metadata": {},
     "output_type": "execute_result"
    }
   ],
   "source": [
    "'''N = 10\n",
    "alpha_test = np.array([2*np.pi*j/N for j in range(N)])\n",
    "Delta = 1\n",
    "typ = 1\n",
    "Z_n_test = np.array(Z_n(typ, alpha_test[i], Delta, N) for i in range(N))\n",
    "plt.plot(alpha_test, Z_n_test)'''"
   ]
  },
  {
   "cell_type": "code",
   "execution_count": 23,
   "id": "dutch-survival",
   "metadata": {},
   "outputs": [],
   "source": [
    "def log_Z_n(n, alpha, eigenvalues, N1):\n",
    "    #alpha goes from 0 to 2 pi\n",
    "    Z = 1.0\n",
    "    Ns = eigenvalues.size\n",
    "    alpha = alpha*(2*np.pi/(N1+1)) \n",
    "    for m in range(N1):\n",
    "        lam = eigenvalues[m]\n",
    "        Z += np.log(((lam**n)*np.exp(1j*alpha*(1 - lam)) + ((1 - lam)**n)*np.exp(-1j*alpha*lam)))\n",
    "    return Z"
   ]
  },
  {
   "cell_type": "code",
   "execution_count": 24,
   "id": "based-expression",
   "metadata": {},
   "outputs": [],
   "source": [
    "def log_Z_n_real(n, alpha, eigenvalues, N1):\n",
    "    #alpha goes from 0 to 2 pi\n",
    "    Z = 1.0\n",
    "    Ns = eigenvalues.size\n",
    "    alpha = alpha*(2*np.pi/(N1+1)) \n",
    "    for m in range(N1//2):\n",
    "        lam = eigenvalues[m]\n",
    "        Z += np.log(lam**(2*n) + (1 - lam)**(2*n) + 2*(lam**n)*((1 - lam)**n)*np.cos(alpha))\n",
    "    return Z"
   ]
  },
  {
   "cell_type": "code",
   "execution_count": 25,
   "id": "satisfactory-workplace",
   "metadata": {},
   "outputs": [],
   "source": [
    "N_cells = 50\n",
    "N  = N_cells + 1\n",
    "type_num = 1\n",
    "\n",
    "Delta_array = np.array([-1, 1,-0.5, 0.5, -0.2, 0.2, -0.1, 0.1, -0.05, 0.05,-0.02, 0.02, -0.01, 0.01, 0])\n",
    "alpha_array =  np.array([i for i in range(N)])"
   ]
  },
  {
   "cell_type": "code",
   "execution_count": 26,
   "id": "pressing-major",
   "metadata": {},
   "outputs": [
    {
     "name": "stdout",
     "output_type": "stream",
     "text": [
      "[ 0  1  2  3  4  5  6  7  8  9 10 11 12 13 14 15 16 17 18 19 20 21 22 23\n",
      " 24 25 26 27 28 29 30 31 32 33 34 35 36 37 38 39 40 41 42 43 44 45 46 47\n",
      " 48 49 50]\n"
     ]
    }
   ],
   "source": [
    "print(alpha_array) \n",
    "#do not count 0 2pi twice FOR ALPHA AND FOR Q"
   ]
  },
  {
   "cell_type": "code",
   "execution_count": 27,
   "id": "cardiac-episode",
   "metadata": {},
   "outputs": [
    {
     "name": "stdout",
     "output_type": "stream",
     "text": [
      "Duration: 0:00:00.005981\n"
     ]
    },
    {
     "data": {
      "text/plain": [
       "<matplotlib.legend.Legend at 0x1cee347d688>"
      ]
     },
     "execution_count": 27,
     "metadata": {},
     "output_type": "execute_result"
    },
    {
     "data": {
      "image/png": "[encoded data removed]",
      "text/plain": [
       "<Figure size 432x288 with 1 Axes>"
      ]
     },
     "metadata": {
      "needs_background": "light"
     },
     "output_type": "display_data"
    }
   ],
   "source": [
    "A = eigval_corr_matrix(N_cells, Delta_array[1], N_cells//2)\n",
    "\n",
    "start_time = datetime.now()\n",
    "\n",
    "Z_n_array0 = np.array([Z_n_real(type_num, alpha_array[i], A, N_cells) for i in range(N)])\n",
    "\n",
    "end_time = datetime.now()\n",
    "print('Duration: {}'.format(end_time - start_time))\n",
    "\n",
    "plt.plot(alpha_array*(2*np.pi/N), np.cos(alpha_array*(np.pi/N))**2, label = \"theoretical\")\n",
    "plt.plot(alpha_array*(2*np.pi/N), Z_n_array0, label = \"numerical\")\n",
    "plt.legend()"
   ]
  },
  {
   "cell_type": "code",
   "execution_count": 28,
   "id": "proper-location",
   "metadata": {},
   "outputs": [],
   "source": [
    "Corr_matrix_eigvals = []\n",
    "for i in range(Delta_array.size):\n",
    "    Corr_matrix_eigvals.append(eigval_corr_matrix(N_cells, Delta_array[i], N_cells//2))"
   ]
  },
  {
   "cell_type": "code",
   "execution_count": 29,
   "id": "split-share",
   "metadata": {},
   "outputs": [],
   "source": [
    "Z_n_array = []\n",
    "for j in range(Delta_array.size):\n",
    "    Z_n_array.append(np.array([Z_n_real(type_num, alpha_array[i], Corr_matrix_eigvals[j], N_cells) for i in range(N)]))"
   ]
  },
  {
   "cell_type": "code",
   "execution_count": 30,
   "id": "legislative-casting",
   "metadata": {
    "scrolled": true
   },
   "outputs": [
    {
     "data": {
      "text/plain": [
       "Text(0.5, 1.0, '$\\\\delta$ = 1, N =51')"
      ]
     },
     "execution_count": 30,
     "metadata": {},
     "output_type": "execute_result"
    },
    {
     "data": {
      "image/png": "[encoded data removed]",
      "text/plain": [
       "<Figure size 432x288 with 1 Axes>"
      ]
     },
     "metadata": {
      "needs_background": "light"
     },
     "output_type": "display_data"
    }
   ],
   "source": [
    "# For delta = 1\n",
    "\n",
    "plt.plot(alpha_array*(2*np.pi/N), Z_n_array[1], label = \"numerical\") #numerical result \n",
    "plt.plot(alpha_array*(2*np.pi/N), np.cos(alpha_array*(np.pi/N))**2, label = \"theoretical\") #theoretical result\n",
    "plt.legend()\n",
    "plt.title(\"$\\delta$ = 1, N =\" + str(N))"
   ]
  },
  {
   "cell_type": "code",
   "execution_count": 31,
   "id": "communist-vermont",
   "metadata": {
    "scrolled": true
   },
   "outputs": [
    {
     "data": {
      "image/png": "[encoded data removed]",
      "text/plain": [
       "<Figure size 432x288 with 1 Axes>"
      ]
     },
     "metadata": {
      "needs_background": "light"
     },
     "output_type": "display_data"
    }
   ],
   "source": [
    "for i in range(4):\n",
    "    plt.plot(alpha_array*(2*np.pi/N), Z_n_array[i], label = \"Delta = \" + str(Delta_array[i]))\n",
    "    plt.legend()\n",
    "    plt.title(\"$Z_1$, N = \" + str(N))"
   ]
  },
  {
   "cell_type": "code",
   "execution_count": 32,
   "id": "romance-missile",
   "metadata": {
    "scrolled": false
   },
   "outputs": [
    {
     "data": {
      "image/png": "[encoded data removed]",
      "text/plain": [
       "<Figure size 432x288 with 1 Axes>"
      ]
     },
     "metadata": {
      "needs_background": "light"
     },
     "output_type": "display_data"
    }
   ],
   "source": [
    "for i in range(4,Delta_array.size):\n",
    "    plt.plot(alpha_array*(2*np.pi/N), Z_n_array[i], label = \"Delta = \" + str(Delta_array[i]))\n",
    "    plt.legend()\n",
    "    plt.title(\"$Z_1$, N = \" + str(N))"
   ]
  },
  {
   "cell_type": "code",
   "execution_count": 33,
   "id": "deadly-ukraine",
   "metadata": {},
   "outputs": [],
   "source": [
    "N_cells = 50\n",
    "N  = N_cells + 1\n",
    "typ = 2\n",
    "\n",
    "log_Z_n_array = []\n",
    "for j in range(Delta_array.size):\n",
    "    log_Z_n_array.append(np.array([log_Z_n_real(typ, alpha_array[i], Corr_matrix_eigvals[j], N_cells) for i in range(N)]))"
   ]
  },
  {
   "cell_type": "code",
   "execution_count": 34,
   "id": "regional-retention",
   "metadata": {
    "scrolled": true
   },
   "outputs": [
    {
     "data": {
      "image/png": "[encoded data removed]",
      "text/plain": [
       "<Figure size 432x288 with 1 Axes>"
      ]
     },
     "metadata": {
      "needs_background": "light"
     },
     "output_type": "display_data"
    }
   ],
   "source": [
    "for i in range(Delta_array.size//2):\n",
    "    plt.plot(alpha_array*(2*np.pi/N), log_Z_n_array[i], label = \"Delta = \" + str(Delta_array[i]))\n",
    "    plt.legend()\n",
    "    plt.title(\"$Z_1$, N = \" + str(N))"
   ]
  },
  {
   "cell_type": "code",
   "execution_count": 35,
   "id": "victorian-canyon",
   "metadata": {
    "scrolled": false
   },
   "outputs": [
    {
     "data": {
      "image/png": "[encoded data removed]",
      "text/plain": [
       "<Figure size 432x288 with 1 Axes>"
      ]
     },
     "metadata": {
      "needs_background": "light"
     },
     "output_type": "display_data"
    }
   ],
   "source": [
    "for i in range(Delta_array.size//2,Delta_array.size):\n",
    "    plt.plot(alpha_array*(2*np.pi/N), log_Z_n_array[i], label = \"Delta = \" + str(Delta_array[i]))\n",
    "    plt.legend()\n",
    "    plt.title(\"$Z_1$, N = \" + str(N))"
   ]
  },
  {
   "cell_type": "code",
   "execution_count": 36,
   "id": "physical-stereo",
   "metadata": {},
   "outputs": [],
   "source": [
    "def DFT(array):\n",
    "#N should be even, if N is odd, you need to change to np.concatenate((array_k[N//2:N], array_k[0:N//2])\n",
    "    N = array.size\n",
    "    array_k = np.zeros(N)\n",
    "    for k in range(N):\n",
    "        for i in range(N):\n",
    "            array_k[k] += (1/np.sqrt(N))*(array[i]*np.cos(2*np.pi*k*i/(N)))\n",
    "    return np.concatenate((array_k[(N//2+1):N], array_k[0:(N//2+1)]))"
   ]
  },
  {
   "cell_type": "code",
   "execution_count": 37,
   "id": "embedded-glance",
   "metadata": {},
   "outputs": [
    {
     "data": {
      "text/plain": [
       "'def DFT_half1(array):\\n    N = array.size\\n    array_k = np.zeros(N)\\n    for k in range(-N//2 + 1,N//2 + 1):\\n        array_k[k] = array[0]/(np.sqrt(N))\\n        for i in range(1,N//2 + 1):\\n            array_k[k] += 2*(1/np.sqrt(N))*(array[i]*np.cos(2*np.pi*k*i/(N)))\\n    return np.concatenate((array_k[(N//2+1):N], array_k[0:(N//2+1)]))'"
      ]
     },
     "execution_count": 37,
     "metadata": {},
     "output_type": "execute_result"
    }
   ],
   "source": [
    "'''def DFT_half1(array):\n",
    "    N = array.size\n",
    "    array_k = np.zeros(N)\n",
    "    for k in range(-N//2 + 1,N//2 + 1):\n",
    "        array_k[k] = array[0]/(np.sqrt(N))\n",
    "        for i in range(1,N//2 + 1):\n",
    "            array_k[k] += 2*(1/np.sqrt(N))*(array[i]*np.cos(2*np.pi*k*i/(N)))\n",
    "    return np.concatenate((array_k[(N//2+1):N], array_k[0:(N//2+1)]))'''"
   ]
  },
  {
   "cell_type": "code",
   "execution_count": 38,
   "id": "acoustic-first",
   "metadata": {},
   "outputs": [],
   "source": [
    "def DFT_half(array_half):\n",
    "    N = (array_half.size)*2 - 1\n",
    "    array_k = np.zeros(N)\n",
    "    for k in range(-N//2 + 1,N//2 + 1):\n",
    "        array_k[k] = array_half[0]/(np.sqrt(N))\n",
    "        for i in range(1,N//2 + 1):\n",
    "            array_k[k] += 2*(1/np.sqrt(N))*(array_half[i]*np.cos(2*np.pi*k*i/(N)))\n",
    "    return np.concatenate((array_k[(N//2+1):N], array_k[0:(N//2+1)]))"
   ]
  },
  {
   "cell_type": "code",
   "execution_count": 39,
   "id": "theoretical-stephen",
   "metadata": {},
   "outputs": [
    {
     "data": {
      "text/plain": [
       "True"
      ]
     },
     "execution_count": 39,
     "metadata": {},
     "output_type": "execute_result"
    }
   ],
   "source": [
    "np.allclose(DFT_half(Z_n_array[1][0:(Z_n_array[1].size//2 + 1)]), DFT(Z_n_array[1]))"
   ]
  },
  {
   "cell_type": "code",
   "execution_count": 40,
   "id": "close-curve",
   "metadata": {},
   "outputs": [
    {
     "name": "stdout",
     "output_type": "stream",
     "text": [
      "half  [ 7.20367640e-17  1.35142413e-16 -3.07066384e-16  8.14757604e-16\n",
      "  6.72422187e-16  7.33462770e-17  1.00287346e-15  5.79641586e-16\n",
      "  7.33191719e-17 -6.84754987e-16 -9.44069042e-17 -8.46219796e-17\n",
      "  1.14364356e-15  4.21131229e-16  2.71646854e-16  3.05880538e-16\n",
      "  1.72008675e-16  1.71222628e-16  2.22532496e-16  4.36499795e-16\n",
      "  2.19388310e-16 -1.68051337e-17  2.39500260e-16 -3.03956079e-16\n",
      "  1.78535711e+00  3.57071421e+00  1.78535711e+00 -3.03956079e-16\n",
      "  2.39500260e-16 -1.68051337e-17  2.19388310e-16  4.36499795e-16\n",
      "  2.22532496e-16  1.71222628e-16  1.72008675e-16  3.05880538e-16\n",
      "  2.71646854e-16  4.21131229e-16  1.14364356e-15 -8.46219796e-17\n",
      " -9.44069042e-17 -6.84754987e-16  7.33191719e-17  5.79641586e-16\n",
      "  1.00287346e-15  7.33462770e-17  6.72422187e-16  8.14757604e-16\n",
      " -3.07066384e-16  1.35142413e-16  7.20367640e-17]\n",
      "full [-4.71844785e-16 -4.27435864e-15  4.16333634e-16  6.05071548e-15\n",
      "  3.78863607e-15 -1.38777878e-17 -7.21644966e-15  2.67841305e-15\n",
      " -3.91353616e-15  1.12410081e-15 -1.00613962e-15  5.10008702e-15\n",
      "  4.38711567e-15  8.47412418e-15  6.24500451e-16 -9.29117894e-15\n",
      "  2.84494650e-16  5.20417043e-15  1.18655086e-14  8.32667268e-16\n",
      "  4.71844785e-15 -7.59114993e-15 -3.38618023e-15  2.41473508e-14\n",
      "  1.78535711e+00  3.57071421e+00  1.78535711e+00 -3.33066907e-16\n",
      "  3.05311332e-16  6.93889390e-17 -6.66133815e-16  4.99600361e-16\n",
      "  8.04911693e-16 -3.74700271e-16  4.71844785e-16 -2.70616862e-16\n",
      " -1.05471187e-15  1.61849700e-15  3.20923843e-17 -1.54043445e-15\n",
      "  3.26128013e-16  1.03389519e-15  1.92901251e-15 -6.93889390e-17\n",
      " -3.74700271e-16 -2.20656826e-15 -1.97064587e-15 -2.63677968e-15\n",
      "  2.60902411e-15  9.15933995e-16  2.77555756e-16]\n"
     ]
    },
    {
     "data": {
      "text/plain": [
       "True"
      ]
     },
     "execution_count": 40,
     "metadata": {},
     "output_type": "execute_result"
    }
   ],
   "source": [
    "print(\"half \", DFT_half(Z_n_array[1][0:(N//2 + 1)]))\n",
    "print(\"full\",  DFT(Z_n_array[1]))\n",
    "\n",
    "np.allclose(DFT(Z_n_array[1]), DFT_half(Z_n_array[1][0:(N//2 + 1)]))"
   ]
  },
  {
   "cell_type": "code",
   "execution_count": 41,
   "id": "stretch-slovenia",
   "metadata": {},
   "outputs": [],
   "source": [
    "q_array = np.array([i for i in range(N)])"
   ]
  },
  {
   "cell_type": "code",
   "execution_count": 42,
   "id": "forty-newark",
   "metadata": {},
   "outputs": [
    {
     "data": {
      "text/plain": [
       "Text(0.5, 1.0, '$Z_1 (q)$, $N$ = 50')"
      ]
     },
     "execution_count": 42,
     "metadata": {},
     "output_type": "execute_result"
    },
    {
     "data": {
      "image/png": "[encoded data removed]",
      "text/plain": [
       "<Figure size 432x288 with 1 Axes>"
      ]
     },
     "metadata": {
      "needs_background": "light"
     },
     "output_type": "display_data"
    }
   ],
   "source": [
    "plt.plot(q_array, DFT_half(Z_n_array[0][0:(N//2 + 1)]), \".\", label = \"Delta = \" + str(Delta_array[0]))\n",
    "plt.legend()\n",
    "plt.title(\"$Z_1 (q)$, $N$ = \" + str(N_cells))"
   ]
  },
  {
   "cell_type": "code",
   "execution_count": 43,
   "id": "selective-cylinder",
   "metadata": {},
   "outputs": [
    {
     "name": "stdout",
     "output_type": "stream",
     "text": [
      "Z_N_array, delta = 1.0\n",
      "[1.00000000e+00 9.96210255e-01 9.84898468e-01 9.66236115e-01\n",
      " 9.40506097e-01 9.08098456e-01 8.69504459e-01 8.25309150e-01\n",
      " 7.76182486e-01 7.22869178e-01 6.66177400e-01 6.06966542e-01\n",
      " 5.46134180e-01 4.84602471e-01 4.23304173e-01 3.63168505e-01\n",
      " 3.05107063e-01 2.50000000e-01 1.98682682e-01 1.51933027e-01\n",
      " 1.10459713e-01 7.48914321e-02 4.57673641e-02 2.35289998e-02\n",
      " 8.51345016e-03 9.48335631e-04 9.48335631e-04 8.51345016e-03\n",
      " 2.35289998e-02 4.57673641e-02 7.48914321e-02 1.10459713e-01\n",
      " 1.51933027e-01 1.98682682e-01 2.50000000e-01 3.05107063e-01\n",
      " 3.63168505e-01 4.23304173e-01 4.84602471e-01 5.46134180e-01\n",
      " 6.06966542e-01 6.66177400e-01 7.22869178e-01 7.76182486e-01\n",
      " 8.25309150e-01 8.69504459e-01 9.08098456e-01 9.40506097e-01\n",
      " 9.66236115e-01 9.84898468e-01 9.96210255e-01]\n"
     ]
    },
    {
     "data": {
      "image/png": "[encoded data removed]",
      "text/plain": [
       "<Figure size 432x288 with 1 Axes>"
      ]
     },
     "metadata": {
      "needs_background": "light"
     },
     "output_type": "display_data"
    }
   ],
   "source": [
    "plt.plot(q_array, DFT(Z_n_array[1]), \".\", label = \"Delta = \" + str(Delta_array[1]))\n",
    "plt.legend()\n",
    "plt.title(\"$Z_1 (q)$, $N$ = \" + str(N_cells))\n",
    "print(\"Z_N_array, delta = \" + str(Delta_array[1]), Z_n_array[1], sep = \"\\n\")"
   ]
  },
  {
   "cell_type": "code",
   "execution_count": 44,
   "id": "associate-tuition",
   "metadata": {},
   "outputs": [],
   "source": [
    "def IDFT(array):\n",
    "    N = array.size\n",
    "    array = np.concatenate((array[(N//2):N], array[0:(N//2)]))\n",
    "    array_k = np.zeros(N)\n",
    "    for k in range(0,N):\n",
    "        for i in range(0,N):\n",
    "            array_k[k] += (1/(np.sqrt(N)))*(array[i]*np.cos(2*np.pi*k*i/N))\n",
    "    return array_k"
   ]
  },
  {
   "cell_type": "code",
   "execution_count": 46,
   "id": "utility-melissa",
   "metadata": {},
   "outputs": [
    {
     "data": {
      "text/plain": [
       "[<matplotlib.lines.Line2D at 0x1cee399ff88>]"
      ]
     },
     "execution_count": 46,
     "metadata": {},
     "output_type": "execute_result"
    },
    {
     "data": {
      "image/png": "[encoded data removed]",
      "text/plain": [
       "<Figure size 432x288 with 1 Axes>"
      ]
     },
     "metadata": {
      "needs_background": "light"
     },
     "output_type": "display_data"
    }
   ],
   "source": [
    "plt.plot(alpha_array, IDFT(DFT_half(Z_n_array[1][0:(N//2+1)])))"
   ]
  },
  {
   "cell_type": "code",
   "execution_count": 47,
   "id": "statewide-cholesterol",
   "metadata": {},
   "outputs": [
    {
     "data": {
      "image/png": "[encoded data removed]",
      "text/plain": [
       "<Figure size 432x288 with 1 Axes>"
      ]
     },
     "metadata": {
      "needs_background": "light"
     },
     "output_type": "display_data"
    }
   ],
   "source": [
    "for i in range(Delta_array.size//2):\n",
    "    plt.plot(q_array, DFT(Z_n_array[i]), label = \"Delta = \" + str(Delta_array[i]))\n",
    "    plt.legend()\n",
    "    plt.title(\"$Z_1 (q)$, N = \" + str(N))"
   ]
  },
  {
   "cell_type": "code",
   "execution_count": 48,
   "id": "accepting-plumbing",
   "metadata": {
    "scrolled": true
   },
   "outputs": [
    {
     "data": {
      "image/png": "[encoded data removed]",
      "text/plain": [
       "<Figure size 432x288 with 1 Axes>"
      ]
     },
     "metadata": {
      "needs_background": "light"
     },
     "output_type": "display_data"
    }
   ],
   "source": [
    "for i in range(Delta_array.size//2, Delta_array.size):\n",
    "    plt.plot(q_array[q_array.size//2:q_array.size], DFT(Z_n_array[i])[q_array.size//2:q_array.size], label = \"Delta = \" + str(Delta_array[i]))\n",
    "    plt.legend()\n",
    "    plt.title(\"$Z_1 (q)$, N = \" + str(N))\n",
    "plt.rcParams[\"figure.figsize\"] = (8,5.5)"
   ]
  },
  {
   "cell_type": "code",
   "execution_count": 49,
   "id": "living-latitude",
   "metadata": {},
   "outputs": [
    {
     "data": {
      "text/plain": [
       "Text(0.5, 1.0, '$Z_1 (q)$, N = 51')"
      ]
     },
     "execution_count": 49,
     "metadata": {},
     "output_type": "execute_result"
    },
    {
     "data": {
      "image/png": "[encoded data removed]",
      "text/plain": [
       "<Figure size 576x396 with 1 Axes>"
      ]
     },
     "metadata": {
      "needs_background": "light"
     },
     "output_type": "display_data"
    }
   ],
   "source": [
    "plt.plot(q_array[q_array.size//2:q_array.size], DFT(Z_n_array[5])[q_array.size//2:q_array.size], \".\", label = \"Delta = \" + str(Delta_array[5]))\n",
    "plt.legend()\n",
    "plt.title(\"$Z_1 (q)$, N = \" + str(N))"
   ]
  },
  {
   "cell_type": "markdown",
   "id": "ordinary-experience",
   "metadata": {},
   "source": [
    "# Logarithm of $Z_1$ (q)"
   ]
  },
  {
   "cell_type": "markdown",
   "id": "afraid-darkness",
   "metadata": {},
   "source": [
    "## N dependence"
   ]
  },
  {
   "cell_type": "markdown",
   "id": "decreased-abuse",
   "metadata": {},
   "source": [
    "### $\\delta$ = 0.01 "
   ]
  },
  {
   "cell_type": "code",
   "execution_count": 50,
   "id": "structured-kitty",
   "metadata": {},
   "outputs": [
    {
     "name": "stdout",
     "output_type": "stream",
     "text": [
      "1.2664165549094176e-14\n"
     ]
    }
   ],
   "source": [
    "print(np.exp(-32))"
   ]
  },
  {
   "cell_type": "code",
   "execution_count": 51,
   "id": "desperate-color",
   "metadata": {},
   "outputs": [],
   "source": [
    "def critical_length(delta):\n",
    "    f = 1/np.log((1 + delta)/(1 - delta))\n",
    "    return [f , math.ceil(f/2.)*2]"
   ]
  },
  {
   "cell_type": "code",
   "execution_count": 52,
   "id": "theoretical-angle",
   "metadata": {},
   "outputs": [
    {
     "data": {
      "text/plain": [
       "[0.9102392266268373, 2]"
      ]
     },
     "execution_count": 52,
     "metadata": {},
     "output_type": "execute_result"
    }
   ],
   "source": [
    "critical_length(0.5)"
   ]
  },
  {
   "cell_type": "code",
   "execution_count": 53,
   "id": "tired-original",
   "metadata": {},
   "outputs": [],
   "source": [
    "N_cells0 = 4\n",
    "N0  = N_cells0 + 1\n",
    "type_num = 1\n",
    "\n",
    "Delta = 0.01\n",
    "alpha_array0 =  np.array([i for i in range(N0)])\n",
    "\n",
    "A0 = eigval_corr_matrix(N_cells0, Delta, N_cells0//2)\n",
    "Z_n_array0 = np.array([Z_n_real(type_num, alpha_array0[i], A0, N_cells0) for i in range(N0//2 + 1)])\n",
    "q_array0 = np.array([i for i in range(N0)])"
   ]
  },
  {
   "cell_type": "code",
   "execution_count": 54,
   "id": "convertible-championship",
   "metadata": {},
   "outputs": [],
   "source": [
    "N_cells1 = 6\n",
    "N1  = N_cells1 + 1\n",
    "type_num = 1\n",
    "\n",
    "Delta = 0.01\n",
    "alpha_array1 =  np.array([i for i in range(N1)])\n",
    "\n",
    "A1 = eigval_corr_matrix(N_cells1, Delta, N_cells1//2)\n",
    "Z_n_array1 = np.array([Z_n_real(type_num, alpha_array1[i], A1, N_cells1) for i in range(N1//2 + 1)])\n",
    "q_array1 = np.array([i for i in range(N1)])"
   ]
  },
  {
   "cell_type": "code",
   "execution_count": 55,
   "id": "sunset-parks",
   "metadata": {},
   "outputs": [],
   "source": [
    "N_cells2 = 10\n",
    "N2  = N_cells2 + 1\n",
    "type_num = 1\n",
    "\n",
    "Delta = 0.01\n",
    "alpha_array2 =  np.array([i for i in range(N2)])\n",
    "\n",
    "A2 = eigval_corr_matrix(N_cells2, Delta, N_cells2//2)\n",
    "Z_n_array2 = np.array([Z_n_real(type_num, alpha_array2[i], A2, N_cells2) for i in range(N2//2 + 1)])\n",
    "q_array2 = np.array([i for i in range(N2)])"
   ]
  },
  {
   "cell_type": "code",
   "execution_count": 56,
   "id": "internal-livestock",
   "metadata": {},
   "outputs": [],
   "source": [
    "N_cells3 = 20\n",
    "N3  = N_cells3 + 1\n",
    "type_num = 1\n",
    "\n",
    "Delta = 0.01\n",
    "alpha_array3 =  np.array([i for i in range(N3)])\n",
    "\n",
    "A3 = eigval_corr_matrix(N_cells3, Delta,N_cells3//2)\n",
    "Z_n_array3 = np.array([Z_n_real(type_num, alpha_array3[i], A3, N_cells3) for i in range(N3//2 + 1)])\n",
    "q_array3 = np.array([i for i in range(N3)])"
   ]
  },
  {
   "cell_type": "code",
   "execution_count": 57,
   "id": "provincial-workstation",
   "metadata": {},
   "outputs": [
    {
     "name": "stdout",
     "output_type": "stream",
     "text": [
      "Duration: 0:00:00.442856\n"
     ]
    }
   ],
   "source": [
    "N_cells4 = 50\n",
    "N4  = N_cells4 + 1\n",
    "type_num = 1\n",
    "\n",
    "Delta = 0.01\n",
    "alpha_array4 =  np.array([i for i in range(N4)])\n",
    "\n",
    "from datetime import datetime\n",
    "start_time = datetime.now()\n",
    "A4 = eigval_corr_matrix(N_cells4, Delta,N_cells4//2)\n",
    "\n",
    "Z_n_array4 = np.array([Z_n_real(type_num, alpha_array4[i], A4, N_cells4) for i in range(N4//2 + 1)])\n",
    "q_array4 = np.array([i for i in range(N4)])\n",
    "\n",
    "end_time = datetime.now()\n",
    "print('Duration: {}'.format(end_time - start_time))"
   ]
  },
  {
   "cell_type": "code",
   "execution_count": 58,
   "id": "excessive-stupid",
   "metadata": {},
   "outputs": [
    {
     "name": "stdout",
     "output_type": "stream",
     "text": [
      "Duration: 0:00:25.601633\n"
     ]
    }
   ],
   "source": [
    "N_cells5 = 200\n",
    "N5  = N_cells5 + 1\n",
    "type_num = 1\n",
    "\n",
    "Delta = 0.01\n",
    "alpha_array5 =  np.array([i for i in range(N5)])\n",
    "\n",
    "from datetime import datetime\n",
    "start_time = datetime.now()\n",
    "A5 = eigval_corr_matrix(N_cells5, Delta, N_cells5//2)\n",
    "\n",
    "Z_n_array5 = np.array([Z_n_real(type_num, alpha_array5[i], A5, N_cells5) for i in range(N5//2 + 1)])\n",
    "q_array5 = np.array([i for i in range(N5)])\n",
    "\n",
    "end_time = datetime.now()\n",
    "print('Duration: {}'.format(end_time - start_time))"
   ]
  },
  {
   "cell_type": "code",
   "execution_count": 59,
   "id": "adjustable-paris",
   "metadata": {},
   "outputs": [
    {
     "name": "stdout",
     "output_type": "stream",
     "text": [
      "Duration: 0:01:29.552059\n"
     ]
    }
   ],
   "source": [
    "N_cells6 = 300\n",
    "N6  = N_cells6 + 1\n",
    "type_num = 1\n",
    "\n",
    "Delta = 0.01\n",
    "alpha_array6 =  np.array([i for i in range(N6)])\n",
    "\n",
    "from datetime import datetime\n",
    "start_time = datetime.now()\n",
    "A6 = eigval_corr_matrix(N_cells6, Delta, N_cells6//2)\n",
    "\n",
    "Z_n_array6 = np.array([Z_n_real(type_num, alpha_array6[i], A6, N_cells6) for i in range(N6//2 + 1)])\n",
    "q_array6 = np.array([i for i in range(N6)])\n",
    "\n",
    "\n",
    "end_time = datetime.now()\n",
    "print('Duration: {}'.format(end_time - start_time))"
   ]
  },
  {
   "cell_type": "code",
   "execution_count": 60,
   "id": "premier-entertainment",
   "metadata": {},
   "outputs": [
    {
     "name": "stdout",
     "output_type": "stream",
     "text": [
      "Duration: 0:03:40.828298\n"
     ]
    }
   ],
   "source": [
    "N_cells7 = 400\n",
    "N7 = N_cells7 + 1\n",
    "type_num = 1\n",
    "\n",
    "Delta = 0.01\n",
    "alpha_array7 =  np.array([i for i in range(N7)])\n",
    "\n",
    "from datetime import datetime\n",
    "start_time = datetime.now()\n",
    "A7 = eigval_corr_matrix(N_cells7, Delta, N_cells7//2)\n",
    "\n",
    "Z_n_array7 = np.array([Z_n_real(type_num, alpha_array7[i], A7, N_cells7) for i in range(N7//2 + 1)])\n",
    "q_array7 = np.array([i for i in range(N7)])\n",
    "\n",
    "\n",
    "end_time = datetime.now()\n",
    "print('Duration: {}'.format(end_time - start_time))"
   ]
  },
  {
   "cell_type": "code",
   "execution_count": 61,
   "id": "right-final",
   "metadata": {},
   "outputs": [
    {
     "name": "stdout",
     "output_type": "stream",
     "text": [
      "Duration: 0:00:00.005985\n",
      "Duration: 0:00:00.093017\n"
     ]
    },
    {
     "name": "stderr",
     "output_type": "stream",
     "text": [
      "C:\\Users\\MI\\Anaconda3\\lib\\site-packages\\ipykernel_launcher.py:7: RuntimeWarning: invalid value encountered in log\n",
      "  import sys\n",
      "C:\\Users\\MI\\Anaconda3\\lib\\site-packages\\ipykernel_launcher.py:10: RuntimeWarning: invalid value encountered in log\n",
      "  # Remove the CWD from sys.path while we load stuff.\n",
      "C:\\Users\\MI\\Anaconda3\\lib\\site-packages\\ipykernel_launcher.py:16: RuntimeWarning: invalid value encountered in log\n",
      "  app.launch_new_instance()\n",
      "C:\\Users\\MI\\Anaconda3\\lib\\site-packages\\ipykernel_launcher.py:21: RuntimeWarning: invalid value encountered in log\n"
     ]
    },
    {
     "name": "stdout",
     "output_type": "stream",
     "text": [
      "Duration: 0:00:00.169056\n",
      "Duration: 0:00:00.313208\n"
     ]
    },
    {
     "name": "stderr",
     "output_type": "stream",
     "text": [
      "C:\\Users\\MI\\Anaconda3\\lib\\site-packages\\ipykernel_launcher.py:26: RuntimeWarning: invalid value encountered in log\n"
     ]
    }
   ],
   "source": [
    "Log_Zq_0 = np.log(DFT_half(Z_n_array0)[q_array0.size//2:q_array0.size])\n",
    "\n",
    "Log_Zq_1 = np.log(DFT_half(Z_n_array1)[q_array1.size//2:q_array1.size])\n",
    "\n",
    "Log_Zq_2 = np.log(DFT_half(Z_n_array2)[q_array2.size//2:q_array2.size])\n",
    "\n",
    "Log_Zq_3 = np.log(DFT_half(Z_n_array3)[q_array3.size//2:q_array3.size])\n",
    "\n",
    "start_time = datetime.now()\n",
    "Log_Zq_4 = np.log(DFT_half(Z_n_array4)[q_array4.size//2:q_array4.size])\n",
    "end_time = datetime.now()\n",
    "print('Duration: {}'.format(end_time - start_time))\n",
    "\n",
    "\n",
    "start_time = datetime.now()\n",
    "Log_Zq_5 = np.log(DFT_half(Z_n_array5)[q_array5.size//2:q_array5.size])\n",
    "end_time = datetime.now()\n",
    "print('Duration: {}'.format(end_time - start_time))\n",
    "\n",
    "start_time = datetime.now()\n",
    "Log_Zq_6 = np.log(DFT_half(Z_n_array6)[q_array6.size//2:q_array6.size]) \n",
    "end_time = datetime.now()\n",
    "print('Duration: {}'.format(end_time - start_time))\n",
    "\n",
    "start_time = datetime.now()\n",
    "Log_Zq_7 = np.log(DFT_half(Z_n_array7)[q_array7.size//2:q_array7.size]) \n",
    "end_time = datetime.now()\n",
    "print('Duration: {}'.format(end_time - start_time))"
   ]
  },
  {
   "cell_type": "code",
   "execution_count": 62,
   "id": "coordinate-entity",
   "metadata": {},
   "outputs": [
    {
     "data": {
      "image/png": "[encoded data removed]",
      "text/plain": [
       "<Figure size 576x396 with 1 Axes>"
      ]
     },
     "metadata": {
      "needs_background": "light"
     },
     "output_type": "display_data"
    }
   ],
   "source": [
    "plt.plot(q_array0[q_array0.size//2:q_array0.size] - q_array0.size//2, Log_Zq_0,  label = \"N = \" + str(N_cells0))\n",
    "\n",
    "plt.plot(q_array1[q_array1.size//2:q_array1.size] - q_array1.size//2, Log_Zq_1,  label = \"N = \" + str(N_cells1))\n",
    "\n",
    "plt.plot(q_array2[q_array2.size//2:q_array2.size] - q_array2.size//2, Log_Zq_2,  label = \"N = \" + str(N_cells2))\n",
    "\n",
    "plt.plot(q_array3[q_array3.size//2:q_array3.size] - q_array3.size//2, Log_Zq_3,  label = \"N = \" + str(N_cells3))\n",
    "\n",
    "plt.plot(q_array4[q_array4.size//2:q_array4.size] - q_array4.size//2, Log_Zq_4,  label = \"N = \" + str(N_cells4))\n",
    "\n",
    "plt.plot(q_array5[q_array5.size//2:q_array5.size] - q_array5.size//2, Log_Zq_5,  label = \"N = \" + str(N_cells5))\n",
    "\n",
    "plt.plot(q_array6[q_array6.size//2:q_array6.size] - q_array6.size//2, Log_Zq_6,  label = \"N = \" + str(N_cells6))\n",
    "\n",
    "plt.plot(q_array7[q_array7.size//2:q_array7.size] - q_array7.size//2, Log_Zq_7,  label = \"N = \" + str(N_cells7))\n",
    "plt.legend()\n",
    "\n",
    "plt.ylim([-26,3])\n",
    "plt.xlim([0,8])\n",
    "plt.title(\"$\\log Z_1 (q)$, $\\delta$ = \" + str(Delta))\n",
    "plt.rcParams[\"figure.figsize\"] = (10,5)"
   ]
  },
  {
   "cell_type": "code",
   "execution_count": 63,
   "id": "loaded-coating",
   "metadata": {},
   "outputs": [
    {
     "data": {
      "text/plain": [
       "[<matplotlib.lines.Line2D at 0x1cee3760a08>]"
      ]
     },
     "execution_count": 63,
     "metadata": {},
     "output_type": "execute_result"
    },
    {
     "data": {
      "image/png": "[encoded data removed]",
      "text/plain": [
       "<Figure size 720x360 with 1 Axes>"
      ]
     },
     "metadata": {
      "needs_background": "light"
     },
     "output_type": "display_data"
    }
   ],
   "source": [
    "y = Log_Zq_7[~np.isnan(Log_Zq_7)]\n",
    "x = q_array7[q_array7.size//2:q_array7.size] - q_array7.size//2\n",
    "x = x[~np.isnan(Log_Zq_7)]\n",
    "plt.plot(x, y)"
   ]
  },
  {
   "cell_type": "code",
   "execution_count": 64,
   "id": "powerful-judge",
   "metadata": {
    "scrolled": true
   },
   "outputs": [
    {
     "data": {
      "image/png": "[encoded data removed]",
      "text/plain": [
       "<Figure size 720x360 with 1 Axes>"
      ]
     },
     "metadata": {
      "needs_background": "light"
     },
     "output_type": "display_data"
    },
    {
     "name": "stdout",
     "output_type": "stream",
     "text": [
      "[-8.25152549e-01 -1.31672329e-16  2.33114689e+00]\n"
     ]
    }
   ],
   "source": [
    "#polynomial fit with degree = 2 for N = 400\n",
    "coeff = np.polyfit(np.concatenate((-x[0:7],x[0:7])), np.concatenate((y[0:7], y[0:7])), 2)\n",
    "model = np.poly1d(coeff)\n",
    "\n",
    "#add fitted polynomial line to scatterplot\n",
    "polyline = np.linspace(-8, 8, 50)\n",
    "plt.scatter(np.concatenate((-x[0:7],x[0:7])), np.concatenate((y[0:7], y[0:7])))\n",
    "plt.plot(polyline, model(polyline))\n",
    "plt.show()\n",
    "print(coeff)"
   ]
  },
  {
   "cell_type": "code",
   "execution_count": 65,
   "id": "democratic-excuse",
   "metadata": {},
   "outputs": [],
   "source": [
    "def sigma(array):\n",
    "    return np.sqrt(1/array*(-2))"
   ]
  },
  {
   "cell_type": "code",
   "execution_count": 66,
   "id": "sustained-somewhere",
   "metadata": {},
   "outputs": [],
   "source": [
    "#for N = 4\n",
    "\n",
    "q_new_0 = q_array0[q_array0.size//2:q_array0.size] - q_array0.size//2\n",
    "coeff_0 = np.polyfit(np.concatenate((-q_new_0,q_new_0)),np.concatenate((Log_Zq_0,Log_Zq_0)), 2)\n",
    "\n",
    "#for N = 6\n",
    "\n",
    "q_new_1 = q_array1[q_array1.size//2:q_array1.size] - q_array1.size//2\n",
    "coeff_1 = np.polyfit(np.concatenate((-q_new_1,q_new_1)),np.concatenate((Log_Zq_1,Log_Zq_1)), 2)\n",
    "\n",
    "#for N = 10\n",
    "\n",
    "q_new_2 = q_array2[q_array2.size//2:q_array2.size] - q_array2.size//2\n",
    "coeff_2 = np.polyfit(np.concatenate((-q_new_2,q_new_2)),np.concatenate((Log_Zq_2,Log_Zq_2)), 2)\n",
    "\n",
    "#for N = 20\n",
    "\n",
    "q_new_3 = q_array3[q_array3.size//2:q_array3.size] - q_array3.size//2\n",
    "Log_Zq_3_new = Log_Zq_3[~np.isnan(Log_Zq_3)]\n",
    "q_new_3 = q_new_3[~np.isnan(Log_Zq_3)]\n",
    "\n",
    "coeff_3 = np.polyfit(np.concatenate((-q_new_3[0:6],q_new_3[0:6])),np.concatenate((Log_Zq_3_new[0:6],Log_Zq_3_new[0:6])), 2)\n",
    "\n",
    "#for N = 50\n",
    "\n",
    "q_new_4 = q_array4[q_array4.size//2:q_array4.size] - q_array4.size//2\n",
    "Log_Zq_4_new = Log_Zq_4[~np.isnan(Log_Zq_4)]\n",
    "q_new_4 = q_new_4[~np.isnan(Log_Zq_4)]\n",
    "\n",
    "coeff_4 = np.polyfit(np.concatenate((-q_new_4[0:7],q_new_4[0:7])),np.concatenate((Log_Zq_4_new[0:7],Log_Zq_4_new[0:7])), 2)\n",
    "\n",
    "\n",
    "#for N = 200\n",
    "\n",
    "q_new_5 = q_array5[q_array5.size//2:q_array5.size] - q_array5.size//2\n",
    "Log_Zq_5_new = Log_Zq_5[~np.isnan(Log_Zq_5)]\n",
    "q_new_5 = q_new_5[~np.isnan(Log_Zq_5)]\n",
    "\n",
    "coeff_5 = np.polyfit(np.concatenate((-q_new_5[0:7],q_new_5[0:7])),np.concatenate((Log_Zq_5_new[0:7],Log_Zq_5_new[0:7])), 2)\n",
    "\n",
    "#for N = 300\n",
    "\n",
    "q_new_6 = q_array6[q_array6.size//2:q_array6.size] - q_array6.size//2\n",
    "Log_Zq_6_new = Log_Zq_6[~np.isnan(Log_Zq_6)]\n",
    "q_new_6 = q_new_6[~np.isnan(Log_Zq_6)]\n",
    "\n",
    "coeff_6 = np.polyfit(np.concatenate((-q_new_6[0:7],q_new_6[0:7])),np.concatenate((Log_Zq_6_new[0:7],Log_Zq_6_new[0:7])), 2)\n",
    "\n",
    "#for N = 400\n",
    "\n",
    "\n",
    "q_new_7 = q_array7[q_array7.size//2:q_array7.size] - q_array7.size//2\n",
    "Log_Zq_7_new = Log_Zq_7[~np.isnan(Log_Zq_7)]\n",
    "q_new_7 = q_new_7[~np.isnan(Log_Zq_7)]\n",
    "\n",
    "coeff_7 = np.polyfit(np.concatenate((-q_new_7[0:7],q_new_7[0:7])),np.concatenate((Log_Zq_7_new[0:7],Log_Zq_7_new[0:7])), 2)\n",
    "\n",
    "#func = lambda x: coeff_7[0]*x**2 + coeff_7[1]*x + coeff_7[2]\n",
    "#x_array = np.linspace(-6,6, 50)\n",
    "\n",
    "#plt.scatter(np.concatenate((-q_new_7[0:7],q_new_7[0:7])), np.concatenate((Log_Zq_7_new[0:7],Log_Zq_7_new[0:7])))\n",
    "#plt.plot(np.concatenate((-q_new_7[0:7],q_new_7[0:7])), func(np.concatenate((-q_new_7[0:7],q_new_7[0:7]))))\n",
    "#plt.plot(x_array, func(x_array))\n",
    "#plt.show()"
   ]
  },
  {
   "cell_type": "code",
   "execution_count": 67,
   "id": "brief-vanilla",
   "metadata": {},
   "outputs": [
    {
     "data": {
      "text/plain": [
       "Text(0.5, 1.0, '$\\\\sigma$(N), $\\\\delta$ = 0.01')"
      ]
     },
     "execution_count": 67,
     "metadata": {},
     "output_type": "execute_result"
    },
    {
     "data": {
      "image/png": "[encoded data removed]",
      "text/plain": [
       "<Figure size 720x360 with 1 Axes>"
      ]
     },
     "metadata": {
      "needs_background": "light"
     },
     "output_type": "display_data"
    }
   ],
   "source": [
    "sigma_array = np.array(sigma(np.array([coeff_0[0], coeff_1[0], coeff_2[0], coeff_3[0], coeff_4[0], coeff_5[0], \n",
    "                                       coeff_6[0], coeff_7[0]])))\n",
    "N_array = np.array([4, 6, 10, 20, 50, 200, 300, 400])\n",
    "plt.plot(N_array, sigma_array, \".\")\n",
    "#plt.xscale('log')\n",
    "plt.title(\"$\\sigma$(N), $\\delta$ = 0.01\")"
   ]
  },
  {
   "cell_type": "markdown",
   "id": "nutritional-montreal",
   "metadata": {},
   "source": [
    "### $\\delta$ = 0.02"
   ]
  },
  {
   "cell_type": "code",
   "execution_count": 68,
   "id": "criminal-census",
   "metadata": {},
   "outputs": [
    {
     "data": {
      "text/plain": [
       "[24.996666311036567, 26]"
      ]
     },
     "execution_count": 68,
     "metadata": {},
     "output_type": "execute_result"
    }
   ],
   "source": [
    "critical_length(0.02)"
   ]
  },
  {
   "cell_type": "code",
   "execution_count": 70,
   "id": "appropriate-snapshot",
   "metadata": {},
   "outputs": [],
   "source": [
    "N_cells01 = 4\n",
    "N01  = N_cells01 + 1\n",
    "type_num = 1\n",
    "\n",
    "Delta1 = 0.02\n",
    "alpha_array01 =  np.array([i for i in range(N01)])\n",
    "\n",
    "A01 = eigval_corr_matrix(N_cells01, Delta1, N_cells01//2)\n",
    "Z_n_array01 = np.array([Z_n_real(type_num, alpha_array01[i], A01, N_cells01) for i in range(N01//2 + 1)])\n",
    "q_array01 = np.array([i for i in range(N01)])"
   ]
  },
  {
   "cell_type": "code",
   "execution_count": 71,
   "id": "simplified-scroll",
   "metadata": {},
   "outputs": [],
   "source": [
    "N_cells11 = 6\n",
    "N11 = N_cells11 + 1\n",
    "type_num = 1\n",
    "\n",
    "Delta1 = 0.02\n",
    "alpha_array11 =  np.array([i for i in range(N11)])\n",
    "\n",
    "A11 = eigval_corr_matrix(N_cells11, Delta1, N_cells11//2)\n",
    "Z_n_array11 = np.array([Z_n_real(type_num, alpha_array11[i], A11, N_cells11) for i in range(N11//2 + 1)])\n",
    "q_array11 = np.array([i for i in range(N11)])"
   ]
  },
  {
   "cell_type": "code",
   "execution_count": 72,
   "id": "timely-island",
   "metadata": {},
   "outputs": [],
   "source": [
    "N_cells21 = 10\n",
    "N21  = N_cells21 + 1\n",
    "type_num = 1\n",
    "\n",
    "Delta1 = 0.02\n",
    "alpha_array21 =  np.array([i for i in range(N21)])\n",
    "\n",
    "A21 = eigval_corr_matrix(N_cells21, Delta1, N_cells21//2)\n",
    "Z_n_array21 = np.array([Z_n_real(type_num, alpha_array21[i], A21, N_cells21) for i in range(N21//2 + 1)])\n",
    "q_array21 = np.array([i for i in range(N21)])"
   ]
  },
  {
   "cell_type": "code",
   "execution_count": 73,
   "id": "assisted-constraint",
   "metadata": {},
   "outputs": [],
   "source": [
    "N_cells31 = 20\n",
    "N31  = N_cells31 + 1\n",
    "type_num = 1\n",
    "\n",
    "Delta1 = 0.02\n",
    "alpha_array31 =  np.array([i for i in range(N31)])\n",
    "\n",
    "A31 = eigval_corr_matrix(N_cells31, Delta1, N_cells31//2)\n",
    "Z_n_array31 = np.array([Z_n_real(type_num, alpha_array31[i], A31, N_cells31) for i in range(N31//2 + 1)])\n",
    "q_array31 = np.array([i for i in range(N31)])"
   ]
  },
  {
   "cell_type": "code",
   "execution_count": 74,
   "id": "incident-portuguese",
   "metadata": {},
   "outputs": [
    {
     "name": "stdout",
     "output_type": "stream",
     "text": [
      "Duration: 0:00:00.452947\n"
     ]
    }
   ],
   "source": [
    "N_cells41 = 50\n",
    "N41 = N_cells41 + 1\n",
    "type_num = 1\n",
    "\n",
    "Delta1 = 0.02\n",
    "alpha_array41 =  np.array([i for i in range(N41)])\n",
    "\n",
    "from datetime import datetime\n",
    "start_time = datetime.now()\n",
    "A41 = eigval_corr_matrix(N_cells41, Delta1, N_cells41//2)\n",
    "\n",
    "Z_n_array41 = np.array([Z_n_real(type_num, alpha_array41[i], A41, N_cells41) for i in range(N41//2 + 1)])\n",
    "q_array41 = np.array([i for i in range(N41)])\n",
    "\n",
    "end_time = datetime.now()\n",
    "print('Duration: {}'.format(end_time - start_time))"
   ]
  },
  {
   "cell_type": "code",
   "execution_count": 75,
   "id": "temporal-pixel",
   "metadata": {},
   "outputs": [
    {
     "name": "stdout",
     "output_type": "stream",
     "text": [
      "Duration: 0:00:26.343525\n"
     ]
    }
   ],
   "source": [
    "N_cells51 = 200\n",
    "N51  = N_cells51 + 1\n",
    "type_num = 1\n",
    "\n",
    "Delta1 = 0.02\n",
    "alpha_array51 =  np.array([i for i in range(N51)])\n",
    "\n",
    "from datetime import datetime\n",
    "start_time = datetime.now()\n",
    "A51 = eigval_corr_matrix(N_cells51, Delta1, N_cells51//2)\n",
    "\n",
    "Z_n_array51 = np.array([Z_n_real(type_num, alpha_array51[i], A51, N_cells51) for i in range(N51//2 + 1)])\n",
    "q_array51 = np.array([i for i in range(N51)])\n",
    "\n",
    "end_time = datetime.now()\n",
    "print('Duration: {}'.format(end_time - start_time))"
   ]
  },
  {
   "cell_type": "code",
   "execution_count": 76,
   "id": "fixed-winter",
   "metadata": {},
   "outputs": [
    {
     "name": "stdout",
     "output_type": "stream",
     "text": [
      "Duration: 0:01:28.155061\n"
     ]
    }
   ],
   "source": [
    "N_cells61 = 300\n",
    "N61  = N_cells61 + 1\n",
    "type_num = 1\n",
    "\n",
    "Delta1 = 0.02\n",
    "alpha_array61 =  np.array([i for i in range(N61)])\n",
    "\n",
    "from datetime import datetime\n",
    "start_time = datetime.now()\n",
    "A61 = eigval_corr_matrix(N_cells61, Delta1, N_cells61//2)\n",
    "\n",
    "Z_n_array61 = np.array([Z_n_real(type_num, alpha_array61[i], A61, N_cells61) for i in range(N61//2 + 1)])\n",
    "q_array61 = np.array([i for i in range(N61)])\n",
    "\n",
    "\n",
    "end_time = datetime.now()\n",
    "print('Duration: {}'.format(end_time - start_time))"
   ]
  },
  {
   "cell_type": "code",
   "execution_count": 77,
   "id": "accepted-yellow",
   "metadata": {},
   "outputs": [
    {
     "name": "stdout",
     "output_type": "stream",
     "text": [
      "Duration: 0:03:32.749696\n"
     ]
    }
   ],
   "source": [
    "N_cells71 = 400\n",
    "N71 = N_cells71 + 1\n",
    "type_num = 1\n",
    "\n",
    "Delta1 = 0.02\n",
    "alpha_array71 =  np.array([i for i in range(N71)])\n",
    "\n",
    "from datetime import datetime\n",
    "start_time = datetime.now()\n",
    "A71 = eigval_corr_matrix(N_cells71, Delta1, N_cells71//2)\n",
    "\n",
    "Z_n_array71 = np.array([Z_n_real(type_num, alpha_array71[i], A71, N_cells71) for i in range(N71//2 + 1)])\n",
    "q_array71 = np.array([i for i in range(N71)])\n",
    "\n",
    "\n",
    "end_time = datetime.now()\n",
    "print('Duration: {}'.format(end_time - start_time))"
   ]
  },
  {
   "cell_type": "code",
   "execution_count": 78,
   "id": "arranged-mouse",
   "metadata": {},
   "outputs": [
    {
     "name": "stderr",
     "output_type": "stream",
     "text": [
      "C:\\Users\\MI\\Anaconda3\\lib\\site-packages\\ipykernel_launcher.py:1: RuntimeWarning: invalid value encountered in log\n",
      "  \"\"\"Entry point for launching an IPython kernel.\n",
      "C:\\Users\\MI\\Anaconda3\\lib\\site-packages\\ipykernel_launcher.py:7: RuntimeWarning: invalid value encountered in log\n",
      "  import sys\n",
      "C:\\Users\\MI\\Anaconda3\\lib\\site-packages\\ipykernel_launcher.py:9: RuntimeWarning: invalid value encountered in log\n",
      "  if __name__ == '__main__':\n",
      "C:\\Users\\MI\\Anaconda3\\lib\\site-packages\\ipykernel_launcher.py:11: RuntimeWarning: invalid value encountered in log\n",
      "  # This is added back by InteractiveShellApp.init_path()\n",
      "C:\\Users\\MI\\Anaconda3\\lib\\site-packages\\ipykernel_launcher.py:13: RuntimeWarning: invalid value encountered in log\n",
      "  del sys.path[0]\n",
      "C:\\Users\\MI\\Anaconda3\\lib\\site-packages\\ipykernel_launcher.py:15: RuntimeWarning: invalid value encountered in log\n",
      "  from ipykernel import kernelapp as app\n"
     ]
    }
   ],
   "source": [
    "Log_Zq_01 = np.log(DFT_half(Z_n_array01)[q_array01.size//2:q_array01.size])\n",
    "\n",
    "Log_Zq_11 = np.log(DFT_half(Z_n_array11)[q_array11.size//2:q_array11.size])\n",
    "\n",
    "Log_Zq_21 = np.log(DFT_half(Z_n_array21)[q_array21.size//2:q_array21.size])\n",
    "\n",
    "Log_Zq_31 = np.log(DFT_half(Z_n_array31)[q_array31.size//2:q_array31.size])\n",
    "\n",
    "Log_Zq_41 = np.log(DFT_half(Z_n_array41)[q_array41.size//2:q_array41.size])\n",
    "\n",
    "Log_Zq_51 = np.log(DFT_half(Z_n_array51)[q_array51.size//2:q_array51.size])\n",
    "\n",
    "Log_Zq_61 = np.log(DFT_half(Z_n_array61)[q_array61.size//2:q_array61.size]) \n",
    "\n",
    "Log_Zq_71 = np.log(DFT_half(Z_n_array71)[q_array71.size//2:q_array71.size]) "
   ]
  },
  {
   "cell_type": "code",
   "execution_count": 79,
   "id": "imposed-listing",
   "metadata": {},
   "outputs": [
    {
     "data": {
      "image/png": "[encoded data removed]",
      "text/plain": [
       "<Figure size 720x360 with 1 Axes>"
      ]
     },
     "metadata": {
      "needs_background": "light"
     },
     "output_type": "display_data"
    }
   ],
   "source": [
    "plt.plot(q_array01[q_array01.size//2:q_array01.size] - q_array01.size//2, Log_Zq_01,  label = \"N = \" + str(N_cells01))\n",
    "\n",
    "plt.plot(q_array11[q_array11.size//2:q_array11.size] - q_array11.size//2, Log_Zq_11,  label = \"N = \" + str(N_cells11))\n",
    "\n",
    "\n",
    "plt.plot(q_array21[q_array21.size//2:q_array21.size] - q_array21.size//2, Log_Zq_21,  label = \"N = \" + str(N_cells21))\n",
    "\n",
    "\n",
    "plt.plot(q_array31[q_array31.size//2:q_array31.size] - q_array31.size//2, Log_Zq_31,  label = \"N = \" + str(N_cells31))\n",
    "\n",
    "\n",
    "plt.plot(q_array41[q_array41.size//2:q_array41.size] - q_array41.size//2, Log_Zq_41,  label = \"N = \" + str(N_cells41))\n",
    "\n",
    "\n",
    "plt.plot(q_array51[q_array51.size//2:q_array51.size] - q_array51.size//2, Log_Zq_51,  label = \"N = \" + str(N_cells51))\n",
    "\n",
    "\n",
    "plt.plot(q_array61[q_array61.size//2:q_array61.size] - q_array61.size//2, Log_Zq_61,  label = \"N = \" + str(N_cells61))\n",
    "\n",
    "\n",
    "plt.plot(q_array71[q_array71.size//2:q_array71.size] - q_array71.size//2, Log_Zq_71,  label = \"N = \" + str(N_cells71))\n",
    "plt.legend()\n",
    "\n",
    "plt.ylim([-26,3])\n",
    "plt.xlim([0,8])\n",
    "plt.title(\"$\\log Z_1 (q)$, $\\delta$ = \" + str(Delta1))\n",
    "plt.rcParams[\"figure.figsize\"] = (10,5)"
   ]
  },
  {
   "cell_type": "code",
   "execution_count": 80,
   "id": "black-drill",
   "metadata": {},
   "outputs": [],
   "source": [
    "#for N = 4\n",
    "\n",
    "#q_new_01 = q_array01[q_array01.size//2:q_array01.size] - q_array01.size//2\n",
    "#coeff_01 = np.polyfit(np.concatenate((-q_new_01,q_new_01)),np.concatenate((Log_Zq_01,Log_Zq_01)), 2)\n",
    "\n",
    "#for N = 6\n",
    "\n",
    "q_new_11 = q_array11[q_array11.size//2:q_array11.size] - q_array11.size//2\n",
    "coeff_11 = np.polyfit(np.concatenate((-q_new_11,q_new_11)),np.concatenate((Log_Zq_11,Log_Zq_11)), 2)\n",
    "\n",
    "#for N = 10\n",
    "\n",
    "q_new_21 = q_array21[q_array21.size//2:q_array21.size] - q_array21.size//2\n",
    "coeff_21 = np.polyfit(np.concatenate((-q_new_21,q_new_21)),np.concatenate((Log_Zq_21,Log_Zq_21)), 2)\n",
    "\n",
    "#for N = 20\n",
    "\n",
    "q_new_31 = q_array31[q_array31.size//2:q_array31.size] - q_array31.size//2\n",
    "Log_Zq_31_new = Log_Zq_31[~np.isnan(Log_Zq_31)]\n",
    "q_new_31 = q_new_31[~np.isnan(Log_Zq_31)]\n",
    "\n",
    "coeff_31 = np.polyfit(np.concatenate((-q_new_31[0:6],q_new_31[0:6])),np.concatenate((Log_Zq_31_new[0:6],Log_Zq_31_new[0:6])), 2)\n",
    "\n",
    "#for N = 50\n",
    "\n",
    "q_new_41 = q_array41[q_array41.size//2:q_array41.size] - q_array41.size//2\n",
    "Log_Zq_41_new = Log_Zq_41[~np.isnan(Log_Zq_41)]\n",
    "q_new_41 = q_new_41[~np.isnan(Log_Zq_41)]\n",
    "\n",
    "coeff_41 = np.polyfit(np.concatenate((-q_new_41[0:7],q_new_41[0:7])),np.concatenate((Log_Zq_41_new[0:7],Log_Zq_41_new[0:7])), 2)\n",
    "\n",
    "\n",
    "#for N = 200\n",
    "\n",
    "q_new_51 = q_array51[q_array51.size//2:q_array51.size] - q_array51.size//2\n",
    "Log_Zq_51_new = Log_Zq_51[~np.isnan(Log_Zq_51)]\n",
    "q_new_51 = q_new_51[~np.isnan(Log_Zq_51)]\n",
    "\n",
    "coeff_51 = np.polyfit(np.concatenate((-q_new_51[0:7],q_new_51[0:7])),np.concatenate((Log_Zq_51_new[0:7],Log_Zq_51_new[0:7])), 2)\n",
    "\n",
    "#for N = 300\n",
    "\n",
    "q_new_61 = q_array61[q_array61.size//2:q_array61.size] - q_array61.size//2\n",
    "Log_Zq_61_new = Log_Zq_61[~np.isnan(Log_Zq_61)]\n",
    "q_new_61 = q_new_61[~np.isnan(Log_Zq_61)]\n",
    "\n",
    "coeff_61 = np.polyfit(np.concatenate((-q_new_61[0:7],q_new_61[0:7])),np.concatenate((Log_Zq_61_new[0:7],Log_Zq_61_new[0:7])), 2)\n",
    "\n",
    "#for N = 400\n",
    "\n",
    "\n",
    "q_new_71 = q_array71[q_array71.size//2:q_array71.size] - q_array71.size//2\n",
    "Log_Zq_71_new = Log_Zq_71[~np.isnan(Log_Zq_71)]\n",
    "q_new_71 = q_new_71[~np.isnan(Log_Zq_71)]\n",
    "\n",
    "coeff_71 = np.polyfit(np.concatenate((-q_new_71[0:7],q_new_71[0:7])),np.concatenate((Log_Zq_71_new[0:7],Log_Zq_71_new[0:7])), 2)\n",
    "\n",
    "#func = lambda x: coeff_7[0]*x**2 + coeff_7[1]*x + coeff_7[2]\n",
    "#x_array = np.linspace(-6,6, 50)\n",
    "\n",
    "#plt.scatter(np.concatenate((-q_new_7[0:7],q_new_7[0:7])), np.concatenate((Log_Zq_7_new[0:7],Log_Zq_7_new[0:7])))\n",
    "#plt.plot(np.concatenate((-q_new_7[0:7],q_new_7[0:7])), func(np.concatenate((-q_new_7[0:7],q_new_7[0:7]))))\n",
    "#plt.plot(x_array, func(x_array))\n",
    "#plt.show()"
   ]
  },
  {
   "cell_type": "code",
   "execution_count": 81,
   "id": "baking-iceland",
   "metadata": {},
   "outputs": [
    {
     "data": {
      "text/plain": [
       "Text(0.5, 1.0, '$\\\\sigma$(N), $\\\\delta$ = 0.02')"
      ]
     },
     "execution_count": 81,
     "metadata": {},
     "output_type": "execute_result"
    },
    {
     "data": {
      "image/png": "[encoded data removed]",
      "text/plain": [
       "<Figure size 720x360 with 1 Axes>"
      ]
     },
     "metadata": {
      "needs_background": "light"
     },
     "output_type": "display_data"
    }
   ],
   "source": [
    "sigma_array1 = sigma(np.array([coeff_11[0], coeff_21[0], coeff_31[0], coeff_41[0], coeff_51[0], coeff_61[0], coeff_71[0]]))\n",
    "N_array = np.array([6, 10, 20, 50, 200, 300, 400])\n",
    "plt.plot(N_array, sigma_array1, \".\")\n",
    "#plt.xscale('log')\n",
    "plt.title(\"$\\sigma$(N), $\\delta$ = 0.02\")"
   ]
  },
  {
   "cell_type": "markdown",
   "id": "hungarian-laundry",
   "metadata": {},
   "source": [
    "sigma_array1 = np.array([coeff_11[0], coeff_21[0], coeff_31[0], coeff_41[0], coeff_51[0], coeff_61[0], coeff_71[0]])\n",
    "N_array1 = np.array([6, 10, 20, 50, 200, 300, 400])\n",
    "plt.plot(N_array1, sigma_array1, \".\")\n",
    "plt.title(\"$\\sigma$(N), $\\delta$ = 0.02\")"
   ]
  },
  {
   "cell_type": "markdown",
   "id": "competent-fault",
   "metadata": {},
   "source": [
    "## $\\delta$ = 0 "
   ]
  },
  {
   "cell_type": "code",
   "execution_count": 82,
   "id": "centered-marking",
   "metadata": {},
   "outputs": [],
   "source": [
    "N_cells02 = 4\n",
    "N02  = N_cells02 + 1\n",
    "type_num = 1\n",
    "\n",
    "Delta2 = 0\n",
    "alpha_array02 =  np.array([i for i in range(N02)])\n",
    "\n",
    "A02 = eigval_corr_matrix(N_cells02, Delta2, N_cells02//2)\n",
    "Z_n_array02 = np.array([Z_n_real(type_num, alpha_array02[i], A02, N_cells02) for i in range(N02//2 + 1)])\n",
    "q_array02 = np.array([i for i in range(N02)])"
   ]
  },
  {
   "cell_type": "code",
   "execution_count": 83,
   "id": "universal-backing",
   "metadata": {},
   "outputs": [],
   "source": [
    "N_cells12 = 6\n",
    "N12 = N_cells12 + 1\n",
    "type_num = 1\n",
    "\n",
    "Delta2 = 0\n",
    "alpha_array12 =  np.array([i for i in range(N12)])\n",
    "\n",
    "A12 = eigval_corr_matrix(N_cells12, Delta2, N_cells12//2)\n",
    "Z_n_array12 = np.array([Z_n_real(type_num, alpha_array12[i], A12, N_cells12) for i in range(N12//2 + 1)])\n",
    "q_array12 = np.array([i for i in range(N12)])"
   ]
  },
  {
   "cell_type": "code",
   "execution_count": 84,
   "id": "exempt-muscle",
   "metadata": {},
   "outputs": [],
   "source": [
    "N_cells22 = 10\n",
    "N22  = N_cells22 + 1\n",
    "type_num = 1\n",
    "\n",
    "Delta2 = 0\n",
    "alpha_array22 =  np.array([i for i in range(N22)])\n",
    "\n",
    "A22 = eigval_corr_matrix(N_cells22, Delta2, N_cells22//2)\n",
    "Z_n_array22 = np.array([Z_n_real(type_num, alpha_array22[i], A22, N_cells22) for i in range(N22//2 + 1)])\n",
    "q_array22 = np.array([i for i in range(N22)])"
   ]
  },
  {
   "cell_type": "code",
   "execution_count": 85,
   "id": "color-turtle",
   "metadata": {},
   "outputs": [],
   "source": [
    "N_cells32 = 20\n",
    "N32  = N_cells32 + 1\n",
    "type_num = 1\n",
    "\n",
    "Delta2 = 0\n",
    "alpha_array32 =  np.array([i for i in range(N32)])\n",
    "\n",
    "A32 = eigval_corr_matrix(N_cells32, Delta2, N_cells32//2)\n",
    "Z_n_array32 = np.array([Z_n_real(type_num, alpha_array32[i], A32, N_cells32) for i in range(N32//2 + 1)])\n",
    "q_array32 = np.array([i for i in range(N32)])"
   ]
  },
  {
   "cell_type": "code",
   "execution_count": 86,
   "id": "closed-exhibit",
   "metadata": {},
   "outputs": [
    {
     "name": "stdout",
     "output_type": "stream",
     "text": [
      "Duration: 0:00:00.552090\n"
     ]
    }
   ],
   "source": [
    "N_cells42 = 50\n",
    "N42 = N_cells42 + 1\n",
    "type_num = 1\n",
    "\n",
    "Delta2 = 0\n",
    "alpha_array42 =  np.array([i for i in range(N42)])\n",
    "\n",
    "from datetime import datetime\n",
    "start_time = datetime.now()\n",
    "A42 = eigval_corr_matrix(N_cells42, Delta2, N_cells42//2)\n",
    "\n",
    "Z_n_array42 = np.array([Z_n_real(type_num, alpha_array42[i], A42, N_cells42) for i in range(N42//2 + 1)])\n",
    "q_array42 = np.array([i for i in range(N42)])\n",
    "\n",
    "end_time = datetime.now()\n",
    "print('Duration: {}'.format(end_time - start_time))"
   ]
  },
  {
   "cell_type": "code",
   "execution_count": 87,
   "id": "junior-variation",
   "metadata": {},
   "outputs": [
    {
     "name": "stdout",
     "output_type": "stream",
     "text": [
      "Duration: 0:00:26.444715\n"
     ]
    }
   ],
   "source": [
    "N_cells52 = 200\n",
    "N52  = N_cells52 + 1\n",
    "type_num = 1\n",
    "\n",
    "Delta2 = 0\n",
    "alpha_array52 =  np.array([i for i in range(N52)])\n",
    "\n",
    "from datetime import datetime\n",
    "start_time = datetime.now()\n",
    "A52 = eigval_corr_matrix(N_cells52, Delta2, N_cells52//2)\n",
    "\n",
    "Z_n_array52 = np.array([Z_n_real(type_num, alpha_array52[i], A52, N_cells52) for i in range(N52//2 + 1)])\n",
    "q_array52 = np.array([i for i in range(N52)])\n",
    "\n",
    "end_time = datetime.now()\n",
    "print('Duration: {}'.format(end_time - start_time))"
   ]
  },
  {
   "cell_type": "code",
   "execution_count": 88,
   "id": "measured-proposal",
   "metadata": {},
   "outputs": [
    {
     "name": "stdout",
     "output_type": "stream",
     "text": [
      "Duration: 0:01:26.326664\n"
     ]
    }
   ],
   "source": [
    "N_cells62 = 300\n",
    "N62  = N_cells62 + 1\n",
    "type_num = 1\n",
    "\n",
    "Delta2 = 0\n",
    "alpha_array62 =  np.array([i for i in range(N62)])\n",
    "\n",
    "from datetime import datetime\n",
    "start_time = datetime.now()\n",
    "A62 = eigval_corr_matrix(N_cells62, Delta2, N_cells62//2)\n",
    "\n",
    "Z_n_array62 = np.array([Z_n_real(type_num, alpha_array62[i], A62, N_cells62) for i in range(N62//2 + 1)])\n",
    "q_array62 = np.array([i for i in range(N62)])\n",
    "\n",
    "\n",
    "end_time = datetime.now()\n",
    "print('Duration: {}'.format(end_time - start_time))"
   ]
  },
  {
   "cell_type": "code",
   "execution_count": 89,
   "id": "allied-dubai",
   "metadata": {},
   "outputs": [
    {
     "name": "stdout",
     "output_type": "stream",
     "text": [
      "Duration: 0:03:25.267302\n"
     ]
    }
   ],
   "source": [
    "N_cells72 = 400\n",
    "N72 = N_cells72 + 1\n",
    "type_num = 1\n",
    "\n",
    "Delta2 = 0\n",
    "alpha_array72 =  np.array([i for i in range(N72)])\n",
    "\n",
    "from datetime import datetime\n",
    "start_time = datetime.now()\n",
    "A72 = eigval_corr_matrix(N_cells72, Delta2, N_cells72//2)\n",
    "\n",
    "Z_n_array72 = np.array([Z_n_real(type_num, alpha_array72[i], A72, N_cells72) for i in range(N72//2 + 1)])\n",
    "q_array72 = np.array([i for i in range(N72)])\n",
    "\n",
    "\n",
    "end_time = datetime.now()\n",
    "print('Duration: {}'.format(end_time - start_time))"
   ]
  },
  {
   "cell_type": "code",
   "execution_count": 90,
   "id": "proprietary-frequency",
   "metadata": {},
   "outputs": [
    {
     "name": "stderr",
     "output_type": "stream",
     "text": [
      "C:\\Users\\MI\\Anaconda3\\lib\\site-packages\\ipykernel_launcher.py:7: RuntimeWarning: divide by zero encountered in log\n",
      "  import sys\n",
      "C:\\Users\\MI\\Anaconda3\\lib\\site-packages\\ipykernel_launcher.py:7: RuntimeWarning: invalid value encountered in log\n",
      "  import sys\n",
      "C:\\Users\\MI\\Anaconda3\\lib\\site-packages\\ipykernel_launcher.py:9: RuntimeWarning: invalid value encountered in log\n",
      "  if __name__ == '__main__':\n",
      "C:\\Users\\MI\\Anaconda3\\lib\\site-packages\\ipykernel_launcher.py:11: RuntimeWarning: invalid value encountered in log\n",
      "  # This is added back by InteractiveShellApp.init_path()\n",
      "C:\\Users\\MI\\Anaconda3\\lib\\site-packages\\ipykernel_launcher.py:13: RuntimeWarning: invalid value encountered in log\n",
      "  del sys.path[0]\n",
      "C:\\Users\\MI\\Anaconda3\\lib\\site-packages\\ipykernel_launcher.py:15: RuntimeWarning: invalid value encountered in log\n",
      "  from ipykernel import kernelapp as app\n"
     ]
    }
   ],
   "source": [
    "Log_Zq_02 = np.log(DFT_half(Z_n_array02)[q_array02.size//2:q_array02.size])\n",
    "\n",
    "Log_Zq_12 = np.log(DFT_half(Z_n_array12)[q_array12.size//2:q_array12.size])\n",
    "\n",
    "Log_Zq_22 = np.log(DFT_half(Z_n_array22)[q_array22.size//2:q_array22.size])\n",
    "\n",
    "Log_Zq_32 = np.log(DFT_half(Z_n_array32)[q_array32.size//2:q_array32.size])\n",
    "\n",
    "Log_Zq_42 = np.log(DFT_half(Z_n_array42)[q_array42.size//2:q_array42.size])\n",
    "\n",
    "Log_Zq_52 = np.log(DFT_half(Z_n_array52)[q_array52.size//2:q_array52.size])\n",
    "\n",
    "Log_Zq_62 = np.log(DFT_half(Z_n_array62)[q_array62.size//2:q_array62.size]) \n",
    "\n",
    "Log_Zq_72 = np.log(DFT_half(Z_n_array72)[q_array72.size//2:q_array72.size]) "
   ]
  },
  {
   "cell_type": "code",
   "execution_count": 91,
   "id": "scenic-nurse",
   "metadata": {},
   "outputs": [
    {
     "data": {
      "image/png": "[encoded data removed]",
      "text/plain": [
       "<Figure size 720x360 with 1 Axes>"
      ]
     },
     "metadata": {
      "needs_background": "light"
     },
     "output_type": "display_data"
    }
   ],
   "source": [
    "plt.plot(q_array12[q_array12.size//2:q_array12.size] - q_array12.size//2, Log_Zq_12,  label = \"N = \" + str(N_cells12))\n",
    "\n",
    "\n",
    "plt.plot(q_array22[q_array22.size//2:q_array22.size] - q_array22.size//2, Log_Zq_22,  label = \"N = \" + str(N_cells22))\n",
    "\n",
    "\n",
    "plt.plot(q_array32[q_array32.size//2:q_array32.size] - q_array32.size//2, Log_Zq_32,  label = \"N = \" + str(N_cells32))\n",
    "\n",
    "\n",
    "plt.plot(q_array42[q_array42.size//2:q_array42.size] - q_array42.size//2, Log_Zq_42,  label = \"N = \" + str(N_cells42))\n",
    "\n",
    "\n",
    "plt.plot(q_array52[q_array52.size//2:q_array52.size] - q_array52.size//2, Log_Zq_52,  label = \"N = \" + str(N_cells52))\n",
    "\n",
    "\n",
    "plt.plot(q_array62[q_array62.size//2:q_array62.size] - q_array62.size//2, Log_Zq_62,  label = \"N = \" + str(N_cells62))\n",
    "\n",
    "\n",
    "plt.plot(q_array72[q_array72.size//2:q_array72.size] - q_array72.size//2, Log_Zq_72,  label = \"N = \" + str(N_cells72))\n",
    "plt.legend()\n",
    "\n",
    "plt.ylim([-26,3])\n",
    "plt.xlim([0,8])\n",
    "plt.title(\"$\\log Z_1 (q)$, $\\delta$ = \" + str(Delta2))\n",
    "plt.rcParams[\"figure.figsize\"] = (10,5)"
   ]
  },
  {
   "cell_type": "code",
   "execution_count": 92,
   "id": "russian-february",
   "metadata": {},
   "outputs": [],
   "source": [
    "#for N = 4\n",
    "\n",
    "#q_new_01 = q_array01[q_array01.size//2:q_array01.size] - q_array01.size//2\n",
    "#coeff_01 = np.polyfit(np.concatenate((-q_new_01,q_new_01)),np.concatenate((Log_Zq_01,Log_Zq_01)), 2)\n",
    "\n",
    "#for N = 6\n",
    "\n",
    "q_new_12 = q_array12[q_array12.size//2:q_array12.size] - q_array12.size//2\n",
    "coeff_12 = np.polyfit(np.concatenate((-q_new_12,q_new_12)),np.concatenate((Log_Zq_12,Log_Zq_12)), 2)\n",
    "\n",
    "#for N = 10\n",
    "\n",
    "q_new_22 = q_array22[q_array22.size//2:q_array22.size] - q_array22.size//2\n",
    "coeff_22 = np.polyfit(np.concatenate((-q_new_22,q_new_22)),np.concatenate((Log_Zq_22,Log_Zq_22)), 2)\n",
    "\n",
    "#for N = 20\n",
    "\n",
    "q_new_32 = q_array32[q_array32.size//2:q_array32.size] - q_array32.size//2\n",
    "Log_Zq_32_new = Log_Zq_32[~np.isnan(Log_Zq_32)]\n",
    "q_new_32 = q_new_32[~np.isnan(Log_Zq_32)]\n",
    "\n",
    "coeff_32 = np.polyfit(np.concatenate((-q_new_32[0:6],q_new_32[0:6])),np.concatenate((Log_Zq_32_new[0:6],Log_Zq_32_new[0:6])), 2)\n",
    "\n",
    "#for N = 50\n",
    "\n",
    "q_new_42 = q_array42[q_array42.size//2:q_array42.size] - q_array42.size//2\n",
    "Log_Zq_42_new = Log_Zq_42[~np.isnan(Log_Zq_42)]\n",
    "q_new_42 = q_new_42[~np.isnan(Log_Zq_42)]\n",
    "\n",
    "coeff_42 = np.polyfit(np.concatenate((-q_new_42[0:7],q_new_42[0:7])),np.concatenate((Log_Zq_42_new[0:7],Log_Zq_42_new[0:7])), 2)\n",
    "\n",
    "\n",
    "#for N = 200\n",
    "\n",
    "q_new_52 = q_array52[q_array52.size//2:q_array52.size] - q_array52.size//2\n",
    "Log_Zq_52_new = Log_Zq_52[~np.isnan(Log_Zq_52)]\n",
    "q_new_52 = q_new_52[~np.isnan(Log_Zq_52)]\n",
    "\n",
    "coeff_52 = np.polyfit(np.concatenate((-q_new_52[0:7],q_new_52[0:7])),np.concatenate((Log_Zq_52_new[0:7],Log_Zq_52_new[0:7])), 2)\n",
    "\n",
    "#for N = 300\n",
    "\n",
    "q_new_62 = q_array62[q_array62.size//2:q_array62.size] - q_array62.size//2\n",
    "Log_Zq_62_new = Log_Zq_62[~np.isnan(Log_Zq_62)]\n",
    "q_new_62 = q_new_62[~np.isnan(Log_Zq_62)]\n",
    "\n",
    "coeff_62 = np.polyfit(np.concatenate((-q_new_62[0:7],q_new_62[0:7])),np.concatenate((Log_Zq_62_new[0:7],Log_Zq_62_new[0:7])), 2)\n",
    "\n",
    "#for N = 400\n",
    "\n",
    "\n",
    "q_new_72 = q_array72[q_array72.size//2:q_array72.size] - q_array72.size//2\n",
    "Log_Zq_72_new = Log_Zq_72[~np.isnan(Log_Zq_72)]\n",
    "q_new_72 = q_new_72[~np.isnan(Log_Zq_72)]\n",
    "\n",
    "coeff_72 = np.polyfit(np.concatenate((-q_new_72[0:7],q_new_72[0:7])),np.concatenate((Log_Zq_72_new[0:7],Log_Zq_72_new[0:7])), 2)\n",
    "\n",
    "#func = lambda x: coeff_7[0]*x**2 + coeff_7[1]*x + coeff_7[2]\n",
    "#x_array = np.linspace(-6,6, 50)\n",
    "\n",
    "#plt.scatter(np.concatenate((-q_new_7[0:7],q_new_7[0:7])), np.concatenate((Log_Zq_7_new[0:7],Log_Zq_7_new[0:7])))\n",
    "#plt.plot(np.concatenate((-q_new_7[0:7],q_new_7[0:7])), func(np.concatenate((-q_new_7[0:7],q_new_7[0:7]))))\n",
    "#plt.plot(x_array, func(x_array))\n",
    "#plt.show()"
   ]
  },
  {
   "cell_type": "code",
   "execution_count": 93,
   "id": "southern-baltimore",
   "metadata": {},
   "outputs": [
    {
     "data": {
      "text/plain": [
       "Text(0.5, 1.0, '$\\\\sigma$(N), $\\\\delta$ = 0')"
      ]
     },
     "execution_count": 93,
     "metadata": {},
     "output_type": "execute_result"
    },
    {
     "data": {
      "image/png": "[encoded data removed]",
      "text/plain": [
       "<Figure size 720x360 with 1 Axes>"
      ]
     },
     "metadata": {
      "needs_background": "light"
     },
     "output_type": "display_data"
    }
   ],
   "source": [
    "sigma_array2 = sigma(np.array([coeff_12[0], coeff_22[0], coeff_32[0], coeff_42[0], coeff_52[0], coeff_62[0], coeff_72[0]]))\n",
    "N_array = np.array([6, 10, 20, 50, 200, 300, 400])\n",
    "plt.plot(N_array, sigma_array2, \".\")\n",
    "#plt.xscale('log')\n",
    "plt.title(\"$\\sigma$(N), $\\delta$ = 0\")"
   ]
  },
  {
   "cell_type": "markdown",
   "id": "clear-format",
   "metadata": {},
   "source": [
    "## $N_A$ dependence"
   ]
  },
  {
   "cell_type": "markdown",
   "id": "polar-relationship",
   "metadata": {},
   "source": [
    "## $\\delta$ = 0.02"
   ]
  },
  {
   "cell_type": "code",
   "execution_count": 94,
   "id": "occupational-motorcycle",
   "metadata": {},
   "outputs": [],
   "source": [
    "N_cells_NA = 500\n",
    "N_NA = N_cells_NA + 1\n",
    "type_num = 1\n",
    "\n",
    "Delta_NA = 0.02\n",
    "alpha_array_NA =  np.array([i for i in range(N_NA)])\n",
    "q_array_NA = np.array([i for i in range(N_NA)])\n",
    "\n",
    "from datetime import datetime\n",
    "start_time = datetime.now()\n",
    "\n",
    "\n",
    "#N_A = 4\n",
    "\n",
    "NA0 = 4\n",
    "A_NA0 = eigval_corr_matrix(N_cells_NA, Delta_NA, NA0)\n",
    "Z_n_array_NA0 = np.array([Z_n_real(type_num, alpha_array_NA[i], A_NA0, N_cells_NA) for i in range(N_NA//2  + 1)])"
   ]
  },
  {
   "cell_type": "code",
   "execution_count": 95,
   "id": "senior-biography",
   "metadata": {},
   "outputs": [],
   "source": [
    "#N_A = 10\n",
    "\n",
    "NA1 = 10\n",
    "A_NA1 = eigval_corr_matrix(N_cells_NA, Delta_NA, NA1)\n",
    "Z_n_array_NA1 = np.array([Z_n_real(type_num, alpha_array_NA[i], A_NA1, N_cells_NA) for i in range(N_NA//2 + 1)])"
   ]
  },
  {
   "cell_type": "code",
   "execution_count": 96,
   "id": "atomic-coupon",
   "metadata": {},
   "outputs": [],
   "source": [
    "#N_A = 20\n",
    "\n",
    "NA2 = 20\n",
    "A_NA2 = eigval_corr_matrix(N_cells_NA, Delta_NA, NA2)\n",
    "Z_n_array_NA2 = np.array([Z_n_real(type_num, alpha_array_NA[i], A_NA2, N_cells_NA) for i in range(N_NA//2 + 1)])"
   ]
  },
  {
   "cell_type": "code",
   "execution_count": 97,
   "id": "ambient-carolina",
   "metadata": {},
   "outputs": [],
   "source": [
    "#N_A = 50\n",
    "\n",
    "NA3 = 50\n",
    "A_NA3 = eigval_corr_matrix(N_cells_NA, Delta_NA, NA3)\n",
    "Z_n_array_NA3 = np.array([Z_n_real(type_num, alpha_array_NA[i], A_NA3, N_cells_NA) for i in range(N_NA//2 + 1)])"
   ]
  },
  {
   "cell_type": "code",
   "execution_count": 98,
   "id": "royal-throw",
   "metadata": {},
   "outputs": [],
   "source": [
    "#N_A = 100\n",
    "\n",
    "NA4 = 100\n",
    "A_NA4 = eigval_corr_matrix(N_cells_NA, Delta_NA, NA4)\n",
    "Z_n_array_NA4 = np.array([Z_n_real(type_num, alpha_array_NA[i], A_NA4, N_cells_NA) for i in range(N_NA//2 + 1)])"
   ]
  },
  {
   "cell_type": "code",
   "execution_count": 99,
   "id": "instant-begin",
   "metadata": {},
   "outputs": [
    {
     "name": "stdout",
     "output_type": "stream",
     "text": [
      "Duration: 0:02:35.183695\n"
     ]
    }
   ],
   "source": [
    "#N_A = 150\n",
    "\n",
    "\n",
    "start_time = datetime.now()\n",
    "\n",
    "NA5 = 150\n",
    "A_NA5 = eigval_corr_matrix(N_cells_NA, Delta_NA, NA5)\n",
    "Z_n_array_NA5 = np.array([Z_n_real(type_num, alpha_array_NA[i], A_NA5, N_cells_NA) for i in range(N_NA//2 + 1)])\n",
    "\n",
    "end_time = datetime.now()\n",
    "print('Duration: {}'.format(end_time - start_time))"
   ]
  },
  {
   "cell_type": "code",
   "execution_count": 100,
   "id": "brutal-founder",
   "metadata": {},
   "outputs": [
    {
     "name": "stdout",
     "output_type": "stream",
     "text": [
      "Duration: 0:04:20.767356\n"
     ]
    }
   ],
   "source": [
    "#N_A = 200\n",
    "\n",
    "start_time = datetime.now()\n",
    "\n",
    "NA6 = 200\n",
    "A_NA6 = eigval_corr_matrix(N_cells_NA, Delta_NA, NA6)\n",
    "Z_n_array_NA6 = np.array([Z_n_real(type_num, alpha_array_NA[i], A_NA6, N_cells_NA) for i in range(N_NA//2 + 1)])\n",
    "\n",
    "end_time = datetime.now()\n",
    "print('Duration: {}'.format(end_time - start_time))"
   ]
  },
  {
   "cell_type": "code",
   "execution_count": 101,
   "id": "sufficient-bonus",
   "metadata": {},
   "outputs": [
    {
     "name": "stdout",
     "output_type": "stream",
     "text": [
      "Duration: 0:06:49.204439\n"
     ]
    }
   ],
   "source": [
    "#N_A = 250\n",
    "\n",
    "start_time = datetime.now()\n",
    "\n",
    "NA7 = 250\n",
    "A_NA7 = eigval_corr_matrix(N_cells_NA, Delta_NA, NA7)\n",
    "Z_n_array_NA7 = np.array([Z_n_real(type_num, alpha_array_NA[i], A_NA7, N_cells_NA) for i in range(N_NA//2 + 1)])\n",
    "\n",
    "end_time = datetime.now()\n",
    "print('Duration: {}'.format(end_time - start_time))"
   ]
  },
  {
   "cell_type": "code",
   "execution_count": 102,
   "id": "apart-setting",
   "metadata": {},
   "outputs": [
    {
     "name": "stdout",
     "output_type": "stream",
     "text": [
      "[24.996666311036567, 26]\n"
     ]
    }
   ],
   "source": [
    "print(critical_length(0.02))"
   ]
  },
  {
   "cell_type": "code",
   "execution_count": 103,
   "id": "colonial-finland",
   "metadata": {},
   "outputs": [
    {
     "name": "stderr",
     "output_type": "stream",
     "text": [
      "C:\\Users\\MI\\Anaconda3\\lib\\site-packages\\ipykernel_launcher.py:1: RuntimeWarning: invalid value encountered in log\n",
      "  \"\"\"Entry point for launching an IPython kernel.\n",
      "C:\\Users\\MI\\Anaconda3\\lib\\site-packages\\ipykernel_launcher.py:3: RuntimeWarning: invalid value encountered in log\n",
      "  This is separate from the ipykernel package so we can avoid doing imports until\n",
      "C:\\Users\\MI\\Anaconda3\\lib\\site-packages\\ipykernel_launcher.py:5: RuntimeWarning: invalid value encountered in log\n",
      "  \"\"\"\n",
      "C:\\Users\\MI\\Anaconda3\\lib\\site-packages\\ipykernel_launcher.py:7: RuntimeWarning: invalid value encountered in log\n",
      "  import sys\n",
      "C:\\Users\\MI\\Anaconda3\\lib\\site-packages\\ipykernel_launcher.py:9: RuntimeWarning: invalid value encountered in log\n",
      "  if __name__ == '__main__':\n",
      "C:\\Users\\MI\\Anaconda3\\lib\\site-packages\\ipykernel_launcher.py:11: RuntimeWarning: invalid value encountered in log\n",
      "  # This is added back by InteractiveShellApp.init_path()\n",
      "C:\\Users\\MI\\Anaconda3\\lib\\site-packages\\ipykernel_launcher.py:13: RuntimeWarning: invalid value encountered in log\n",
      "  del sys.path[0]\n",
      "C:\\Users\\MI\\Anaconda3\\lib\\site-packages\\ipykernel_launcher.py:15: RuntimeWarning: invalid value encountered in log\n",
      "  from ipykernel import kernelapp as app\n"
     ]
    }
   ],
   "source": [
    "Log_Zq_NA0 = np.log(DFT_half(Z_n_array_NA0)[q_array_NA.size//2:q_array_NA.size])\n",
    "\n",
    "Log_Zq_NA1 = np.log(DFT_half(Z_n_array_NA1)[q_array_NA.size//2:q_array_NA.size])\n",
    "\n",
    "Log_Zq_NA2 = np.log(DFT_half(Z_n_array_NA2)[q_array_NA.size//2:q_array_NA.size])\n",
    "\n",
    "Log_Zq_NA3 = np.log(DFT_half(Z_n_array_NA3)[q_array_NA.size//2:q_array_NA.size])\n",
    "\n",
    "Log_Zq_NA4 = np.log(DFT_half(Z_n_array_NA4)[q_array_NA.size//2:q_array_NA.size])\n",
    "\n",
    "Log_Zq_NA5 = np.log(DFT_half(Z_n_array_NA5)[q_array_NA.size//2:q_array_NA.size])\n",
    "\n",
    "Log_Zq_NA6 = np.log(DFT_half(Z_n_array_NA6)[q_array_NA.size//2:q_array_NA.size])\n",
    "\n",
    "Log_Zq_NA7 = np.log(DFT_half(Z_n_array_NA7)[q_array_NA.size//2:q_array_NA.size])"
   ]
  },
  {
   "cell_type": "code",
   "execution_count": 104,
   "id": "brave-tomorrow",
   "metadata": {},
   "outputs": [
    {
     "data": {
      "image/png": "[encoded data removed]",
      "text/plain": [
       "<Figure size 720x360 with 1 Axes>"
      ]
     },
     "metadata": {
      "needs_background": "light"
     },
     "output_type": "display_data"
    }
   ],
   "source": [
    "plt.plot(q_array_NA[q_array_NA.size//2:q_array_NA.size] - q_array_NA.size//2, Log_Zq_NA0, label = \"$N_A$ =\" + str(NA0))\n",
    "plt.plot(q_array_NA[q_array_NA.size//2:q_array_NA.size] - q_array_NA.size//2, Log_Zq_NA1, label = \"$N_A$ = \" + str(NA1))\n",
    "plt.plot(q_array_NA[q_array_NA.size//2:q_array_NA.size] - q_array_NA.size//2, Log_Zq_NA2, label = \"$N_A$= \" + str(NA2))\n",
    "plt.plot(q_array_NA[q_array_NA.size//2:q_array_NA.size] - q_array_NA.size//2, Log_Zq_NA3, label = \"$N_A$ = \" + str(NA3))\n",
    "plt.plot(q_array_NA[q_array_NA.size//2:q_array_NA.size] - q_array_NA.size//2, Log_Zq_NA4, label = \"$N_A$ = \" + str(NA4))\n",
    "plt.plot(q_array_NA[q_array_NA.size//2:q_array_NA.size] - q_array_NA.size//2, Log_Zq_NA5, label = \"$N_A$ = \" + str(NA5))\n",
    "plt.plot(q_array_NA[q_array_NA.size//2:q_array_NA.size] - q_array_NA.size//2, Log_Zq_NA6, label = \"$N_A$ = \" + str(NA6))\n",
    "plt.plot(q_array_NA[q_array_NA.size//2:q_array_NA.size] - q_array_NA.size//2, Log_Zq_NA7, label = \"$N_A$ = \" + str(NA7))\n",
    "\n",
    "plt.legend()\n",
    "plt.ylim([-20,3])\n",
    "plt.xlim([0,8])\n",
    "plt.title(\"$\\log Z_1 (q), \\quad N = 500, \\quad \\delta$ = \" + str(Delta_NA))\n",
    "plt.rcParams[\"figure.figsize\"] = (10,5)"
   ]
  },
  {
   "cell_type": "code",
   "execution_count": 105,
   "id": "duplicate-allocation",
   "metadata": {},
   "outputs": [],
   "source": [
    "q_NA = q_array_NA[q_array_NA.size//2:q_array_NA.size] - q_array_NA.size//2\n",
    "\n",
    "\n",
    "#for N = 4\n",
    "\n",
    "Log_Zq_NA0_new = Log_Zq_NA0[~np.isnan(Log_Zq_NA0)]\n",
    "q_NA0 = q_NA[~np.isnan(Log_Zq_NA0)]\n",
    "\n",
    "coeff_NA0 = np.polyfit(np.concatenate((-q_NA0[0:5],q_NA0[0:5])),np.concatenate((Log_Zq_NA0_new[0:5],Log_Zq_NA0_new[0:5])), 2)\n",
    "\n",
    "#N_A = 10\n",
    "\n",
    "Log_Zq_NA1_new = Log_Zq_NA1[~np.isnan(Log_Zq_NA1)]\n",
    "q_NA1 = q_NA[~np.isnan(Log_Zq_NA1)]\n",
    "\n",
    "coeff_NA1 = np.polyfit(np.concatenate((-q_NA1[0:5],q_NA1[0:5])),np.concatenate((Log_Zq_NA1_new[0:5],Log_Zq_NA1_new[0:5])), 2)\n",
    "\n",
    "\n",
    "\n",
    "#N_A = 20\n",
    "\n",
    "Log_Zq_NA2_new = Log_Zq_NA2[~np.isnan(Log_Zq_NA2)]\n",
    "q_NA2 = q_NA[~np.isnan(Log_Zq_NA2)]\n",
    "\n",
    "coeff_NA2 = np.polyfit(np.concatenate((-q_NA2[0:5],q_NA2[0:5])),np.concatenate((Log_Zq_NA2_new[0:5],Log_Zq_NA2_new[0:5])), 2)\n",
    "\n",
    "\n",
    "\n",
    "#N_A = 50\n",
    "\n",
    "Log_Zq_NA3_new = Log_Zq_NA3[~np.isnan(Log_Zq_NA3)]\n",
    "q_NA3 = q_NA[~np.isnan(Log_Zq_NA3)]\n",
    "\n",
    "coeff_NA3 = np.polyfit(np.concatenate((-q_NA3[0:5],q_NA3[0:5])),np.concatenate((Log_Zq_NA3_new[0:5],Log_Zq_NA3_new[0:5])), 2)\n",
    "\n",
    "\n",
    "#N_A = 100\n",
    "\n",
    "Log_Zq_NA4_new = Log_Zq_NA4[~np.isnan(Log_Zq_NA4)]\n",
    "q_NA4 = q_NA[~np.isnan(Log_Zq_NA4)]\n",
    "\n",
    "coeff_NA4 = np.polyfit(np.concatenate((-q_NA4[0:5],q_NA4[0:5])),np.concatenate((Log_Zq_NA4_new[0:5],Log_Zq_NA4_new[0:5])), 2)\n",
    "\n",
    "\n",
    "\n",
    "#N_A = 150\n",
    "\n",
    "Log_Zq_NA5_new = Log_Zq_NA5[~np.isnan(Log_Zq_NA5)]\n",
    "q_NA5 = q_NA[~np.isnan(Log_Zq_NA5)]\n",
    "\n",
    "coeff_NA5 = np.polyfit(np.concatenate((-q_NA5[0:5],q_NA5[0:5])),np.concatenate((Log_Zq_NA5_new[0:5],Log_Zq_NA5_new[0:5])), 2)\n",
    "\n",
    "\n",
    "#N_A = 200\n",
    "\n",
    "Log_Zq_NA6_new = Log_Zq_NA6[~np.isnan(Log_Zq_NA6)]\n",
    "q_NA6 = q_NA[~np.isnan(Log_Zq_NA6)]\n",
    "\n",
    "coeff_NA6 = np.polyfit(np.concatenate((-q_NA6[0:5],q_NA6[0:5])),np.concatenate((Log_Zq_NA6_new[0:5],Log_Zq_NA6_new[0:5])), 2)\n",
    "\n",
    "\n",
    "#N_A = 250\n",
    "\n",
    "Log_Zq_NA7_new = Log_Zq_NA7[~np.isnan(Log_Zq_NA7)]\n",
    "q_NA7 = q_NA[~np.isnan(Log_Zq_NA7)]\n",
    "\n",
    "coeff_NA7 = np.polyfit(np.concatenate((-q_NA7[0:5],q_NA7[0:5])),np.concatenate((Log_Zq_NA7_new[0:5],Log_Zq_NA7_new[0:5])), 2)\n"
   ]
  },
  {
   "cell_type": "code",
   "execution_count": 106,
   "id": "printable-spencer",
   "metadata": {},
   "outputs": [
    {
     "data": {
      "text/plain": [
       "Text(0.5, 1.0, '$\\\\sigma (N_A), N = 500 $, $\\\\delta$ = 0.02')"
      ]
     },
     "execution_count": 106,
     "metadata": {},
     "output_type": "execute_result"
    },
    {
     "data": {
      "image/png": "[encoded data removed]",
      "text/plain": [
       "<Figure size 720x360 with 1 Axes>"
      ]
     },
     "metadata": {
      "needs_background": "light"
     },
     "output_type": "display_data"
    }
   ],
   "source": [
    "sigma_arrayNA = sigma(np.array([coeff_NA0[0], coeff_NA1[0], coeff_NA2[0], coeff_NA3[0], coeff_NA4[0],coeff_NA5[0], \n",
    "                                coeff_NA6[0], coeff_NA7[0]]))\n",
    "N_array = np.array([4, 10, 20, 50, 100, 150, 200, 250])\n",
    "plt.plot(N_array, sigma_arrayNA, \".\")\n",
    "#plt.xscale('log')\n",
    "plt.title(\"$\\sigma (N_A), N = 500 $, $\\delta$ = 0.02\")"
   ]
  },
  {
   "cell_type": "markdown",
   "id": "ranging-fifth",
   "metadata": {},
   "source": [
    "## $\\delta$ = 0.01"
   ]
  },
  {
   "cell_type": "code",
   "execution_count": 107,
   "id": "hispanic-colonial",
   "metadata": {},
   "outputs": [],
   "source": [
    "Delta_NA1 = 0.01\n",
    "\n",
    "#N_A = 4\n",
    "\n",
    "NA01 = 4\n",
    "A_NA01 = eigval_corr_matrix(N_cells_NA, Delta_NA1, NA01)\n",
    "Z_n_array_NA01 = np.array([Z_n_real(type_num, alpha_array_NA[i], A_NA01, N_cells_NA) for i in range(N_NA//2 + 1)])"
   ]
  },
  {
   "cell_type": "code",
   "execution_count": 108,
   "id": "dedicated-earthquake",
   "metadata": {},
   "outputs": [],
   "source": [
    "#N_A = 10\n",
    "\n",
    "NA11 = 10\n",
    "A_NA11 = eigval_corr_matrix(N_cells_NA, Delta_NA1, NA11)\n",
    "Z_n_array_NA11 = np.array([Z_n_real(type_num, alpha_array_NA[i], A_NA11, N_cells_NA) for i in range(N_NA//2  + 1)])"
   ]
  },
  {
   "cell_type": "code",
   "execution_count": 109,
   "id": "dependent-remove",
   "metadata": {},
   "outputs": [],
   "source": [
    "#N_A = 20\n",
    "\n",
    "NA21 = 20\n",
    "A_NA21 = eigval_corr_matrix(N_cells_NA, Delta_NA1, NA21)\n",
    "Z_n_array_NA21 = np.array([Z_n_real(type_num, alpha_array_NA[i], A_NA21, N_cells_NA) for i in range(N_NA//2  + 1)])"
   ]
  },
  {
   "cell_type": "code",
   "execution_count": 110,
   "id": "unexpected-minister",
   "metadata": {},
   "outputs": [],
   "source": [
    "#N_A = 50\n",
    "\n",
    "NA31 = 50\n",
    "A_NA31 = eigval_corr_matrix(N_cells_NA, Delta_NA1, NA31)\n",
    "Z_n_array_NA31 = np.array([Z_n_real(type_num, alpha_array_NA[i], A_NA31, N_cells_NA) for i in range(N_NA//2  + 1)])"
   ]
  },
  {
   "cell_type": "code",
   "execution_count": 111,
   "id": "persistent-highland",
   "metadata": {},
   "outputs": [],
   "source": [
    "#N_A = 100\n",
    "\n",
    "NA41 = 100\n",
    "A_NA41 = eigval_corr_matrix(N_cells_NA, Delta_NA1, NA41)\n",
    "Z_n_array_NA41 = np.array([Z_n_real(type_num, alpha_array_NA[i], A_NA41, N_cells_NA) for i in range(N_NA//2  + 1)])"
   ]
  },
  {
   "cell_type": "code",
   "execution_count": 112,
   "id": "dominant-parker",
   "metadata": {},
   "outputs": [
    {
     "name": "stdout",
     "output_type": "stream",
     "text": [
      "Duration: 0:02:29.499233\n"
     ]
    }
   ],
   "source": [
    "#N_A = 150\n",
    "\n",
    "start_time = datetime.now()\n",
    "\n",
    "NA51 = 150\n",
    "A_NA51 = eigval_corr_matrix(N_cells_NA, Delta_NA1, NA51)\n",
    "Z_n_array_NA51 = np.array([Z_n_real(type_num, alpha_array_NA[i], A_NA51, N_cells_NA) for i in range(N_NA//2  + 1)])\n",
    "\n",
    "end_time = datetime.now()\n",
    "print('Duration: {}'.format(end_time - start_time))"
   ]
  },
  {
   "cell_type": "code",
   "execution_count": 113,
   "id": "powerful-turkey",
   "metadata": {},
   "outputs": [
    {
     "name": "stdout",
     "output_type": "stream",
     "text": [
      "Duration: 0:04:13.263818\n"
     ]
    }
   ],
   "source": [
    "#N_A = 200\n",
    "\n",
    "start_time = datetime.now()\n",
    "\n",
    "NA61 = 200\n",
    "A_NA61 = eigval_corr_matrix(N_cells_NA, Delta_NA1, NA61)\n",
    "Z_n_array_NA61 = np.array([Z_n_real(type_num, alpha_array_NA[i], A_NA61, N_cells_NA) for i in range(N_NA//2  + 1)])\n",
    "\n",
    "end_time = datetime.now()\n",
    "print('Duration: {}'.format(end_time - start_time))"
   ]
  },
  {
   "cell_type": "code",
   "execution_count": 114,
   "id": "controlled-failure",
   "metadata": {},
   "outputs": [
    {
     "name": "stdout",
     "output_type": "stream",
     "text": [
      "Duration: 0:06:48.082839\n"
     ]
    }
   ],
   "source": [
    "#N_A = 250\n",
    "\n",
    "start_time = datetime.now()\n",
    "\n",
    "NA71 = 250\n",
    "A_NA71 = eigval_corr_matrix(N_cells_NA, Delta_NA1, NA71)\n",
    "Z_n_array_NA71 = np.array([Z_n_real(type_num, alpha_array_NA[i], A_NA71, N_cells_NA) for i in range(N_NA//2  + 1)])\n",
    "\n",
    "end_time = datetime.now()\n",
    "print('Duration: {}'.format(end_time - start_time))"
   ]
  },
  {
   "cell_type": "code",
   "execution_count": 115,
   "id": "returning-wealth",
   "metadata": {},
   "outputs": [
    {
     "name": "stderr",
     "output_type": "stream",
     "text": [
      "C:\\Users\\MI\\Anaconda3\\lib\\site-packages\\ipykernel_launcher.py:1: RuntimeWarning: invalid value encountered in log\n",
      "  \"\"\"Entry point for launching an IPython kernel.\n",
      "C:\\Users\\MI\\Anaconda3\\lib\\site-packages\\ipykernel_launcher.py:3: RuntimeWarning: invalid value encountered in log\n",
      "  This is separate from the ipykernel package so we can avoid doing imports until\n",
      "C:\\Users\\MI\\Anaconda3\\lib\\site-packages\\ipykernel_launcher.py:5: RuntimeWarning: invalid value encountered in log\n",
      "  \"\"\"\n",
      "C:\\Users\\MI\\Anaconda3\\lib\\site-packages\\ipykernel_launcher.py:7: RuntimeWarning: invalid value encountered in log\n",
      "  import sys\n",
      "C:\\Users\\MI\\Anaconda3\\lib\\site-packages\\ipykernel_launcher.py:9: RuntimeWarning: invalid value encountered in log\n",
      "  if __name__ == '__main__':\n",
      "C:\\Users\\MI\\Anaconda3\\lib\\site-packages\\ipykernel_launcher.py:11: RuntimeWarning: invalid value encountered in log\n",
      "  # This is added back by InteractiveShellApp.init_path()\n",
      "C:\\Users\\MI\\Anaconda3\\lib\\site-packages\\ipykernel_launcher.py:13: RuntimeWarning: invalid value encountered in log\n",
      "  del sys.path[0]\n",
      "C:\\Users\\MI\\Anaconda3\\lib\\site-packages\\ipykernel_launcher.py:15: RuntimeWarning: invalid value encountered in log\n",
      "  from ipykernel import kernelapp as app\n"
     ]
    }
   ],
   "source": [
    "Log_Zq_NA01 = np.log(DFT_half(Z_n_array_NA01)[q_array_NA.size//2:q_array_NA.size])\n",
    "\n",
    "Log_Zq_NA11 = np.log(DFT_half(Z_n_array_NA11)[q_array_NA.size//2:q_array_NA.size])\n",
    "\n",
    "Log_Zq_NA21 = np.log(DFT_half(Z_n_array_NA21)[q_array_NA.size//2:q_array_NA.size])\n",
    "\n",
    "Log_Zq_NA31 = np.log(DFT_half(Z_n_array_NA31)[q_array_NA.size//2:q_array_NA.size])\n",
    "\n",
    "Log_Zq_NA41 = np.log(DFT_half(Z_n_array_NA41)[q_array_NA.size//2:q_array_NA.size])\n",
    "\n",
    "Log_Zq_NA51 = np.log(DFT_half(Z_n_array_NA51)[q_array_NA.size//2:q_array_NA.size])\n",
    "\n",
    "Log_Zq_NA61 = np.log(DFT_half(Z_n_array_NA61)[q_array_NA.size//2:q_array_NA.size])\n",
    "\n",
    "Log_Zq_NA71 = np.log(DFT_half(Z_n_array_NA71)[q_array_NA.size//2:q_array_NA.size])"
   ]
  },
  {
   "cell_type": "code",
   "execution_count": 116,
   "id": "excess-bankruptcy",
   "metadata": {},
   "outputs": [
    {
     "data": {
      "image/png": "[encoded data removed]",
      "text/plain": [
       "<Figure size 720x360 with 1 Axes>"
      ]
     },
     "metadata": {
      "needs_background": "light"
     },
     "output_type": "display_data"
    }
   ],
   "source": [
    "plt.plot(q_array_NA[q_array_NA.size//2:q_array_NA.size] - q_array_NA.size//2, Log_Zq_NA01, label = \"$N_A$ =\" + str(NA01))\n",
    "plt.plot(q_array_NA[q_array_NA.size//2:q_array_NA.size] - q_array_NA.size//2, Log_Zq_NA11, label = \"$N_A$ = \" + str(NA11))\n",
    "plt.plot(q_array_NA[q_array_NA.size//2:q_array_NA.size] - q_array_NA.size//2, Log_Zq_NA21, label = \"$N_A$= \" + str(NA21))\n",
    "plt.plot(q_array_NA[q_array_NA.size//2:q_array_NA.size] - q_array_NA.size//2, Log_Zq_NA31, label = \"$N_A$ = \" + str(NA31))\n",
    "plt.plot(q_array_NA[q_array_NA.size//2:q_array_NA.size] - q_array_NA.size//2, Log_Zq_NA41, label = \"$N_A$ = \" + str(NA41))\n",
    "plt.plot(q_array_NA[q_array_NA.size//2:q_array_NA.size] - q_array_NA.size//2, Log_Zq_NA51, label = \"$N_A$ = \" + str(NA51))\n",
    "plt.plot(q_array_NA[q_array_NA.size//2:q_array_NA.size] - q_array_NA.size//2, Log_Zq_NA61, label = \"$N_A$ = \" + str(NA61))\n",
    "plt.plot(q_array_NA[q_array_NA.size//2:q_array_NA.size] - q_array_NA.size//2, Log_Zq_NA71, label = \"$N_A$ = \" + str(NA71))\n",
    "\n",
    "plt.legend()\n",
    "plt.ylim([-20,3])\n",
    "plt.xlim([0,8])\n",
    "plt.title(\"$\\log Z_1 (q), \\quad N = 500, \\quad \\delta$ = \" + str(Delta_NA1))\n",
    "plt.rcParams[\"figure.figsize\"] = (10,5)"
   ]
  },
  {
   "cell_type": "code",
   "execution_count": 117,
   "id": "distributed-increase",
   "metadata": {},
   "outputs": [],
   "source": [
    "#for N = 4\n",
    "\n",
    "Log_Zq_NA01_new = Log_Zq_NA01[~np.isnan(Log_Zq_NA01)]\n",
    "q_NA01 = q_NA[~np.isnan(Log_Zq_NA01)]\n",
    "\n",
    "coeff_NA01 = np.polyfit(np.concatenate((-q_NA01[0:5],q_NA01[0:5])),np.concatenate((Log_Zq_NA01_new[0:5],Log_Zq_NA01_new[0:5])), 2)\n",
    "\n",
    "#N_A = 10\n",
    "\n",
    "Log_Zq_NA11_new = Log_Zq_NA11[~np.isnan(Log_Zq_NA11)]\n",
    "q_NA11 = q_NA[~np.isnan(Log_Zq_NA11)]\n",
    "\n",
    "coeff_NA11 = np.polyfit(np.concatenate((-q_NA11[0:5],q_NA11[0:5])),np.concatenate((Log_Zq_NA11_new[0:5],Log_Zq_NA11_new[0:5])), 2)\n",
    "\n",
    "\n",
    "\n",
    "#N_A = 20\n",
    "\n",
    "Log_Zq_NA21_new = Log_Zq_NA21[~np.isnan(Log_Zq_NA21)]\n",
    "q_NA21 = q_NA[~np.isnan(Log_Zq_NA21)]\n",
    "\n",
    "coeff_NA21 = np.polyfit(np.concatenate((-q_NA21[0:5],q_NA21[0:5])),np.concatenate((Log_Zq_NA21_new[0:5],Log_Zq_NA21_new[0:5])), 2)\n",
    "\n",
    "\n",
    "\n",
    "#N_A = 50\n",
    "\n",
    "Log_Zq_NA31_new = Log_Zq_NA31[~np.isnan(Log_Zq_NA31)]\n",
    "q_NA31 = q_NA[~np.isnan(Log_Zq_NA31)]\n",
    "\n",
    "coeff_NA31 = np.polyfit(np.concatenate((-q_NA31[0:5],q_NA31[0:5])),np.concatenate((Log_Zq_NA31_new[0:5],Log_Zq_NA31_new[0:5])), 2)\n",
    "\n",
    "\n",
    "#N_A = 100\n",
    "\n",
    "Log_Zq_NA41_new = Log_Zq_NA41[~np.isnan(Log_Zq_NA41)]\n",
    "q_NA41 = q_NA[~np.isnan(Log_Zq_NA41)]\n",
    "\n",
    "coeff_NA41 = np.polyfit(np.concatenate((-q_NA41[0:5],q_NA41[0:5])),np.concatenate((Log_Zq_NA41_new[0:5],Log_Zq_NA41_new[0:5])), 2)\n",
    "\n",
    "\n",
    "\n",
    "#N_A = 150\n",
    "\n",
    "Log_Zq_NA51_new = Log_Zq_NA51[~np.isnan(Log_Zq_NA51)]\n",
    "q_NA51 = q_NA[~np.isnan(Log_Zq_NA51)]\n",
    "\n",
    "coeff_NA51 = np.polyfit(np.concatenate((-q_NA51[0:5],q_NA51[0:5])),np.concatenate((Log_Zq_NA51_new[0:5],Log_Zq_NA51_new[0:5])), 2)\n",
    "\n",
    "\n",
    "#N_A = 200\n",
    "\n",
    "Log_Zq_NA61_new = Log_Zq_NA61[~np.isnan(Log_Zq_NA61)]\n",
    "q_NA61 = q_NA[~np.isnan(Log_Zq_NA61)]\n",
    "\n",
    "coeff_NA61 = np.polyfit(np.concatenate((-q_NA61[0:5],q_NA61[0:5])),np.concatenate((Log_Zq_NA61_new[0:5],Log_Zq_NA61_new[0:5])), 2)\n",
    "\n",
    "\n",
    "#N_A = 250\n",
    "\n",
    "Log_Zq_NA71_new = Log_Zq_NA71[~np.isnan(Log_Zq_NA71)]\n",
    "q_NA71 = q_NA[~np.isnan(Log_Zq_NA71)]\n",
    "\n",
    "coeff_NA71 = np.polyfit(np.concatenate((-q_NA71[0:5],q_NA71[0:5])),np.concatenate((Log_Zq_NA71_new[0:5],Log_Zq_NA71_new[0:5])), 2)\n"
   ]
  },
  {
   "cell_type": "code",
   "execution_count": 118,
   "id": "suspended-africa",
   "metadata": {},
   "outputs": [
    {
     "data": {
      "text/plain": [
       "Text(0.5, 1.0, '$\\\\sigma (N_A), N = 500 $, $\\\\delta$ = 0.01')"
      ]
     },
     "execution_count": 118,
     "metadata": {},
     "output_type": "execute_result"
    },
    {
     "data": {
      "image/png": "[encoded data removed]",
      "text/plain": [
       "<Figure size 720x360 with 1 Axes>"
      ]
     },
     "metadata": {
      "needs_background": "light"
     },
     "output_type": "display_data"
    }
   ],
   "source": [
    "sigma_arrayNA1 = sigma(np.array([coeff_NA01[0], coeff_NA11[0], coeff_NA21[0], coeff_NA31[0], coeff_NA41[0], coeff_NA51[0], \n",
    "                                coeff_NA61[0], coeff_NA71[0]]))\n",
    "N_array = np.array([4, 10, 20, 50, 100, 150, 200, 250])\n",
    "plt.plot(N_array, sigma_arrayNA1, \".\")\n",
    "#plt.xscale('log')\n",
    "plt.title(\"$\\sigma (N_A), N = 500 $, $\\delta$ = 0.01\")"
   ]
  },
  {
   "cell_type": "markdown",
   "id": "political-practice",
   "metadata": {},
   "source": [
    "# $\\delta$ = 0"
   ]
  },
  {
   "cell_type": "code",
   "execution_count": 120,
   "id": "involved-slide",
   "metadata": {},
   "outputs": [],
   "source": [
    "Delta_NA2 = 0\n",
    "\n",
    "#N_A = 4\n",
    "\n",
    "NA02 = 4\n",
    "A_NA02 = eigval_corr_matrix(N_cells_NA, Delta_NA2, NA02)\n",
    "Z_n_array_NA02 = np.array([Z_n_real(type_num, alpha_array_NA[i], A_NA02, N_cells_NA) for i in range(N_NA//2 + 1)])"
   ]
  },
  {
   "cell_type": "code",
   "execution_count": 121,
   "id": "forty-gambling",
   "metadata": {},
   "outputs": [],
   "source": [
    "#N_A = 10\n",
    "\n",
    "NA12 = 10\n",
    "A_NA12 = eigval_corr_matrix(N_cells_NA, Delta_NA2, NA12)\n",
    "Z_n_array_NA12 = np.array([Z_n_real(type_num, alpha_array_NA[i], A_NA12, N_cells_NA) for i in range(N_NA//2 + 1)])"
   ]
  },
  {
   "cell_type": "code",
   "execution_count": 122,
   "id": "gothic-tactics",
   "metadata": {},
   "outputs": [],
   "source": [
    "#N_A = 20\n",
    "\n",
    "NA22 = 20\n",
    "A_NA22 = eigval_corr_matrix(N_cells_NA, Delta_NA2, NA22)\n",
    "Z_n_array_NA22 = np.array([Z_n_real(type_num, alpha_array_NA[i], A_NA22, N_cells_NA) for i in range(N_NA//2 + 1)])"
   ]
  },
  {
   "cell_type": "code",
   "execution_count": 123,
   "id": "tested-palestine",
   "metadata": {},
   "outputs": [],
   "source": [
    "#N_A = 50\n",
    "\n",
    "NA32 = 50\n",
    "A_NA32 = eigval_corr_matrix(N_cells_NA, Delta_NA2, NA32)\n",
    "Z_n_array_NA32 = np.array([Z_n_real(type_num, alpha_array_NA[i], A_NA32, N_cells_NA) for i in range(N_NA//2 + 1)])"
   ]
  },
  {
   "cell_type": "code",
   "execution_count": 124,
   "id": "derived-postage",
   "metadata": {},
   "outputs": [],
   "source": [
    "#N_A = 100\n",
    "\n",
    "NA42 = 100\n",
    "A_NA42 = eigval_corr_matrix(N_cells_NA, Delta_NA2, NA42)\n",
    "Z_n_array_NA42 = np.array([Z_n_real(type_num, alpha_array_NA[i], A_NA42, N_cells_NA) for i in range(N_NA//2 + 1)])"
   ]
  },
  {
   "cell_type": "code",
   "execution_count": 125,
   "id": "selected-degree",
   "metadata": {},
   "outputs": [
    {
     "name": "stdout",
     "output_type": "stream",
     "text": [
      "Duration: 0:02:36.228933\n"
     ]
    }
   ],
   "source": [
    "#N_A = 150\n",
    "\n",
    "start_time = datetime.now()\n",
    "\n",
    "NA52 = 150\n",
    "A_NA52 = eigval_corr_matrix(N_cells_NA, Delta_NA2, NA52)\n",
    "Z_n_array_NA52 = np.array([Z_n_real(type_num, alpha_array_NA[i], A_NA52, N_cells_NA) for i in range(N_NA//2 + 1)])\n",
    "\n",
    "end_time = datetime.now()\n",
    "print('Duration: {}'.format(end_time - start_time))"
   ]
  },
  {
   "cell_type": "code",
   "execution_count": 126,
   "id": "caroline-truck",
   "metadata": {},
   "outputs": [
    {
     "name": "stdout",
     "output_type": "stream",
     "text": [
      "Duration: 0:04:27.990962\n"
     ]
    }
   ],
   "source": [
    "#N_A = 200\n",
    "\n",
    "start_time = datetime.now()\n",
    "\n",
    "NA62 = 200\n",
    "A_NA62 = eigval_corr_matrix(N_cells_NA, Delta_NA2, NA62)\n",
    "Z_n_array_NA62 = np.array([Z_n_real(type_num, alpha_array_NA[i], A_NA62, N_cells_NA) for i in range(N_NA//2 + 1)])\n",
    "\n",
    "end_time = datetime.now()\n",
    "print('Duration: {}'.format(end_time - start_time))"
   ]
  },
  {
   "cell_type": "code",
   "execution_count": 127,
   "id": "engaging-teaching",
   "metadata": {},
   "outputs": [],
   "source": [
    "#N_A = 250\n",
    "\n",
    "NA72 = 250\n",
    "A_NA72 = eigval_corr_matrix(N_cells_NA, Delta_NA2, NA72)\n",
    "Z_n_array_NA72 = np.array([Z_n_real(type_num, alpha_array_NA[i], A_NA72, N_cells_NA) for i in range(N_NA//2 + 1)])"
   ]
  },
  {
   "cell_type": "code",
   "execution_count": 128,
   "id": "afraid-deployment",
   "metadata": {},
   "outputs": [
    {
     "name": "stderr",
     "output_type": "stream",
     "text": [
      "C:\\Users\\MI\\Anaconda3\\lib\\site-packages\\ipykernel_launcher.py:1: RuntimeWarning: invalid value encountered in log\n",
      "  \"\"\"Entry point for launching an IPython kernel.\n",
      "C:\\Users\\MI\\Anaconda3\\lib\\site-packages\\ipykernel_launcher.py:3: RuntimeWarning: invalid value encountered in log\n",
      "  This is separate from the ipykernel package so we can avoid doing imports until\n",
      "C:\\Users\\MI\\Anaconda3\\lib\\site-packages\\ipykernel_launcher.py:5: RuntimeWarning: invalid value encountered in log\n",
      "  \"\"\"\n",
      "C:\\Users\\MI\\Anaconda3\\lib\\site-packages\\ipykernel_launcher.py:7: RuntimeWarning: invalid value encountered in log\n",
      "  import sys\n",
      "C:\\Users\\MI\\Anaconda3\\lib\\site-packages\\ipykernel_launcher.py:9: RuntimeWarning: invalid value encountered in log\n",
      "  if __name__ == '__main__':\n",
      "C:\\Users\\MI\\Anaconda3\\lib\\site-packages\\ipykernel_launcher.py:11: RuntimeWarning: invalid value encountered in log\n",
      "  # This is added back by InteractiveShellApp.init_path()\n",
      "C:\\Users\\MI\\Anaconda3\\lib\\site-packages\\ipykernel_launcher.py:13: RuntimeWarning: invalid value encountered in log\n",
      "  del sys.path[0]\n",
      "C:\\Users\\MI\\Anaconda3\\lib\\site-packages\\ipykernel_launcher.py:15: RuntimeWarning: invalid value encountered in log\n",
      "  from ipykernel import kernelapp as app\n"
     ]
    }
   ],
   "source": [
    "Log_Zq_NA02 = np.log(DFT_half(Z_n_array_NA02)[q_array_NA.size//2:q_array_NA.size])\n",
    "\n",
    "Log_Zq_NA12 = np.log(DFT_half(Z_n_array_NA12)[q_array_NA.size//2:q_array_NA.size])\n",
    "\n",
    "Log_Zq_NA22 = np.log(DFT_half(Z_n_array_NA22)[q_array_NA.size//2:q_array_NA.size])\n",
    "\n",
    "Log_Zq_NA32 = np.log(DFT_half(Z_n_array_NA32)[q_array_NA.size//2:q_array_NA.size])\n",
    "\n",
    "Log_Zq_NA42 = np.log(DFT_half(Z_n_array_NA42)[q_array_NA.size//2:q_array_NA.size])\n",
    "\n",
    "Log_Zq_NA52 = np.log(DFT_half(Z_n_array_NA52)[q_array_NA.size//2:q_array_NA.size])\n",
    "\n",
    "Log_Zq_NA62 = np.log(DFT_half(Z_n_array_NA62)[q_array_NA.size//2:q_array_NA.size])\n",
    "\n",
    "Log_Zq_NA72 = np.log(DFT_half(Z_n_array_NA72)[q_array_NA.size//2:q_array_NA.size])"
   ]
  },
  {
   "cell_type": "code",
   "execution_count": 129,
   "id": "anticipated-economics",
   "metadata": {},
   "outputs": [
    {
     "data": {
      "image/png": "[encoded data removed]",
      "text/plain": [
       "<Figure size 720x360 with 1 Axes>"
      ]
     },
     "metadata": {
      "needs_background": "light"
     },
     "output_type": "display_data"
    }
   ],
   "source": [
    "plt.plot(q_array_NA[q_array_NA.size//2:q_array_NA.size] - q_array_NA.size//2, Log_Zq_NA02, label = \"$N_A$ =\" + str(NA02))\n",
    "plt.plot(q_array_NA[q_array_NA.size//2:q_array_NA.size] - q_array_NA.size//2, Log_Zq_NA12, label = \"$N_A$ = \" + str(NA12))\n",
    "plt.plot(q_array_NA[q_array_NA.size//2:q_array_NA.size] - q_array_NA.size//2, Log_Zq_NA22, label = \"$N_A$= \" + str(NA22))\n",
    "plt.plot(q_array_NA[q_array_NA.size//2:q_array_NA.size] - q_array_NA.size//2, Log_Zq_NA32, label = \"$N_A$ = \" + str(NA32))\n",
    "plt.plot(q_array_NA[q_array_NA.size//2:q_array_NA.size] - q_array_NA.size//2, Log_Zq_NA42, label = \"$N_A$ = \" + str(NA42))\n",
    "plt.plot(q_array_NA[q_array_NA.size//2:q_array_NA.size] - q_array_NA.size//2, Log_Zq_NA52, label = \"$N_A$ = \" + str(NA52))\n",
    "plt.plot(q_array_NA[q_array_NA.size//2:q_array_NA.size] - q_array_NA.size//2, Log_Zq_NA62, label = \"$N_A$ = \" + str(NA62))\n",
    "plt.plot(q_array_NA[q_array_NA.size//2:q_array_NA.size] - q_array_NA.size//2, Log_Zq_NA72, label = \"$N_A$ = \" + str(NA72))\n",
    "\n",
    "plt.legend()\n",
    "plt.ylim([-20,3])\n",
    "plt.xlim([0,8])\n",
    "plt.title(\"$\\log Z_1 (q), \\quad N = 500, \\quad \\delta$ = \" + str(Delta_NA2))\n",
    "plt.rcParams[\"figure.figsize\"] = (10,5)"
   ]
  },
  {
   "cell_type": "code",
   "execution_count": 130,
   "id": "sunset-wonder",
   "metadata": {},
   "outputs": [],
   "source": [
    "q_NA = q_array_NA[q_array_NA.size//2:q_array_NA.size] - q_array_NA.size//2\n",
    "\n",
    "#for N = 4\n",
    "\n",
    "Log_Zq_NA02_new = Log_Zq_NA02[~np.isnan(Log_Zq_NA02)]\n",
    "q_NA02 = q_NA[~np.isnan(Log_Zq_NA02)]\n",
    "\n",
    "coeff_NA02 = np.polyfit(np.concatenate((-q_NA02[0:5],q_NA02[0:5])),np.concatenate((Log_Zq_NA02_new[0:5],Log_Zq_NA02_new[0:5])), 2)\n",
    "\n",
    "#N_A = 10\n",
    "\n",
    "Log_Zq_NA12_new = Log_Zq_NA12[~np.isnan(Log_Zq_NA12)]\n",
    "q_NA12 = q_NA[~np.isnan(Log_Zq_NA12)]\n",
    "\n",
    "coeff_NA12 = np.polyfit(np.concatenate((-q_NA12[0:5],q_NA12[0:5])),np.concatenate((Log_Zq_NA12_new[0:5],Log_Zq_NA12_new[0:5])), 2)\n",
    "\n",
    "\n",
    "\n",
    "#N_A = 20\n",
    "\n",
    "Log_Zq_NA22_new = Log_Zq_NA22[~np.isnan(Log_Zq_NA22)]\n",
    "q_NA22 = q_NA[~np.isnan(Log_Zq_NA22)]\n",
    "\n",
    "coeff_NA22 = np.polyfit(np.concatenate((-q_NA22[0:5],q_NA22[0:5])),np.concatenate((Log_Zq_NA22_new[0:5],Log_Zq_NA22_new[0:5])), 2)\n",
    "\n",
    "\n",
    "\n",
    "#N_A = 50\n",
    "\n",
    "Log_Zq_NA32_new = Log_Zq_NA32[~np.isnan(Log_Zq_NA32)]\n",
    "q_NA32 = q_NA[~np.isnan(Log_Zq_NA32)]\n",
    "\n",
    "coeff_NA32 = np.polyfit(np.concatenate((-q_NA32[0:5],q_NA32[0:5])),np.concatenate((Log_Zq_NA32_new[0:5],Log_Zq_NA32_new[0:5])), 2)\n",
    "\n",
    "\n",
    "#N_A = 100\n",
    "\n",
    "Log_Zq_NA42_new = Log_Zq_NA42[~np.isnan(Log_Zq_NA42)]\n",
    "q_NA42 = q_NA[~np.isnan(Log_Zq_NA42)]\n",
    "\n",
    "coeff_NA42 = np.polyfit(np.concatenate((-q_NA42[0:5],q_NA42[0:5])),np.concatenate((Log_Zq_NA42_new[0:5],Log_Zq_NA42_new[0:5])), 2)\n",
    "\n",
    "\n",
    "\n",
    "#N_A = 150\n",
    "\n",
    "Log_Zq_NA52_new = Log_Zq_NA52[~np.isnan(Log_Zq_NA52)]\n",
    "q_NA52 = q_NA[~np.isnan(Log_Zq_NA52)]\n",
    "\n",
    "coeff_NA52 = np.polyfit(np.concatenate((-q_NA52[0:5],q_NA52[0:5])),np.concatenate((Log_Zq_NA52_new[0:5],Log_Zq_NA52_new[0:5])), 2)\n",
    "\n",
    "\n",
    "#N_A = 200\n",
    "\n",
    "Log_Zq_NA62_new = Log_Zq_NA62[~np.isnan(Log_Zq_NA62)]\n",
    "q_NA62 = q_NA[~np.isnan(Log_Zq_NA62)]\n",
    "\n",
    "coeff_NA62 = np.polyfit(np.concatenate((-q_NA62[0:5],q_NA62[0:5])),np.concatenate((Log_Zq_NA62_new[0:5],Log_Zq_NA62_new[0:5])), 2)\n",
    "\n",
    "\n",
    "#N_A = 250\n",
    "\n",
    "Log_Zq_NA72_new = Log_Zq_NA72[~np.isnan(Log_Zq_NA72)]\n",
    "q_NA72 = q_NA[~np.isnan(Log_Zq_NA72)]\n",
    "\n",
    "coeff_NA72 = np.polyfit(np.concatenate((-q_NA72[0:5],q_NA72[0:5])),np.concatenate((Log_Zq_NA72_new[0:5],Log_Zq_NA72_new[0:5])), 2)\n"
   ]
  },
  {
   "cell_type": "code",
   "execution_count": 131,
   "id": "advanced-auditor",
   "metadata": {},
   "outputs": [
    {
     "data": {
      "text/plain": [
       "Text(0.5, 1.0, '$\\\\sigma (N_A), N = 500 $, $\\\\delta$ = 0')"
      ]
     },
     "execution_count": 131,
     "metadata": {},
     "output_type": "execute_result"
    },
    {
     "data": {
      "image/png": "[encoded data removed]",
      "text/plain": [
       "<Figure size 720x360 with 1 Axes>"
      ]
     },
     "metadata": {
      "needs_background": "light"
     },
     "output_type": "display_data"
    }
   ],
   "source": [
    "sigma_arrayNA2 = sigma(np.array([coeff_NA02[0], coeff_NA12[0], coeff_NA22[0], coeff_NA32[0], coeff_NA42[0],coeff_NA52[0], \n",
    "                                coeff_NA62[0], coeff_NA72[0]]))\n",
    "N_array = np.array([4, 10, 20, 50, 100, 150,200, 250])\n",
    "plt.plot(N_array, sigma_arrayNA2, \".\")\n",
    "#plt.xscale('log')\n",
    "plt.title(\"$\\sigma (N_A), N = 500 $, $\\delta$ = 0\")"
   ]
  }
 ],
 "metadata": {
  "kernelspec": {
   "display_name": "Python 3",
   "language": "python",
   "name": "python3"
  },
  "language_info": {
   "codemirror_mode": {
    "name": "ipython",
    "version": 3
   },
   "file_extension": ".py",
   "mimetype": "text/x-python",
   "name": "python",
   "nbconvert_exporter": "python",
   "pygments_lexer": "ipython3",
   "version": "3.7.9"
  }
 },
 "nbformat": 4,
 "nbformat_minor": 5
}
