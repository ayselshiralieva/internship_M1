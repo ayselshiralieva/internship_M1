{
 "cells": [
  {
   "cell_type": "markdown",
   "id": "hairy-birth",
   "metadata": {},
   "source": [
    "## N is a number of unit cells here!"
   ]
  },
  {
   "cell_type": "code",
   "execution_count": 1,
   "id": "smaller-blair",
   "metadata": {},
   "outputs": [],
   "source": [
    "%matplotlib inline\n",
    "import numpy as np\n",
    "import matplotlib.pyplot as plt\n",
    "import scipy.linalg\n",
    "import scipy as sp"
   ]
  },
  {
   "cell_type": "code",
   "execution_count": 2,
   "id": "numerical-screening",
   "metadata": {},
   "outputs": [],
   "source": [
    "def SSH_hamiltonian_periodic(N1, Delta):\n",
    "    N = N1*2\n",
    "    x = np.zeros(N-1)\n",
    "    x[0::2] = 1 - Delta\n",
    "    x[1::2] = 1 + Delta\n",
    "    A = np.diag(x, k = 1) + np.diag(x, k = -1)\n",
    "    A[0][N-1] = 1 + Delta\n",
    "    A[N-1][0] = 1 + Delta\n",
    "    return A"
   ]
  },
  {
   "cell_type": "code",
   "execution_count": 3,
   "id": "fancy-salad",
   "metadata": {
    "scrolled": true
   },
   "outputs": [
    {
     "data": {
      "text/plain": [
       "[<matplotlib.lines.Line2D at 0x1bf35317088>]"
      ]
     },
     "execution_count": 3,
     "metadata": {},
     "output_type": "execute_result"
    },
    {
     "data": {
      "image/png": "[encoded data removed]",
      "text/plain": [
       "<Figure size 432x288 with 1 Axes>"
      ]
     },
     "metadata": {
      "needs_background": "light"
     },
     "output_type": "display_data"
    }
   ],
   "source": [
    "A_SSH = SSH_hamiltonian_periodic(50, 0)\n",
    "A_SSH1 = SSH_hamiltonian_periodic(50, 0.2)\n",
    "plt.plot(np.sort(np.linalg.eigvals(A_SSH)), \".\")\n",
    "plt.plot(np.sort(np.linalg.eigvals(A_SSH1)), \".\")"
   ]
  },
  {
   "cell_type": "code",
   "execution_count": 4,
   "id": "distinguished-surrey",
   "metadata": {},
   "outputs": [],
   "source": [
    "def corr_matrix(N1, Delta):\n",
    "    eps = 1e-15\n",
    "    eigenvalues, eigenvectors = np.linalg.eigh(SSH_hamiltonian_periodic(N1, Delta))\n",
    "    idx = eigenvalues.argsort()[::1]   \n",
    "    eigenvalues = eigenvalues[idx]\n",
    "    eigenvectors = eigenvectors[:,idx]\n",
    "    N = N1*2\n",
    "    Corr_matrix = np.zeros((N,N), dtype = \"complex\")    \n",
    "    for i in range(N):\n",
    "        for j in range(N):\n",
    "            for k in range(N//2):\n",
    "                Corr_matrix[i][j] += np.conjugate(eigenvectors[:,k][i])*(eigenvectors[:,k][j])\n",
    "    return Corr_matrix  "
   ]
  },
  {
   "cell_type": "code",
   "execution_count": 5,
   "id": "israeli-fabric",
   "metadata": {},
   "outputs": [
    {
     "data": {
      "text/plain": [
       "array([[ 1.11022302e-16+0.j, -5.00000000e-01+0.j],\n",
       "       [-5.00000000e-01+0.j,  0.00000000e+00+0.j]])"
      ]
     },
     "execution_count": 5,
     "metadata": {},
     "output_type": "execute_result"
    }
   ],
   "source": [
    "Numer = 2\n",
    "Delta1 = 0.5\n",
    "corr_matrix(Numer, Delta1)[Numer:Numer*2, 0:Numer]"
   ]
  },
  {
   "cell_type": "code",
   "execution_count": 6,
   "id": "embedded-immune",
   "metadata": {},
   "outputs": [
    {
     "data": {
      "text/plain": [
       "array([[ 5.00000000e-01+0.j, -5.55111512e-17+0.j,  1.11022302e-16+0.j,\n",
       "        -5.00000000e-01+0.j],\n",
       "       [-5.55111512e-17+0.j,  5.00000000e-01+0.j, -5.00000000e-01+0.j,\n",
       "         0.00000000e+00+0.j],\n",
       "       [ 1.11022302e-16+0.j, -5.00000000e-01+0.j,  5.00000000e-01+0.j,\n",
       "        -5.55111512e-17+0.j],\n",
       "       [-5.00000000e-01+0.j,  0.00000000e+00+0.j, -5.55111512e-17+0.j,\n",
       "         5.00000000e-01+0.j]])"
      ]
     },
     "execution_count": 6,
     "metadata": {},
     "output_type": "execute_result"
    }
   ],
   "source": [
    "corr_matrix(Numer, Delta1)"
   ]
  },
  {
   "cell_type": "code",
   "execution_count": 7,
   "id": "multiple-textbook",
   "metadata": {},
   "outputs": [],
   "source": [
    "def corr_matrix_A(N1, Delta):\n",
    "    return corr_matrix(N1, Delta)[0:N1, 0:N1]"
   ]
  },
  {
   "cell_type": "code",
   "execution_count": 8,
   "id": "acting-parts",
   "metadata": {},
   "outputs": [],
   "source": [
    "def entang_entropy_A(N, Delta):\n",
    "    CM = corr_matrix_A(N, Delta)\n",
    "    S = 0.0\n",
    "    lambd = np.linalg.eigvalsh(CM)\n",
    "    for i in range(np.shape(CM)[0]):\n",
    "        if lambd[i] > 1e-14 and (1 - lambd[i]) > 1e-14:     \n",
    "            S -= lambd[i]*np.log(lambd[i]) + (1 - lambd[i])*np.log(1 - lambd[i])\n",
    "        else:\n",
    "            S -= 0\n",
    "    return S"
   ]
  },
  {
   "cell_type": "code",
   "execution_count": 9,
   "id": "cloudy-excuse",
   "metadata": {},
   "outputs": [],
   "source": [
    "def entang_entropy_A1(N, Delta):\n",
    "    CM = corr_matrix_A(N, Delta)\n",
    "    S = 0.0\n",
    "    lambd = np.linalg.eigvalsh(CM)\n",
    "    for i in range(np.shape(CM)[0]):  \n",
    "        S -= lambd[i]*np.log(lambd[i]) + (1 - lambd[i])*np.log(1 - lambd[i])\n",
    "    return(S)"
   ]
  },
  {
   "cell_type": "code",
   "execution_count": null,
   "id": "bright-waters",
   "metadata": {
    "scrolled": true
   },
   "outputs": [],
   "source": [
    "M = 10\n",
    "N = 50\n",
    "Delta = np.linspace(-1,1,M)\n",
    "Entropy_array = np.array([entang_entropy_A(N, Delta[i]) for i in range(M)])\n",
    "plt.plot(Delta, Entropy_array, \".\")\n",
    "plt.plot(Delta, np.ones(Delta.size)*2*np.log(2))"
   ]
  },
  {
   "cell_type": "markdown",
   "id": "coupled-madness",
   "metadata": {},
   "source": [
    "# FOURIER Transform"
   ]
  },
  {
   "cell_type": "code",
   "execution_count": null,
   "id": "peaceful-bulgaria",
   "metadata": {},
   "outputs": [],
   "source": [
    "def u_func(k, Delta, N):\n",
    "    lambda1 = (1 - Delta) + (1 + Delta)*np.exp(-(2*np.pi/N)*1j*k)\n",
    "    s = np.sqrt(lambda1 / np.conjugate(lambda1))\n",
    "    u1 = -(1/np.sqrt(2))*np.array([-1, s]) \n",
    "    u2 = -(1/np.sqrt(2))*np.array([1, s])\n",
    "    return u1, u2 "
   ]
  },
  {
   "cell_type": "markdown",
   "id": "incorporated-wings",
   "metadata": {},
   "source": [
    "Почему u_func не работает? Надо пересчитать! Что там с блоховскими состояниями?"
   ]
  },
  {
   "cell_type": "code",
   "execution_count": null,
   "id": "specific-darkness",
   "metadata": {},
   "outputs": [],
   "source": [
    "def u_func_new(k, Delta, N):\n",
    "    H = np.array([[0, (1 - Delta) + (1 + Delta)*np.exp(-(2*np.pi/N)*1j*k)],[(1 - Delta) + (1 + Delta)*np.exp((2*np.pi/N)*1j*k), 0]])\n",
    "    eigenvalues, eigenvectors = np.linalg.eigh(H)\n",
    "    idx = eigenvalues.argsort()[::1]   \n",
    "    eigenvalues = eigenvalues[idx]\n",
    "    eigenvectors = eigenvectors[:,idx]\n",
    "    return eigenvectors"
   ]
  },
  {
   "cell_type": "code",
   "execution_count": null,
   "id": "protected-emergency",
   "metadata": {},
   "outputs": [],
   "source": [
    "N = 8\n",
    "for k in range(N):\n",
    "    print(u_func_new(k, 0.2, N)[:,0])"
   ]
  },
  {
   "cell_type": "code",
   "execution_count": null,
   "id": "catholic-salad",
   "metadata": {},
   "outputs": [],
   "source": [
    "for k in range(6):\n",
    "    print(np.exp(1j*2*np.pi*k/N)/np.sqrt(2))"
   ]
  },
  {
   "cell_type": "code",
   "execution_count": null,
   "id": "referenced-parcel",
   "metadata": {},
   "outputs": [],
   "source": [
    "def corr_matrix_new(N1, Delta):\n",
    "    N = N1*2\n",
    "    eps = 1e-15\n",
    "    C = np.zeros((N,N),dtype = \"complex\")\n",
    "    for i in range(N):\n",
    "        for j in range(N):\n",
    "            for k in range(N//2):\n",
    "                    C[i][j] += (1/N1)*np.conjugate(u_func_new(k, Delta, N1)[:,0][i%2])*np.exp(-(2*np.pi/N1)*1j*k*(i//2 - j//2))*u_func_new(k, Delta, N1)[:,0][j%2]\n",
    "    return C"
   ]
  },
  {
   "cell_type": "code",
   "execution_count": null,
   "id": "direct-glucose",
   "metadata": {},
   "outputs": [],
   "source": [
    "C = corr_matrix_A(10, 0.05)\n",
    "eigenvalues = np.linalg.eigvalsh(C)\n",
    "idx = eigenvalues.argsort()[::1]   \n",
    "eigenvalues = eigenvalues[idx]\n",
    "print(eigenvalues)\n",
    "print(eigenvalues[-3-1] + eigenvalues[3])"
   ]
  },
  {
   "cell_type": "code",
   "execution_count": null,
   "id": "valid-courage",
   "metadata": {},
   "outputs": [],
   "source": [
    "def corr_matrix_A_new(N, Delta):\n",
    "    return corr_matrix_new(N, Delta)[0:N, 0:N]"
   ]
  },
  {
   "cell_type": "code",
   "execution_count": null,
   "id": "adaptive-reform",
   "metadata": {},
   "outputs": [],
   "source": [
    "def entang_entropy_A_new(N, Delta):\n",
    "    CM = corr_matrix_A_new(N, Delta)\n",
    "    S = 0.0\n",
    "    lambd = np.linalg.eigvalsh(CM)\n",
    "    for i in range(np.shape(CM)[0]):\n",
    "        if lambd[i] > 1e-14 and (1 - lambd[i]) > 1e-14:     \n",
    "            S -= lambd[i]*np.log(lambd[i]) + (1 - lambd[i])*np.log(1 - lambd[i])\n",
    "        else:\n",
    "            S -= 0\n",
    "    return(S)"
   ]
  },
  {
   "cell_type": "code",
   "execution_count": null,
   "id": "medical-color",
   "metadata": {
    "scrolled": true
   },
   "outputs": [],
   "source": [
    "M = 10\n",
    "N = 10\n",
    "Delta = np.linspace(-1,1,M)\n",
    "Entropy_array_new = np.array([entang_entropy_A_new(N, Delta[i]) for i in range(M)])\n",
    "plt.plot(Delta, Entropy_array_new, \".\")\n",
    "plt.plot(Delta, np.ones(Delta.size)*2*np.log(2))"
   ]
  },
  {
   "cell_type": "code",
   "execution_count": null,
   "id": "outside-blackjack",
   "metadata": {},
   "outputs": [],
   "source": [
    "#symmetry of the correlation matrix A\n",
    "\n",
    "Num = 50\n",
    "Delta = 0.9\n",
    "S = corr_matrix_A(Num, Delta)\n",
    "S_eigvals = np.linalg.eigvalsh(S)\n",
    "S_new = []\n",
    "for i in range(Num//2):\n",
    "    S_new.append(S_eigvals[i] + S_eigvals[-i-1])\n",
    "S_new = np.array(S_new)\n",
    "print(\"S old = \", S_eigvals)\n",
    "print(\"S new = \", S_new)"
   ]
  },
  {
   "cell_type": "code",
   "execution_count": null,
   "id": "august-privilege",
   "metadata": {},
   "outputs": [],
   "source": [
    "def Z_n(n, alpha, eigenvalues, N1):\n",
    "    Z = 1.0\n",
    "    for m in range(N1):\n",
    "        lam = eigenvalues[m]\n",
    "        Z *= ((lam**n)*np.exp(1j*alpha*(1 - lam)) + ((1 - lam)**n)*np.exp(-1j*alpha*lam))\n",
    "    return Z\n",
    "\n",
    "\n",
    "#real Z_N expression"
   ]
  },
  {
   "cell_type": "code",
   "execution_count": null,
   "id": "hispanic-costume",
   "metadata": {},
   "outputs": [],
   "source": [
    "def eigval_corr_matrix(N1,Delta):\n",
    "    C = corr_matrix_A(N1, Delta)\n",
    "    eigenvalues= np.linalg.eigvalsh(C)\n",
    "    idx = eigenvalues.argsort()[::1]   \n",
    "    eigenvalues = eigenvalues[idx]\n",
    "    return eigenvalues\n",
    "\n",
    "def Z_n_real(n, alpha, eigenvalues, N1):\n",
    "    Z = 1.0\n",
    "    for m in range(N1//2):\n",
    "        lam = eigenvalues[m]\n",
    "        Z *= (lam**(2*n) + (1 - lam)**(2*n) + 2*(lam**n)*((1 - lam)**n)*np.cos(alpha))\n",
    "    return Z\n",
    "\n",
    "'''def Z_n_real(n, alpha, Delta, N1):\n",
    "    #alpha goes from -pi to pi\n",
    "    C = corr_matrix_A(N1, Delta)\n",
    "    eigenvalues= np.linalg.eigvalsh(C)\n",
    "    idx = eigenvalues.argsort()[::1]   \n",
    "    eigenvalues = eigenvalues[idx]\n",
    "    Z = 1.0\n",
    "    for m in range(N1//2):\n",
    "        lam = eigenvalues[m]\n",
    "        Z *= (lam**(2*n) + (1 - lam)**(2*n) + 2*(lam**n)*((1 - lam)**n)*np.cos(alpha))\n",
    "    return Z'''"
   ]
  },
  {
   "cell_type": "code",
   "execution_count": null,
   "id": "wrapped-somerset",
   "metadata": {},
   "outputs": [],
   "source": [
    "'''N = 10\n",
    "alpha_test = np.array([2*np.pi*j/N for j in range(N)])\n",
    "Delta = 1\n",
    "typ = 1\n",
    "Z_n_test = np.array(Z_n(typ, alpha_test[i], Delta, N) for i in range(N))\n",
    "plt.plot(alpha_test, Z_n_test)'''"
   ]
  },
  {
   "cell_type": "code",
   "execution_count": null,
   "id": "dutch-survival",
   "metadata": {},
   "outputs": [],
   "source": [
    "def log_Z_n(n, alpha, eigenvalues, N1):\n",
    "    #alpha goes from 0 to 2 pi\n",
    "    Z = 1.0\n",
    "    for m in range(N1):\n",
    "        lam = eigenvalues[m]\n",
    "        Z += np.log(((lam**n)*np.exp(1j*alpha*(1 - lam)) + ((1 - lam)**n)*np.exp(-1j*alpha*lam)))\n",
    "    return Z"
   ]
  },
  {
   "cell_type": "code",
   "execution_count": null,
   "id": "based-expression",
   "metadata": {},
   "outputs": [],
   "source": [
    "def log_Z_n_real(n, alpha, eigenvalues, N1):\n",
    "    #alpha goes from 0 to 2 pi\n",
    "    Z = 1.0\n",
    "    for m in range(N1//2):\n",
    "        lam = eigenvalues[m]\n",
    "        Z += np.log(lam**(2*n) + (1 - lam)**(2*n) + 2*(lam**n)*((1 - lam)**n)*np.cos(alpha))\n",
    "    return Z"
   ]
  },
  {
   "cell_type": "code",
   "execution_count": null,
   "id": "satisfactory-workplace",
   "metadata": {},
   "outputs": [],
   "source": [
    "N_A = 50\n",
    "N  = N_A + 1\n",
    "type_num = 1\n",
    "\n",
    "Delta_array = np.array([-1, 1,-0.5, 0.5, -0.2, 0.2, -0.1, 0.1, -0.01, 0.01])\n",
    "alpha_array =  np.array([2*np.pi*i/N for i in range(N)])"
   ]
  },
  {
   "cell_type": "code",
   "execution_count": null,
   "id": "pressing-major",
   "metadata": {},
   "outputs": [],
   "source": [
    "print(alpha_array) \n",
    "#do not count 0 2pi twice FOR ALPHA AND FOR Q"
   ]
  },
  {
   "cell_type": "code",
   "execution_count": null,
   "id": "cardiac-episode",
   "metadata": {},
   "outputs": [],
   "source": [
    "A= eigval_corr_matrix(N_A, Delta_array[4])\n",
    "Z_n_array0 = np.array([Z_n_real(type_num, alpha_array[i], A, N_A) for i in range(N)])\n",
    "plt.plot(Z_n_array0)"
   ]
  },
  {
   "cell_type": "code",
   "execution_count": null,
   "id": "proper-location",
   "metadata": {},
   "outputs": [],
   "source": [
    "Corr_matrix_eigvals = []\n",
    "for i in range(Delta_array.size):\n",
    "    Corr_matrix_eigvals.append(eigval_corr_matrix(N_A, Delta_array[i]))"
   ]
  },
  {
   "cell_type": "code",
   "execution_count": null,
   "id": "split-share",
   "metadata": {},
   "outputs": [],
   "source": [
    "Z_n_array = []\n",
    "for j in range(Delta_array.size):\n",
    "    Z_n_array.append(np.array([Z_n_real(type_num, alpha_array[i], Corr_matrix_eigvals[j], N_A) for i in range(N)]))"
   ]
  },
  {
   "cell_type": "code",
   "execution_count": null,
   "id": "legislative-casting",
   "metadata": {
    "scrolled": true
   },
   "outputs": [],
   "source": [
    "# For delta = 1\n",
    "\n",
    "plt.plot(alpha_array, Z_n_array[1], label = \"numerical\") #numerical result \n",
    "plt.plot(alpha_array, np.cos(alpha_array/2)**2, label = \"theoretical\") #theoretical result\n",
    "plt.legend()\n",
    "plt.title(\"$\\delta$ = 1, N =\" + str(N))"
   ]
  },
  {
   "cell_type": "code",
   "execution_count": null,
   "id": "communist-vermont",
   "metadata": {
    "scrolled": true
   },
   "outputs": [],
   "source": [
    "for i in range(4):\n",
    "    plt.plot(alpha_array, Z_n_array[i], label = \"Delta = \" + str(Delta_array[i]))\n",
    "    plt.legend()\n",
    "    plt.title(\"$Z_1$, N = \" + str(N))"
   ]
  },
  {
   "cell_type": "code",
   "execution_count": null,
   "id": "romance-missile",
   "metadata": {
    "scrolled": false
   },
   "outputs": [],
   "source": [
    "for i in range(4,Delta_array.size):\n",
    "    plt.plot(alpha_array, Z_n_array[i], label = \"Delta = \" + str(Delta_array[i]))\n",
    "    plt.legend()\n",
    "    plt.title(\"$Z_1$, N = \" + str(N))"
   ]
  },
  {
   "cell_type": "code",
   "execution_count": null,
   "id": "deadly-ukraine",
   "metadata": {},
   "outputs": [],
   "source": [
    "N_A = 50\n",
    "N  = N_A + 1\n",
    "typ = 2\n",
    "\n",
    "log_Z_n_array = []\n",
    "for j in range(Delta_array.size):\n",
    "    log_Z_n_array.append(np.array([log_Z_n_real(typ, alpha_array[i], Corr_matrix_eigvals[j], N_A) for i in range(N)]))"
   ]
  },
  {
   "cell_type": "code",
   "execution_count": null,
   "id": "regional-retention",
   "metadata": {
    "scrolled": true
   },
   "outputs": [],
   "source": [
    "for i in range(Delta_array.size//2):\n",
    "    plt.plot(alpha_array, log_Z_n_array[i], label = \"Delta = \" + str(Delta_array[i]))\n",
    "    plt.legend()\n",
    "    plt.title(\"$Z_1$, N = \" + str(N))"
   ]
  },
  {
   "cell_type": "code",
   "execution_count": null,
   "id": "victorian-canyon",
   "metadata": {
    "scrolled": false
   },
   "outputs": [],
   "source": [
    "for i in range(Delta_array.size//2,Delta_array.size):\n",
    "    plt.plot(alpha_array, log_Z_n_array[i], label = \"Delta = \" + str(Delta_array[i]))\n",
    "    plt.legend()\n",
    "    plt.title(\"$Z_1$, N = \" + str(N))"
   ]
  },
  {
   "cell_type": "code",
   "execution_count": null,
   "id": "physical-stereo",
   "metadata": {},
   "outputs": [],
   "source": [
    "def DFT(array):\n",
    "#N should be even, if N is odd, you need to change np.concatenate((array_k[N//2:N], array_k[0:N//2])\n",
    "    N = array.size\n",
    "    array_k = np.zeros(N)\n",
    "    for k in range(N):\n",
    "        for i in range(N):\n",
    "            array_k[k] += (1/np.sqrt(N))*(array[i]*np.cos(2*np.pi*k*i/(N)))\n",
    "    return np.concatenate((array_k[(N//2+1):N], array_k[0:(N//2+1)]))"
   ]
  },
  {
   "cell_type": "code",
   "execution_count": null,
   "id": "embedded-glance",
   "metadata": {},
   "outputs": [],
   "source": [
    "def DFT_half(array):\n",
    "    N = array.size\n",
    "    array_k = np.zeros(N)\n",
    "    for k in range(-N//2 + 1,N//2 + 1):\n",
    "        array_k[k] = array[0]/(np.sqrt(N))\n",
    "        for i in range(1,N//2 + 1):\n",
    "            array_k[k] += 2*(1/np.sqrt(N))*(array[i]*np.cos(2*np.pi*k*i/(N)))\n",
    "    return np.concatenate((array_k[(N//2+1):N], array_k[0:(N//2+1)]))"
   ]
  },
  {
   "cell_type": "code",
   "execution_count": null,
   "id": "close-curve",
   "metadata": {},
   "outputs": [],
   "source": [
    "print(\"half \", DFT_half(Z_n_array[1]))\n",
    "print(\"full\",  DFT(Z_n_array[1]))"
   ]
  },
  {
   "cell_type": "code",
   "execution_count": null,
   "id": "stretch-slovenia",
   "metadata": {},
   "outputs": [],
   "source": [
    "q_array = np.array([i for i in range(N)])"
   ]
  },
  {
   "cell_type": "code",
   "execution_count": null,
   "id": "forty-newark",
   "metadata": {},
   "outputs": [],
   "source": [
    "plt.plot(q_array, DFT_half(Z_n_array[0]),\".\", label = \"Delta = \" + str(Delta_array[0]))\n",
    "plt.legend()\n",
    "plt.title(\"$Z_1 (q)$, $N_A$ = \" + str(N_A))"
   ]
  },
  {
   "cell_type": "code",
   "execution_count": null,
   "id": "selective-cylinder",
   "metadata": {},
   "outputs": [],
   "source": [
    "plt.plot(q_array, DFT(Z_n_array[1]),\".\", label = \"Delta = \" + str(Delta_array[1]))\n",
    "plt.legend()\n",
    "plt.title(\"$Z_1 (q)$, $N_A$ = \" + str(N_A))\n",
    "print(\"Z_N_array, delta = \" + str(Delta_array[1]), Z_n_array[1], sep = \"\\n\")"
   ]
  },
  {
   "cell_type": "code",
   "execution_count": null,
   "id": "associate-tuition",
   "metadata": {},
   "outputs": [],
   "source": [
    "def IDFT(array):\n",
    "    N = array.size\n",
    "    array = np.concatenate((array[(N//2):N], array[0:(N//2)]))\n",
    "    array_k = np.zeros(N)\n",
    "    for k in range(0,N):\n",
    "        for i in range(0,N):\n",
    "            array_k[k] += (1/(np.sqrt(N)))*(array[i]*np.cos(2*np.pi*k*i/N))\n",
    "    return array_k"
   ]
  },
  {
   "cell_type": "code",
   "execution_count": null,
   "id": "utility-melissa",
   "metadata": {},
   "outputs": [],
   "source": [
    "plt.plot(alpha_array, IDFT(DFT(Z_n_array[1])))"
   ]
  },
  {
   "cell_type": "code",
   "execution_count": null,
   "id": "statewide-cholesterol",
   "metadata": {},
   "outputs": [],
   "source": [
    "for i in range(Delta_array.size//2):\n",
    "    plt.plot(q_array, DFT(Z_n_array[i]), label = \"Delta = \" + str(Delta_array[i]))\n",
    "    plt.legend()\n",
    "    plt.title(\"$Z_1 (q)$, N = \" + str(N))"
   ]
  },
  {
   "cell_type": "code",
   "execution_count": null,
   "id": "accepting-plumbing",
   "metadata": {
    "scrolled": true
   },
   "outputs": [],
   "source": [
    "for i in range(Delta_array.size//2, Delta_array.size):\n",
    "    plt.plot(q_array[q_array.size//2:q_array.size], DFT(Z_n_array[i])[q_array.size//2:q_array.size], label = \"Delta = \" + str(Delta_array[i]))\n",
    "    plt.legend()\n",
    "    plt.title(\"$Z_1 (q)$, N = \" + str(N))\n",
    "plt.rcParams[\"figure.figsize\"] = (8,5.5)"
   ]
  },
  {
   "cell_type": "code",
   "execution_count": null,
   "id": "living-latitude",
   "metadata": {},
   "outputs": [],
   "source": [
    "plt.plot(q_array[q_array.size//2:q_array.size], DFT(Z_n_array[5])[q_array.size//2:q_array.size], \".\", label = \"Delta = \" + str(Delta_array[5]))\n",
    "plt.legend()\n",
    "plt.title(\"$Z_1 (q)$, N = \" + str(N))"
   ]
  },
  {
   "cell_type": "markdown",
   "id": "ordinary-experience",
   "metadata": {},
   "source": [
    "# Logarithm of $Z_1$"
   ]
  },
  {
   "cell_type": "code",
   "execution_count": null,
   "id": "editorial-discovery",
   "metadata": {},
   "outputs": [],
   "source": [
    "#Here we only plot for q >= <q>, because of the symmetry\n",
    "print(Delta_array[5])\n",
    "Z_q = DFT(Z_n_array[5])[q_array.size//2:q_array.size]\n",
    "Z_q_new = []\n",
    "for i in range(Z_q.size):\n",
    "    if Z_q[i] > 0:\n",
    "        Z_q_new.append(Z_q[i])\n",
    "\n",
    "plt.plot(np.log(Z_q_new), \".\")"
   ]
  },
  {
   "cell_type": "code",
   "execution_count": null,
   "id": "front-tradition",
   "metadata": {},
   "outputs": [],
   "source": [
    "print(np.exp(-32))"
   ]
  },
  {
   "cell_type": "code",
   "execution_count": null,
   "id": "varied-briefing",
   "metadata": {},
   "outputs": [],
   "source": [
    "print(np.log(DFT(Z_n_array[5])[q_array.size//2:q_array.size]))\n",
    "print(DFT(Z_n_array[5])[q_array.size//2:q_array.size])"
   ]
  },
  {
   "cell_type": "code",
   "execution_count": null,
   "id": "associate-narrative",
   "metadata": {},
   "outputs": [],
   "source": [
    "plt.plot((q_array - q_array.size//2)**2, np.log(DFT(Z_n_array[1])), \".\", label = \"Delta = \" + str(Delta_array[1]))\n",
    "plt.legend()\n",
    "plt.title(\"$\\log Z_1 (q)$, N = \" + str(N))"
   ]
  },
  {
   "cell_type": "code",
   "execution_count": null,
   "id": "banned-pepper",
   "metadata": {},
   "outputs": [],
   "source": [
    "plt.plot((q_array - q_array.size//2)**2, np.log(DFT(Z_n_array[2])), \".\", label = \"Delta = \" + str(Delta_array[2]))\n",
    "plt.legend()\n",
    "plt.title(\"$\\log Z_1 (q)$, N = \" + str(N))"
   ]
  }
 ],
 "metadata": {
  "kernelspec": {
   "display_name": "Python 3",
   "language": "python",
   "name": "python3"
  },
  "language_info": {
   "codemirror_mode": {
    "name": "ipython",
    "version": 3
   },
   "file_extension": ".py",
   "mimetype": "text/x-python",
   "name": "python",
   "nbconvert_exporter": "python",
   "pygments_lexer": "ipython3",
   "version": "3.7.9"
  }
 },
 "nbformat": 4,
 "nbformat_minor": 5
}
