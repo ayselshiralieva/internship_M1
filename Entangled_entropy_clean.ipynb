{
 "cells": [
  {
   "cell_type": "markdown",
   "id": "hairy-birth",
   "metadata": {},
   "source": [
    "## N is a number of unit cells here!"
   ]
  },
  {
   "cell_type": "code",
   "execution_count": 1,
   "id": "smaller-blair",
   "metadata": {},
   "outputs": [],
   "source": [
    "%matplotlib inline\n",
    "import numpy as np\n",
    "import matplotlib.pyplot as plt\n",
    "import scipy.linalg"
   ]
  },
  {
   "cell_type": "code",
   "execution_count": 2,
   "id": "numerical-screening",
   "metadata": {},
   "outputs": [],
   "source": [
    "def SSH_hamiltonian_periodic(N1, Delta):\n",
    "    N = N1*2\n",
    "    x = np.zeros(N-1)\n",
    "    x[0::2] = 1 - Delta\n",
    "    x[1::2] = 1 + Delta\n",
    "    A = np.diag(x, k = 1) + np.diag(x, k = -1)\n",
    "    A[0][N-1] = 1 + Delta\n",
    "    A[N-1][0] = 1 + Delta\n",
    "    return A"
   ]
  },
  {
   "cell_type": "code",
   "execution_count": 3,
   "id": "distinguished-surrey",
   "metadata": {},
   "outputs": [],
   "source": [
    "def corr_matrix(N1, Delta):\n",
    "    eps = 1e-15\n",
    "    eigenvalues, eigenvectors = np.linalg.eigh(SSH_hamiltonian_periodic(N1, Delta))\n",
    "    idx = eigenvalues.argsort()[::1]   \n",
    "    eigenvalues = eigenvalues[idx]\n",
    "    eigenvectors = eigenvectors[:,idx]\n",
    "    N = N1*2\n",
    "    Corr_matrix = np.zeros((N,N), dtype = \"complex\")    \n",
    "    for i in range(N):\n",
    "        for j in range(N):\n",
    "            for k in range(N//2):\n",
    "                Corr_matrix[i][j] += np.conjugate(eigenvectors[:,k][i])*(eigenvectors[:,k][j])\n",
    "    return Corr_matrix  "
   ]
  },
  {
   "cell_type": "code",
   "execution_count": 4,
   "id": "multiple-textbook",
   "metadata": {},
   "outputs": [],
   "source": [
    "def corr_matrix_A(N1, Delta):\n",
    "    return corr_matrix(N1, Delta)[0:N1, 0:N1]"
   ]
  },
  {
   "cell_type": "code",
   "execution_count": null,
   "id": "organic-setup",
   "metadata": {},
   "outputs": [],
   "source": []
  },
  {
   "cell_type": "code",
   "execution_count": 5,
   "id": "acting-parts",
   "metadata": {},
   "outputs": [],
   "source": [
    "def entang_entropy_A(N, Delta):\n",
    "    CM = corr_matrix_A(N, Delta)\n",
    "    S = 0.0\n",
    "    lambd = np.linalg.eigvalsh(CM)\n",
    "    for i in range(np.shape(CM)[0]):\n",
    "        if lambd[i] > 1e-14 and (1 - lambd[i]) > 1e-14:     \n",
    "            S -= lambd[i]*np.log(lambd[i]) + (1 - lambd[i])*np.log(1 - lambd[i])\n",
    "        else:\n",
    "            S -= 0\n",
    "    return(S)"
   ]
  },
  {
   "cell_type": "code",
   "execution_count": 6,
   "id": "cloudy-excuse",
   "metadata": {},
   "outputs": [],
   "source": [
    "def entang_entropy_A1(N, Delta):\n",
    "    CM = corr_matrix_A(N, Delta)\n",
    "    S = 0.0\n",
    "    lambd = np.linalg.eigvalsh(CM)\n",
    "    for i in range(np.shape(CM)[0]):  \n",
    "        S -= lambd[i]*np.log(lambd[i]) + (1 - lambd[i])*np.log(1 - lambd[i])\n",
    "    return(S)"
   ]
  },
  {
   "cell_type": "code",
   "execution_count": 7,
   "id": "bright-waters",
   "metadata": {},
   "outputs": [
    {
     "data": {
      "text/plain": [
       "[<matplotlib.lines.Line2D at 0x20c60b71b08>]"
      ]
     },
     "execution_count": 7,
     "metadata": {},
     "output_type": "execute_result"
    },
    {
     "data": {
      "image/png": "[encoded data removed]",
      "text/plain": [
       "<Figure size 432x288 with 1 Axes>"
      ]
     },
     "metadata": {
      "needs_background": "light"
     },
     "output_type": "display_data"
    }
   ],
   "source": [
    "M = 10\n",
    "N = 50\n",
    "Delta = np.linspace(-1,1,M)\n",
    "Entropy_array = np.array([entang_entropy_A(N, Delta[i]) for i in range(M)])\n",
    "plt.plot(Delta, Entropy_array, \".\")\n",
    "plt.plot(Delta, np.ones(Delta.size)*2*np.log(2))"
   ]
  },
  {
   "cell_type": "markdown",
   "id": "coupled-madness",
   "metadata": {},
   "source": [
    "# FOURIER Transform"
   ]
  },
  {
   "cell_type": "code",
   "execution_count": 8,
   "id": "peaceful-bulgaria",
   "metadata": {},
   "outputs": [],
   "source": [
    "def u_func(k, Delta, N):\n",
    "    lambda1 = (1 - Delta) + (1 + Delta)*np.exp(-(2*np.pi/N)*1j*k)\n",
    "    s = np.sqrt(lambda1 / np.conjugate(lambda1))\n",
    "    u1 = -(1/np.sqrt(2))*np.array([-1, s]) \n",
    "    u2 = -(1/np.sqrt(2))*np.array([1, s])\n",
    "    return u1, u2 "
   ]
  },
  {
   "cell_type": "markdown",
   "id": "incorporated-wings",
   "metadata": {},
   "source": [
    "Почему u_func не работает? Надо пересчитать! Что там с блоховскими состояниями?"
   ]
  },
  {
   "cell_type": "code",
   "execution_count": 9,
   "id": "specific-darkness",
   "metadata": {},
   "outputs": [],
   "source": [
    "def u_func_new(k, Delta, N):\n",
    "    H = np.array([[0, (1 - Delta) + (1 + Delta)*np.exp(-(2*np.pi/N)*1j*k)],[(1 - Delta) + (1 + Delta)*np.exp((2*np.pi/N)*1j*k), 0]])\n",
    "    eigenvalues, eigenvectors = np.linalg.eigh(H)\n",
    "    idx = eigenvalues.argsort()[::1]   \n",
    "    eigenvalues = eigenvalues[idx]\n",
    "    eigenvectors = eigenvectors[:,idx]\n",
    "    return eigenvectors"
   ]
  },
  {
   "cell_type": "code",
   "execution_count": 10,
   "id": "protected-emergency",
   "metadata": {},
   "outputs": [
    {
     "name": "stdout",
     "output_type": "stream",
     "text": [
      "[-0.70710678+0.j  0.70710678+0.j]\n",
      "[-0.70710678-0.j          0.35355339+0.61237244j]\n",
      "[-0.70710678+0.j         -0.35355339+0.61237244j]\n",
      "[-0.70710678+0.00000000e+00j -0.70710678+8.65956056e-17j]\n",
      "[-0.70710678+0.j         -0.35355339-0.61237244j]\n",
      "[-0.70710678-0.j          0.35355339-0.61237244j]\n"
     ]
    }
   ],
   "source": [
    "N = 6\n",
    "for k in range(N):\n",
    "    print(u_func_new(k, 1, N)[:,0])"
   ]
  },
  {
   "cell_type": "code",
   "execution_count": 11,
   "id": "catholic-salad",
   "metadata": {},
   "outputs": [
    {
     "name": "stdout",
     "output_type": "stream",
     "text": [
      "(0.7071067811865475+0j)\n",
      "(0.3535533905932738+0.6123724356957945j)\n",
      "(-0.35355339059327356+0.6123724356957945j)\n",
      "(-0.7071067811865475+8.659560562354932e-17j)\n",
      "(-0.35355339059327406-0.6123724356957944j)\n",
      "(0.3535533905932738-0.6123724356957945j)\n"
     ]
    }
   ],
   "source": [
    "for k in range(6):\n",
    "    print(np.exp(1j*2*np.pi*k/N)/np.sqrt(2))"
   ]
  },
  {
   "cell_type": "code",
   "execution_count": 12,
   "id": "referenced-parcel",
   "metadata": {},
   "outputs": [],
   "source": [
    "def corr_matrix_new(N1, Delta):\n",
    "    N = N1*2\n",
    "    eps = 1e-15\n",
    "    C = np.zeros((N,N),dtype = \"complex\")\n",
    "    for i in range(N):\n",
    "        for j in range(N):\n",
    "            for k in range(N//2):\n",
    "                    C[i][j] += (1/N1)*np.conjugate(u_func_new(k, Delta, N1)[:,0][i%2])*np.exp(-(2*np.pi/N1)*1j*k*(i//2 - j//2))*u_func_new(k, Delta, N1)[:,0][j%2]\n",
    "    return C"
   ]
  },
  {
   "cell_type": "code",
   "execution_count": 13,
   "id": "valid-courage",
   "metadata": {},
   "outputs": [],
   "source": [
    "def corr_matrix_A_new(N, Delta):\n",
    "    return corr_matrix_new(N, Delta)[0:N, 0:N]"
   ]
  },
  {
   "cell_type": "code",
   "execution_count": 14,
   "id": "adaptive-reform",
   "metadata": {},
   "outputs": [],
   "source": [
    "def entang_entropy_A_new(N, Delta):\n",
    "    CM = corr_matrix_A_new(N, Delta)\n",
    "    S = 0.0\n",
    "    lambd = np.linalg.eigvalsh(CM)\n",
    "    for i in range(np.shape(CM)[0]):\n",
    "        if lambd[i] > 1e-14 and (1 - lambd[i]) > 1e-14:     \n",
    "            S -= lambd[i]*np.log(lambd[i]) + (1 - lambd[i])*np.log(1 - lambd[i])\n",
    "        else:\n",
    "            S -= 0\n",
    "    return(S)"
   ]
  },
  {
   "cell_type": "code",
   "execution_count": 15,
   "id": "medical-color",
   "metadata": {},
   "outputs": [
    {
     "data": {
      "text/plain": [
       "[<matplotlib.lines.Line2D at 0x20c623cfec8>]"
      ]
     },
     "execution_count": 15,
     "metadata": {},
     "output_type": "execute_result"
    },
    {
     "data": {
      "image/png": "[encoded data removed]",
      "text/plain": [
       "<Figure size 432x288 with 1 Axes>"
      ]
     },
     "metadata": {
      "needs_background": "light"
     },
     "output_type": "display_data"
    }
   ],
   "source": [
    "M = 10\n",
    "N = 10\n",
    "Delta = np.linspace(-1,1,M)\n",
    "Entropy_array_new = np.array([entang_entropy_A_new(N, Delta[i]) for i in range(M)])\n",
    "plt.plot(Delta, Entropy_array_new, \".\")\n",
    "plt.plot(Delta, np.ones(Delta.size)*2*np.log(2))"
   ]
  },
  {
   "cell_type": "code",
   "execution_count": 16,
   "id": "needed-chambers",
   "metadata": {},
   "outputs": [
    {
     "name": "stdout",
     "output_type": "stream",
     "text": [
      "[0. 0. 0. 0. 0. 0. 0. 0. 0. 0. 1. 1. 1. 1. 1. 1. 1. 1. 1. 1.]\n",
      "[-2.36698330e-16 -1.19420337e-16 -2.38078226e-17  9.53291711e-17\n",
      "  1.19738753e-16  2.08050141e-16  2.13417365e-16  3.01883154e-16\n",
      "  6.50800159e-06  6.50800159e-06  9.99993492e-01  9.99993492e-01\n",
      "  1.00000000e+00  1.00000000e+00  1.00000000e+00  1.00000000e+00\n",
      "  1.00000000e+00  1.00000000e+00  1.00000000e+00  1.00000000e+00]\n",
      "[-2.45634101e-16 -1.92885765e-16 -8.13228512e-17 -7.17374848e-18\n",
      "  4.13827500e-17  1.34933629e-16  1.84305442e-14  1.85044861e-14\n",
      "  2.65752482e-05  2.65752482e-05  9.99973425e-01  9.99973425e-01\n",
      "  1.00000000e+00  1.00000000e+00  1.00000000e+00  1.00000000e+00\n",
      "  1.00000000e+00  1.00000000e+00  1.00000000e+00  1.00000000e+00]\n",
      "[-4.34107599e-16 -2.87462608e-16 -2.44051676e-16 -8.19234775e-17\n",
      "  5.74870146e-17  2.14761137e-16  2.27484264e-13  2.27607429e-13\n",
      "  6.10612490e-05  6.10612490e-05  9.99938939e-01  9.99938939e-01\n",
      "  1.00000000e+00  1.00000000e+00  1.00000000e+00  1.00000000e+00\n",
      "  1.00000000e+00  1.00000000e+00  1.00000000e+00  1.00000000e+00]\n",
      "[-1.45742230e-16 -4.86943986e-17 -9.58231441e-18  1.68250655e-17\n",
      "  7.70488256e-17  2.40794783e-16  1.36390897e-12  1.36402002e-12\n",
      "  1.10889360e-04  1.10889360e-04  9.99889111e-01  9.99889111e-01\n",
      "  1.00000000e+00  1.00000000e+00  1.00000000e+00  1.00000000e+00\n",
      "  1.00000000e+00  1.00000000e+00  1.00000000e+00  1.00000000e+00]\n",
      "[-2.47832771e-16 -5.81114564e-17  1.86783273e-17  6.11327798e-17\n",
      "  1.74327067e-16  2.28028102e-16  5.55278037e-12  5.55311361e-12\n",
      "  1.77052681e-04  1.77052681e-04  9.99822947e-01  9.99822947e-01\n",
      "  1.00000000e+00  1.00000000e+00  1.00000000e+00  1.00000000e+00\n",
      "  1.00000000e+00  1.00000000e+00  1.00000000e+00  1.00000000e+00]\n",
      "[-4.77928948e-16 -1.27048855e-16 -6.05810733e-17 -3.53876935e-19\n",
      "  7.46408302e-17  1.63134480e-16  1.77159394e-11  1.77162733e-11\n",
      "  2.60620630e-04  2.60620630e-04  9.99739379e-01  9.99739379e-01\n",
      "  1.00000000e+00  1.00000000e+00  1.00000000e+00  1.00000000e+00\n",
      "  1.00000000e+00  1.00000000e+00  1.00000000e+00  1.00000000e+00]\n",
      "[-3.58596739e-16 -3.22669609e-16 -2.03302842e-16 -5.93747598e-17\n",
      "  8.99811487e-17  1.43931582e-16  4.77837769e-11  4.77842210e-11\n",
      "  3.62746271e-04  3.62746271e-04  9.99637254e-01  9.99637254e-01\n",
      "  1.00000000e+00  1.00000000e+00  1.00000000e+00  1.00000000e+00\n",
      "  1.00000000e+00  1.00000000e+00  1.00000000e+00  1.00000000e+00]\n",
      "[-1.83530648e-16  7.08856981e-17  1.05444563e-16  1.57776006e-16\n",
      "  2.18733524e-16  3.02934930e-16  1.14019572e-10  1.14020460e-10\n",
      "  4.84674519e-04  4.84674519e-04  9.99515325e-01  9.99515325e-01\n",
      "  1.00000000e+00  1.00000000e+00  1.00000000e+00  1.00000000e+00\n",
      "  1.00000000e+00  1.00000000e+00  1.00000000e+00  1.00000000e+00]\n",
      "[-1.38695809e-16 -1.24807081e-16 -9.06891613e-17  7.52027847e-18\n",
      "  8.85024382e-17  2.22126723e-16  2.47845078e-10  2.47845855e-10\n",
      "  6.27751341e-04  6.27751341e-04  9.99372249e-01  9.99372249e-01\n",
      "  1.00000000e+00  1.00000000e+00  1.00000000e+00  1.00000000e+00\n",
      "  1.00000000e+00  1.00000000e+00  1.00000000e+00  1.00000000e+00]\n",
      "[-1.36628864e-16 -5.18498908e-17  2.08281924e-17  2.77197802e-16\n",
      "  4.30217652e-16  5.12511657e-16  5.00687423e-10  5.00687534e-10\n",
      "  7.93434099e-04  7.93434099e-04  9.99206566e-01  9.99206566e-01\n",
      "  9.99999999e-01  9.99999999e-01  1.00000000e+00  1.00000000e+00\n",
      "  1.00000000e+00  1.00000000e+00  1.00000000e+00  1.00000000e+00]\n",
      "[-1.58538875e-16  3.08705697e-17  2.14835563e-16  3.07628749e-16\n",
      "  8.54026051e-16  9.54740122e-16  9.53551515e-10  9.53551543e-10\n",
      "  9.83303202e-04  9.83303202e-04  9.99016697e-01  9.99016697e-01\n",
      "  9.99999999e-01  9.99999999e-01  1.00000000e+00  1.00000000e+00\n",
      "  1.00000000e+00  1.00000000e+00  1.00000000e+00  1.00000000e+00]\n",
      "[-9.69183023e-17 -4.33082513e-19  9.17616484e-17  2.08741697e-16\n",
      "  2.15916727e-15  2.57589380e-15  1.73022474e-09  1.73022510e-09\n",
      "  1.19907529e-03  1.19907529e-03  9.98800925e-01  9.98800925e-01\n",
      "  9.99999998e-01  9.99999998e-01  1.00000000e+00  1.00000000e+00\n",
      "  1.00000000e+00  1.00000000e+00  1.00000000e+00  1.00000000e+00]\n",
      "[-3.89665719e-16 -1.45348415e-16 -1.02131329e-17  1.07076054e-16\n",
      "  6.42768773e-15  6.51471891e-15  3.01533137e-09  3.01533154e-09\n",
      "  1.44261815e-03  1.44261815e-03  9.98557382e-01  9.98557382e-01\n",
      "  9.99999997e-01  9.99999997e-01  1.00000000e+00  1.00000000e+00\n",
      "  1.00000000e+00  1.00000000e+00  1.00000000e+00  1.00000000e+00]\n",
      "[-1.38777991e-16  1.77292472e-16  2.25190346e-16  4.73445672e-16\n",
      "  1.48271915e-14  1.49431793e-14  5.07884469e-09  5.07884512e-09\n",
      "  1.71596773e-03  1.71596773e-03  9.98284032e-01  9.98284032e-01\n",
      "  9.99999995e-01  9.99999995e-01  1.00000000e+00  1.00000000e+00\n",
      "  1.00000000e+00  1.00000000e+00  1.00000000e+00  1.00000000e+00]\n",
      "[-2.74123463e-16 -7.30939176e-17  1.14140299e-16  1.19559678e-16\n",
      "  3.41315156e-14  3.41663966e-14  8.30919955e-09  8.30919966e-09\n",
      "  2.02134748e-03  2.02134748e-03  9.97978653e-01  9.97978653e-01\n",
      "  9.99999992e-01  9.99999992e-01  1.00000000e+00  1.00000000e+00\n",
      "  1.00000000e+00  1.00000000e+00  1.00000000e+00  1.00000000e+00]\n",
      "[-3.37173696e-16 -1.88301445e-17  2.72436942e-17  1.83289504e-16\n",
      "  7.40931318e-14  7.42852024e-14  1.32578495e-08  1.32578495e-08\n",
      "  2.36119054e-03  2.36119054e-03  9.97638809e-01  9.97638809e-01\n",
      "  9.99999987e-01  9.99999987e-01  1.00000000e+00  1.00000000e+00\n",
      "  1.00000000e+00  1.00000000e+00  1.00000000e+00  1.00000000e+00]\n",
      "[-2.28873959e-16 -7.36200096e-17 -1.48313702e-17  7.94956327e-17\n",
      "  1.55938709e-13  1.56510746e-13  2.06990928e-08  2.06990931e-08\n",
      "  2.73816517e-03  2.73816517e-03  9.97261835e-01  9.97261835e-01\n",
      "  9.99999979e-01  9.99999979e-01  1.00000000e+00  1.00000000e+00\n",
      "  1.00000000e+00  1.00000000e+00  1.00000000e+00  1.00000000e+00]\n",
      "[-7.25618107e-17  3.33021893e-17  1.16956832e-16  1.78857028e-16\n",
      "  3.17585608e-13  3.17807301e-13  3.17102560e-08  3.17102560e-08\n",
      "  3.15520420e-03  3.15520420e-03  9.96844796e-01  9.96844796e-01\n",
      "  9.99999968e-01  9.99999968e-01  1.00000000e+00  1.00000000e+00\n",
      "  1.00000000e+00  1.00000000e+00  1.00000000e+00  1.00000000e+00]\n",
      "[-5.40583919e-16 -2.63934094e-16  7.31937550e-18  2.03865756e-16\n",
      "  6.28803134e-13  6.29099211e-13  4.77791308e-08  4.77791309e-08\n",
      "  3.61553893e-03  3.61553893e-03  9.96384461e-01  9.96384461e-01\n",
      "  9.99999952e-01  9.99999952e-01  1.00000000e+00  1.00000000e+00\n",
      "  1.00000000e+00  1.00000000e+00  1.00000000e+00  1.00000000e+00]\n",
      "[-2.86900964e-16 -1.89034144e-16 -1.05330541e-16  7.64538429e-17\n",
      "  1.21549572e-12  1.21607878e-12  7.09479581e-08  7.09479582e-08\n",
      "  4.12273874e-03  4.12273874e-03  9.95877261e-01  9.95877261e-01\n",
      "  9.99999929e-01  9.99999929e-01  1.00000000e+00  1.00000000e+00\n",
      "  1.00000000e+00  1.00000000e+00  1.00000000e+00  1.00000000e+00]\n",
      "[-2.61331020e-16 -1.00760652e-16 -5.88220473e-17  1.58420215e-16\n",
      "  2.29915484e-12  2.29939299e-12  1.04006617e-07  1.04006617e-07\n",
      "  4.68075726e-03  4.68075726e-03  9.95319243e-01  9.95319243e-01\n",
      "  9.99999896e-01  9.99999896e-01  1.00000000e+00  1.00000000e+00\n",
      "  1.00000000e+00  1.00000000e+00  1.00000000e+00  1.00000000e+00]\n",
      "[-4.66219585e-17  1.04587073e-16  1.97939931e-16  2.43644212e-16\n",
      "  4.26674318e-12  4.26692673e-12  1.50752280e-07  1.50752281e-07\n",
      "  5.29398656e-03  5.29398656e-03  9.94706013e-01  9.94706013e-01\n",
      "  9.99999849e-01  9.99999849e-01  1.00000000e+00  1.00000000e+00\n",
      "  1.00000000e+00  1.00000000e+00  1.00000000e+00  1.00000000e+00]\n",
      "[-1.27202531e-16  1.77375472e-16  5.29380226e-16  7.30365073e-16\n",
      "  7.78700572e-12  7.78701786e-12  2.16339321e-07  2.16339321e-07\n",
      "  5.96732115e-03  5.96732115e-03  9.94032679e-01  9.94032679e-01\n",
      "  9.99999784e-01  9.99999784e-01  1.00000000e+00  1.00000000e+00\n",
      "  1.00000000e+00  1.00000000e+00  1.00000000e+00  1.00000000e+00]\n",
      "[-1.20587708e-16  2.27768607e-16  3.43757272e-16  4.75793364e-16\n",
      "  1.40003564e-11  1.40004386e-11  3.07752334e-07  3.07752334e-07\n",
      "  6.70623394e-03  6.70623394e-03  9.93293766e-01  9.93293766e-01\n",
      "  9.99999692e-01  9.99999692e-01  1.00000000e+00  1.00000000e+00\n",
      "  1.00000000e+00  1.00000000e+00  1.00000000e+00  1.00000000e+00]\n",
      "[-3.76634797e-17  1.82158050e-17  1.06847822e-15  1.09889613e-15\n",
      "  2.48403772e-11  2.48404882e-11  4.34448094e-07  4.34448095e-07\n",
      "  7.51686683e-03  7.51686683e-03  9.92483133e-01  9.92483133e-01\n",
      "  9.99999566e-01  9.99999566e-01  1.00000000e+00  1.00000000e+00\n",
      "  1.00000000e+00  1.00000000e+00  1.00000000e+00  1.00000000e+00]\n",
      "[-4.34222972e-16  7.47640334e-17  2.59137496e-15  2.69190172e-15\n",
      "  4.35577147e-11  4.35579645e-11  6.09230715e-07  6.09230715e-07\n",
      "  8.40613973e-03  8.40613973e-03  9.91593860e-01  9.91593860e-01\n",
      "  9.99999391e-01  9.99999391e-01  1.00000000e+00  1.00000000e+00\n",
      "  1.00000000e+00  1.00000000e+00  1.00000000e+00  1.00000000e+00]\n",
      "[-1.56486023e-16  2.10731334e-18  4.79995495e-15  4.91936915e-15\n",
      "  7.55769913e-11  7.55770745e-11  8.49450877e-07  8.49450877e-07\n",
      "  9.38188237e-03  9.38188237e-03  9.90618118e-01  9.90618118e-01\n",
      "  9.99999151e-01  9.99999151e-01  1.00000000e+00  1.00000000e+00\n",
      "  1.00000000e+00  1.00000000e+00  1.00000000e+00  1.00000000e+00]\n",
      "[-2.35365871e-16 -8.35715283e-17  9.30844434e-15  9.49443976e-15\n",
      "  1.29890625e-10  1.29890641e-10  1.17865842e-06  1.17865842e-06\n",
      "  1.04529951e-02  1.04529951e-02  9.89547005e-01  9.89547005e-01\n",
      "  9.99998821e-01  9.99998821e-01  1.00000000e+00  1.00000000e+00\n",
      "  1.00000000e+00  1.00000000e+00  1.00000000e+00  1.00000000e+00]\n",
      "[-1.10909533e-16  2.96279537e-16  1.83853309e-14  1.85532592e-14\n",
      "  2.21297714e-10  2.21297912e-10  1.62889350e-06  1.62889350e-06\n",
      "  1.16296465e-02  1.16296465e-02  9.88370354e-01  9.88370354e-01\n",
      "  9.99998371e-01  9.99998371e-01  1.00000000e+00  1.00000000e+00\n",
      "  1.00000000e+00  1.00000000e+00  1.00000000e+00  1.00000000e+00]\n",
      "[-4.47825104e-16 -1.84888202e-16  3.34499687e-14  3.37974626e-14\n",
      "  3.73962464e-10  3.73962518e-10  2.24388305e-06  2.24388305e-06\n",
      "  1.29235186e-02  1.29235186e-02  9.87076481e-01  9.87076481e-01\n",
      "  9.99997756e-01  9.99997756e-01  1.00000000e+00  1.00000000e+00\n",
      "  1.00000000e+00  1.00000000e+00  1.00000000e+00  1.00000000e+00]\n",
      "[-5.01233827e-17  1.33180298e-16  6.16739246e-14  6.17765136e-14\n",
      "  6.26985366e-10  6.26985555e-10  3.08352746e-06  3.08352746e-06\n",
      "  1.43481137e-02  1.43481137e-02  9.85651886e-01  9.85651886e-01\n",
      "  9.99996916e-01  9.99996916e-01  9.99999999e-01  9.99999999e-01\n",
      "  1.00000000e+00  1.00000000e+00  1.00000000e+00  1.00000000e+00]\n",
      "[-4.28857362e-16 -1.23897744e-16  1.10018214e-13  1.10084597e-13\n",
      "  1.04295147e-09  1.04295193e-09  4.23023362e-06  4.23023362e-06\n",
      "  1.59191425e-02  1.59191425e-02  9.84080857e-01  9.84080857e-01\n",
      "  9.99995770e-01  9.99995770e-01  9.99999999e-01  9.99999999e-01\n",
      "  1.00000000e+00  1.00000000e+00  1.00000000e+00  1.00000000e+00]\n",
      "[-3.21354451e-16 -2.62640640e-17  1.90904756e-13  1.91016566e-13\n",
      "  1.72072438e-09  1.72072490e-09  5.79789227e-06  5.79789227e-06\n",
      "  1.76550197e-02  1.76550197e-02  9.82344980e-01  9.82344980e-01\n",
      "  9.99994202e-01  9.99994202e-01  9.99999998e-01  9.99999998e-01\n",
      "  1.00000000e+00  1.00000000e+00  1.00000000e+00  1.00000000e+00]\n",
      "[-2.86133059e-16 -7.60681733e-17  3.23438152e-13  3.23596307e-13\n",
      "  2.81393899e-09  2.81393905e-09  7.94463115e-06  7.94463115e-06\n",
      "  1.95775037e-02  1.95775037e-02  9.80422496e-01  9.80422496e-01\n",
      "  9.99992055e-01  9.99992055e-01  9.99999997e-01  9.99999997e-01\n",
      "  1.00000000e+00  1.00000000e+00  1.00000000e+00  1.00000000e+00]\n",
      "[-2.14498507e-16  3.42705240e-17  5.33719282e-13  5.34218453e-13\n",
      "  4.55656222e-09  4.55656224e-09  1.08909068e-05  1.08909068e-05\n",
      "  2.17125303e-02  2.17125303e-02  9.78287470e-01  9.78287470e-01\n",
      "  9.99989109e-01  9.99989109e-01  9.99999995e-01  9.99999995e-01\n",
      "  1.00000000e+00  1.00000000e+00  1.00000000e+00  1.00000000e+00]\n",
      "[-7.31731777e-17  3.43739788e-16  8.57683105e-13  8.58609750e-13\n",
      "  7.29605152e-09  7.29605159e-09  1.49449985e-05  1.49449985e-05\n",
      "  2.40913087e-02  2.40913087e-02  9.75908691e-01  9.75908691e-01\n",
      "  9.99985055e-01  9.99985055e-01  9.99999993e-01  9.99999993e-01\n",
      "  1.00000000e+00  1.00000000e+00  1.00000000e+00  1.00000000e+00]\n",
      "[-1.17941225e-16  1.76296988e-17  1.34525012e-12  1.34532739e-12\n",
      "  1.15325548e-08  1.15325548e-08  2.05384025e-05  2.05384025e-05\n",
      "  2.67517693e-02  2.67517693e-02  9.73248231e-01  9.73248231e-01\n",
      "  9.99979462e-01  9.99979462e-01  9.99999988e-01  9.99999988e-01\n",
      "  1.00000000e+00  1.00000000e+00  1.00000000e+00  1.00000000e+00]\n",
      "[-1.18168306e-16  1.96252402e-16  2.05369505e-12  2.05387543e-12\n",
      "  1.79585787e-08  1.79585790e-08  2.82736349e-05  2.82736349e-05\n",
      "  2.97404783e-02  2.97404783e-02  9.70259522e-01  9.70259522e-01\n",
      "  9.99971726e-01  9.99971726e-01  9.99999982e-01  9.99999982e-01\n",
      "  1.00000000e+00  1.00000000e+00  1.00000000e+00  1.00000000e+00]\n",
      "[-2.13219735e-16  1.37170769e-16  3.05390012e-12  3.05454109e-12\n",
      "  2.74872617e-08  2.74872623e-08  3.89857193e-05  3.89857193e-05\n",
      "  3.31151489e-02  3.31151489e-02  9.66884851e-01  9.66884851e-01\n",
      "  9.99961014e-01  9.99961014e-01  9.99999973e-01  9.99999973e-01\n",
      "  1.00000000e+00  1.00000000e+00  1.00000000e+00  1.00000000e+00]\n",
      "[-2.02622329e-16  1.64097263e-16  4.42218118e-12  4.42221040e-12\n",
      "  4.12494173e-08  4.12494174e-08  5.38145559e-05  5.38145559e-05\n",
      "  3.69478632e-02  3.69478632e-02  9.63052137e-01  9.63052137e-01\n",
      "  9.99946185e-01  9.99946185e-01  9.99999959e-01  9.99999959e-01\n",
      "  1.00000000e+00  1.00000000e+00  1.00000000e+00  1.00000000e+00]\n",
      "[-1.20503044e-16  1.82423516e-16  6.23147536e-12  6.23190592e-12\n",
      "  6.05321554e-08  6.05321555e-08  7.42757006e-05  7.42757006e-05\n",
      "  4.13290158e-02  4.13290158e-02  9.58670984e-01  9.58670984e-01\n",
      "  9.99925724e-01  9.99925724e-01  9.99999939e-01  9.99999939e-01\n",
      "  1.00000000e+00  1.00000000e+00  1.00000000e+00  1.00000000e+00]\n",
      "[1.39313218e-16 5.05956533e-16 8.54175888e-12 8.54201010e-12\n",
      " 8.66296027e-08 8.66296028e-08 1.02298148e-04 1.02298148e-04\n",
      " 4.63716874e-02 4.63716874e-02 9.53628313e-01 9.53628313e-01\n",
      " 9.99897702e-01 9.99897702e-01 9.99999913e-01 9.99999913e-01\n",
      " 1.00000000e+00 1.00000000e+00 1.00000000e+00 1.00000000e+00]\n",
      "[-1.73296295e-16  1.92182796e-16  1.13787759e-11  1.13789789e-11\n",
      "  1.20585107e-07  1.20585108e-07  1.40167021e-04  1.40167021e-04\n",
      "  5.22154741e-02  5.22154741e-02  9.47784526e-01  9.47784526e-01\n",
      "  9.99859833e-01  9.99859833e-01  9.99999879e-01  9.99999879e-01\n",
      "  1.00000000e+00  1.00000000e+00  1.00000000e+00  1.00000000e+00]\n",
      "[-2.14219290e-16 -1.62649472e-16  1.47181051e-11  1.47183569e-11\n",
      "  1.62829919e-07  1.62829919e-07  1.90271893e-04  1.90271893e-04\n",
      "  5.90274830e-02  5.90274830e-02  9.40972517e-01  9.40972517e-01\n",
      "  9.99809728e-01  9.99809728e-01  9.99999837e-01  9.99999837e-01\n",
      "  1.00000000e+00  1.00000000e+00  1.00000000e+00  1.00000000e+00]\n",
      "[-2.16018372e-16  1.23867936e-16  1.84628817e-11  1.84632292e-11\n",
      "  2.12767587e-07  2.12767588e-07  2.54543810e-04  2.54543810e-04\n",
      "  6.69961597e-02  6.69961597e-02  9.33003840e-01  9.33003840e-01\n",
      "  9.99745456e-01  9.99745456e-01  9.99999787e-01  9.99999787e-01\n",
      "  1.00000000e+00  1.00000000e+00  1.00000000e+00  1.00000000e+00]\n",
      "[1.53838034e-16 2.22163070e-16 2.24321874e-11 2.24322810e-11\n",
      " 2.68410583e-07 2.68410583e-07 3.33524423e-04 3.33524423e-04\n",
      " 7.63114391e-02 7.63114391e-02 9.23688561e-01 9.23688561e-01\n",
      " 9.99666476e-01 9.99666476e-01 9.99999732e-01 9.99999732e-01\n",
      " 1.00000000e+00 1.00000000e+00 1.00000000e+00 1.00000000e+00]\n",
      "[-3.72418907e-16  6.23300064e-17  2.63599503e-11  2.63601608e-11\n",
      "  3.26227432e-07  3.26227432e-07  4.25219842e-04  4.25219842e-04\n",
      "  8.71247022e-02  8.71247022e-02  9.12875298e-01  9.12875298e-01\n",
      "  9.99574780e-01  9.99574780e-01  9.99999674e-01  9.99999674e-01\n",
      "  1.00000000e+00  1.00000000e+00  1.00000000e+00  1.00000000e+00]\n",
      "[2.06041131e-16 2.31109184e-16 2.99202401e-11 2.99207004e-11\n",
      " 3.81368522e-07 3.81368522e-07 5.24234395e-04 5.24234395e-04\n",
      " 9.94884780e-02 9.94884780e-02 9.00511522e-01 9.00511522e-01\n",
      " 9.99475766e-01 9.99475766e-01 9.99999619e-01 9.99999619e-01\n",
      " 1.00000000e+00 1.00000000e+00 1.00000000e+00 1.00000000e+00]\n",
      "[-5.18281059e-17  5.28654157e-17  3.27723460e-11  3.27725839e-11\n",
      "  4.28358613e-07  4.28358613e-07  6.21912355e-04  6.21912355e-04\n",
      "  1.13291591e-01  1.13291591e-01  8.86708409e-01  8.86708409e-01\n",
      "  9.99378088e-01  9.99378088e-01  9.99999572e-01  9.99999572e-01\n",
      "  1.00000000e+00  1.00000000e+00  1.00000000e+00  1.00000000e+00]\n",
      "[5.04878069e-17 9.44688579e-14 9.49652143e-14 5.12197598e-09\n",
      " 5.12197626e-09 2.09207812e-05 2.09207812e-05 1.12423447e-02\n",
      " 1.12423447e-02 5.00000000e-01 5.00000000e-01 9.88757655e-01\n",
      " 9.88757655e-01 9.99979079e-01 9.99979079e-01 9.99999995e-01\n",
      " 9.99999995e-01 1.00000000e+00 1.00000000e+00 1.00000000e+00]\n",
      "[1.57914419e-16 8.70051098e-14 8.70571522e-14 4.62882921e-09\n",
      " 4.62882932e-09 1.82018466e-05 1.82018466e-05 9.29339666e-03\n",
      " 9.29339666e-03 5.00000000e-01 5.00000000e-01 9.90706603e-01\n",
      " 9.90706603e-01 9.99981798e-01 9.99981798e-01 9.99999995e-01\n",
      " 9.99999995e-01 1.00000000e+00 1.00000000e+00 1.00000000e+00]\n",
      "[3.67763289e-16 7.74762502e-14 7.77884682e-14 4.02906575e-09\n",
      " 4.02906620e-09 1.51846410e-05 1.51846410e-05 7.51882672e-03\n",
      " 7.51882672e-03 5.00000000e-01 5.00000000e-01 9.92481173e-01\n",
      " 9.92481173e-01 9.99984815e-01 9.99984815e-01 9.99999996e-01\n",
      " 9.99999996e-01 1.00000000e+00 1.00000000e+00 1.00000000e+00]\n",
      "[3.81638377e-17 6.66508949e-14 6.67313428e-14 3.38118095e-09\n",
      " 3.38118113e-09 1.21710547e-05 1.21710547e-05 5.99222052e-03\n",
      " 5.99222052e-03 5.00000000e-01 5.00000000e-01 9.94007779e-01\n",
      " 9.94007779e-01 9.99987829e-01 9.99987829e-01 9.99999997e-01\n",
      " 9.99999997e-01 1.00000000e+00 1.00000000e+00 1.00000000e+00]\n",
      "[2.93001851e-16 5.57245727e-14 5.58042691e-14 2.73937388e-09\n",
      " 2.73937403e-09 9.40344258e-06 9.40344258e-06 4.73371654e-03\n",
      " 4.73371654e-03 5.00000000e-01 5.00000000e-01 9.95266283e-01\n",
      " 9.95266283e-01 9.99990597e-01 9.99990597e-01 9.99999997e-01\n",
      " 9.99999997e-01 1.00000000e+00 1.00000000e+00 1.00000000e+00]\n",
      "[4.17546117e-16 4.48862209e-14 4.54349970e-14 2.14587106e-09\n",
      " 2.14587126e-09 7.03154088e-06 7.03154088e-06 3.72612756e-03\n",
      " 3.72612756e-03 5.00000000e-01 5.00000000e-01 9.96273872e-01\n",
      " 9.96273872e-01 9.99992968e-01 9.99992968e-01 9.99999998e-01\n",
      " 9.99999998e-01 1.00000000e+00 1.00000000e+00 1.00000000e+00]\n",
      "[9.02028332e-17 3.49512114e-14 3.51733014e-14 1.62768967e-09\n",
      " 1.62769020e-09 5.11206624e-06 5.11206624e-06 2.93364463e-03\n",
      " 2.93364463e-03 5.00000000e-01 5.00000000e-01 9.97066355e-01\n",
      " 9.97066355e-01 9.99994888e-01 9.99994888e-01 9.99999998e-01\n",
      " 9.99999998e-01 1.00000000e+00 1.00000000e+00 1.00000000e+00]\n",
      "[-1.40784204e-16  2.67335530e-14  2.67890636e-14  1.19719593e-09\n",
      "  1.19719636e-09  3.63041846e-06  3.63041846e-06  2.31580701e-03\n",
      "  2.31580701e-03  5.00000000e-01  5.00000000e-01  9.97684193e-01\n",
      "  9.97684193e-01  9.99996370e-01  9.99996370e-01  9.99999999e-01\n",
      "  9.99999999e-01  1.00000000e+00  1.00000000e+00  1.00000000e+00]\n",
      "[-8.71553864e-17  1.97731871e-14  2.01128032e-14  8.54969714e-10\n",
      "  8.54970125e-10  2.52981465e-06  2.52981465e-06  1.83525127e-03\n",
      "  1.83525127e-03  5.00000000e-01  5.00000000e-01  9.98164749e-01\n",
      "  9.98164749e-01  9.99997470e-01  9.99997470e-01  9.99999999e-01\n",
      "  9.99999999e-01  1.00000000e+00  1.00000000e+00  1.00000000e+00]\n",
      "[2.93743602e-16 1.41898433e-14 1.44583448e-14 5.93555889e-10\n",
      " 5.93556240e-10 1.73691361e-06 1.73691361e-06 1.46075840e-03\n",
      " 1.46075840e-03 5.00000000e-01 5.00000000e-01 9.98539242e-01\n",
      " 9.98539242e-01 9.99998263e-01 9.99998263e-01 9.99999999e-01\n",
      " 9.99999999e-01 1.00000000e+00 1.00000000e+00 1.00000000e+00]\n",
      "[2.92760009e-16 1.01313593e-14 1.02406925e-14 4.01064819e-10\n",
      " 4.01064982e-10 1.17916566e-06 1.17916566e-06 1.16763157e-03\n",
      " 1.16763157e-03 5.00000000e-01 5.00000000e-01 9.98832368e-01\n",
      " 9.98832368e-01 9.99998821e-01 9.99998821e-01 1.00000000e+00\n",
      " 1.00000000e+00 1.00000000e+00 1.00000000e+00 1.00000000e+00]\n",
      "[1.12529062e-17 6.60151298e-15 6.87313429e-15 2.64073752e-10\n",
      " 2.64074054e-10 7.93886755e-07 7.93886755e-07 9.36901387e-04\n",
      " 9.36901387e-04 5.00000000e-01 5.00000000e-01 9.99063099e-01\n",
      " 9.99063099e-01 9.99999206e-01 9.99999206e-01 1.00000000e+00\n",
      " 1.00000000e+00 1.00000000e+00 1.00000000e+00 1.00000000e+00]\n",
      "[1.85425347e-16 4.54639913e-15 4.86272101e-15 1.69636445e-10\n",
      " 1.69636650e-10 5.31290539e-07 5.31290539e-07 7.54201457e-04\n",
      " 7.54201457e-04 5.00000000e-01 5.00000000e-01 9.99245799e-01\n",
      " 9.99245799e-01 9.99999469e-01 9.99999469e-01 1.00000000e+00\n",
      " 1.00000000e+00 1.00000000e+00 1.00000000e+00 1.00000000e+00]\n",
      "[8.18232463e-17 2.99764645e-15 3.15601167e-15 1.06447397e-10\n",
      " 1.06447488e-10 3.54023533e-07 3.54023533e-07 6.08698751e-04\n",
      " 6.08698751e-04 5.00000000e-01 5.00000000e-01 9.99391301e-01\n",
      " 9.99391301e-01 9.99999646e-01 9.99999646e-01 1.00000000e+00\n",
      " 1.00000000e+00 1.00000000e+00 1.00000000e+00 1.00000000e+00]\n",
      "[5.21884691e-17 1.71230128e-15 1.92574761e-15 6.53298788e-11\n",
      " 6.53305078e-11 2.35154852e-07 2.35154853e-07 4.92210242e-04\n",
      " 4.92210242e-04 5.00000000e-01 5.00000000e-01 9.99507790e-01\n",
      " 9.99507790e-01 9.99999765e-01 9.99999765e-01 1.00000000e+00\n",
      " 1.00000000e+00 1.00000000e+00 1.00000000e+00 1.00000000e+00]\n",
      "[1.19742876e-16 1.06505725e-15 1.18402942e-15 3.92651111e-11\n",
      " 3.92652638e-11 1.55805582e-07 1.55805582e-07 3.98521069e-04\n",
      " 3.98521069e-04 5.00000000e-01 5.00000000e-01 9.99601479e-01\n",
      " 9.99601479e-01 9.99999844e-01 9.99999844e-01 1.00000000e+00\n",
      " 1.00000000e+00 1.00000000e+00 1.00000000e+00 1.00000000e+00]\n",
      "[-8.98090381e-17  3.79676017e-16  6.05646942e-16  2.31379571e-11\n",
      "  2.31380148e-11  1.02998154e-07  1.02998154e-07  3.22875979e-04\n",
      "  3.22875979e-04  5.00000000e-01  5.00000000e-01  9.99677124e-01\n",
      "  9.99677124e-01  9.99999897e-01  9.99999897e-01  1.00000000e+00\n",
      "  1.00000000e+00  1.00000000e+00  1.00000000e+00  1.00000000e+00]\n",
      "[-3.43810920e-17  3.33383184e-16  5.61737029e-16  1.33831623e-11\n",
      "  1.33831736e-11  6.79299544e-08  6.79299544e-08  2.61606149e-04\n",
      "  2.61606149e-04  5.00000000e-01  5.00000000e-01  9.99738394e-01\n",
      "  9.99738394e-01  9.99999932e-01  9.99999932e-01  1.00000000e+00\n",
      "  1.00000000e+00  1.00000000e+00  1.00000000e+00  1.00000000e+00]\n",
      "[6.46592452e-17 1.14531869e-16 2.58998153e-16 7.60591463e-12\n",
      " 7.60604603e-12 4.46822040e-08 4.46822043e-08 2.11856850e-04\n",
      " 2.11856850e-04 5.00000000e-01 5.00000000e-01 9.99788143e-01\n",
      " 9.99788143e-01 9.99999955e-01 9.99999955e-01 1.00000000e+00\n",
      " 1.00000000e+00 1.00000000e+00 1.00000000e+00 1.00000000e+00]\n",
      "[-2.50910206e-16  6.00904353e-17  3.03294994e-16  4.25049117e-12\n",
      "  4.25054952e-12  2.92966452e-08  2.92966453e-08  1.71388482e-04\n",
      "  1.71388482e-04  5.00000000e-01  5.00000000e-01  9.99828612e-01\n",
      "  9.99828612e-01  9.99999971e-01  9.99999971e-01  1.00000000e+00\n",
      "  1.00000000e+00  1.00000000e+00  1.00000000e+00  1.00000000e+00]\n",
      "[-4.64633950e-16  8.80914265e-19  2.16595598e-16  2.33706210e-12\n",
      "  2.33739673e-12  1.91342735e-08  1.91342736e-08  1.38430455e-04\n",
      "  1.38430455e-04  5.00000000e-01  5.00000000e-01  9.99861570e-01\n",
      "  9.99861570e-01  9.99999981e-01  9.99999981e-01  1.00000000e+00\n",
      "  1.00000000e+00  1.00000000e+00  1.00000000e+00  1.00000000e+00]\n",
      "[-2.73028108e-17  1.01977878e-16  3.56916581e-16  1.26490553e-12\n",
      "  1.26515398e-12  1.24383720e-08  1.24383721e-08  1.11573053e-04\n",
      "  1.11573053e-04  5.00000000e-01  5.00000000e-01  9.99888427e-01\n",
      "  9.99888427e-01  9.99999988e-01  9.99999988e-01  1.00000000e+00\n",
      "  1.00000000e+00  1.00000000e+00  1.00000000e+00  1.00000000e+00]\n",
      "[-2.47476747e-16  2.42861287e-17  2.44495189e-16  6.73960686e-13\n",
      "  6.74005685e-13  8.04033241e-09  8.04033253e-09  8.96867091e-05\n",
      "  8.96867091e-05  5.00000000e-01  5.00000000e-01  9.99910313e-01\n",
      "  9.99910313e-01  9.99999992e-01  9.99999992e-01  1.00000000e+00\n",
      "  1.00000000e+00  1.00000000e+00  1.00000000e+00  1.00000000e+00]\n",
      "[-2.19368655e-16 -1.15070922e-16  4.38630381e-17  3.53429913e-13\n",
      "  3.53673434e-13  5.16302098e-09  5.16302167e-09  7.18611504e-05\n",
      "  7.18611504e-05  5.00000000e-01  5.00000000e-01  9.99928139e-01\n",
      "  9.99928139e-01  9.99999995e-01  9.99999995e-01  1.00000000e+00\n",
      "  1.00000000e+00  1.00000000e+00  1.00000000e+00  1.00000000e+00]\n",
      "[-2.03791829e-16 -1.05815255e-16 -4.25389048e-17  1.82282773e-13\n",
      "  1.82476510e-13  3.28982962e-09  3.28982971e-09  5.73591166e-05\n",
      "  5.73591166e-05  5.00000000e-01  5.00000000e-01  9.99942641e-01\n",
      "  9.99942641e-01  9.99999997e-01  9.99999997e-01  1.00000000e+00\n",
      "  1.00000000e+00  1.00000000e+00  1.00000000e+00  1.00000000e+00]\n",
      "[-1.77390079e-16 -2.40467974e-17  1.29968463e-16  9.26585625e-14\n",
      "  9.26714172e-14  2.07758996e-09  2.07758999e-09  4.55808216e-05\n",
      "  4.55808216e-05  5.00000000e-01  5.00000000e-01  9.99954419e-01\n",
      "  9.99954419e-01  9.99999998e-01  9.99999998e-01  1.00000000e+00\n",
      "  1.00000000e+00  1.00000000e+00  1.00000000e+00  1.00000000e+00]\n",
      "[-2.38454972e-16 -5.48616474e-17  1.76004312e-16  4.59750908e-14\n",
      "  4.60601642e-14  1.29864805e-09  1.29864849e-09  3.60364362e-05\n",
      "  3.60364362e-05  5.00000000e-01  5.00000000e-01  9.99963964e-01\n",
      "  9.99963964e-01  9.99999999e-01  9.99999999e-01  1.00000000e+00\n",
      "  1.00000000e+00  1.00000000e+00  1.00000000e+00  1.00000000e+00]\n",
      "[-2.16632610e-16  1.25793024e-16  3.94071056e-16  2.23234781e-14\n",
      "  2.26314199e-14  8.02306525e-10  8.02306611e-10  2.83246058e-05\n",
      "  2.83246058e-05  5.00000000e-01  5.00000000e-01  9.99971675e-01\n",
      "  9.99971675e-01  9.99999999e-01  9.99999999e-01  1.00000000e+00\n",
      "  1.00000000e+00  1.00000000e+00  1.00000000e+00  1.00000000e+00]\n",
      "[-4.97866086e-17  4.04960255e-17  4.76522955e-16  1.05658828e-14\n",
      "  1.07691051e-14  4.89112494e-10  4.89112702e-10  2.21155544e-05\n",
      "  2.21155544e-05  5.00000000e-01  5.00000000e-01  9.99977884e-01\n",
      "  9.99977884e-01  1.00000000e+00  1.00000000e+00  1.00000000e+00\n",
      "  1.00000000e+00  1.00000000e+00  1.00000000e+00  1.00000000e+00]\n",
      "[-1.68864180e-16  1.39043093e-17  1.36919515e-16  5.01519519e-15\n",
      "  5.03356695e-15  2.93708527e-10  2.93708749e-10  1.71377007e-05\n",
      "  1.71377007e-05  5.00000000e-01  5.00000000e-01  9.99982862e-01\n",
      "  9.99982862e-01  1.00000000e+00  1.00000000e+00  1.00000000e+00\n",
      "  1.00000000e+00  1.00000000e+00  1.00000000e+00  1.00000000e+00]\n",
      "[-4.63738477e-17  9.56970641e-17  2.85995152e-16  2.31555817e-15\n",
      "  2.37057348e-15  1.73373260e-10  1.73373520e-10  1.31669890e-05\n",
      "  1.31669890e-05  5.00000000e-01  5.00000000e-01  9.99986833e-01\n",
      "  9.99986833e-01  1.00000000e+00  1.00000000e+00  1.00000000e+00\n",
      "  1.00000000e+00  1.00000000e+00  1.00000000e+00  1.00000000e+00]\n",
      "[-3.01916813e-16 -2.52077007e-17  2.60836592e-16  7.75313989e-16\n",
      "  9.53668727e-16  1.00368810e-10  1.00369046e-10  1.00183338e-05\n",
      "  1.00183338e-05  5.00000000e-01  5.00000000e-01  9.99989982e-01\n",
      "  9.99989982e-01  1.00000000e+00  1.00000000e+00  1.00000000e+00\n",
      "  1.00000000e+00  1.00000000e+00  1.00000000e+00  1.00000000e+00]\n",
      "[-1.26050355e-16 -9.12376354e-17  1.41713301e-16  2.35922393e-16\n",
      "  4.72063379e-16  5.68327052e-11  5.68330938e-11  7.53871999e-06\n",
      "  7.53871999e-06  5.00000000e-01  5.00000000e-01  9.99992461e-01\n",
      "  9.99992461e-01  1.00000000e+00  1.00000000e+00  1.00000000e+00\n",
      "  1.00000000e+00  1.00000000e+00  1.00000000e+00  1.00000000e+00]\n",
      "[-6.50496670e-18  3.03421378e-17  1.14382456e-16  2.69089606e-16\n",
      "  3.58179530e-16  3.13781817e-11  3.13782060e-11  5.60161123e-06\n",
      "  5.60161123e-06  5.00000000e-01  5.00000000e-01  9.99994398e-01\n",
      "  9.99994398e-01  1.00000000e+00  1.00000000e+00  1.00000000e+00\n",
      "  1.00000000e+00  1.00000000e+00  1.00000000e+00  1.00000000e+00]\n",
      "[-2.28369986e-16 -1.58261575e-16  4.03836704e-17  7.90550340e-17\n",
      "  4.65525439e-16  1.68299495e-11  1.68304353e-11  4.10239687e-06\n",
      "  4.10239687e-06  5.00000000e-01  5.00000000e-01  9.99995898e-01\n",
      "  9.99995898e-01  1.00000000e+00  1.00000000e+00  1.00000000e+00\n",
      "  1.00000000e+00  1.00000000e+00  1.00000000e+00  1.00000000e+00]\n",
      "[-4.49596361e-16 -1.72281980e-16 -1.17159603e-16 -6.40761978e-17\n",
      " -4.04394321e-17  8.73005661e-12  8.73016763e-12  2.95466809e-06\n",
      "  2.95466810e-06  5.00000000e-01  5.00000000e-01  9.99997045e-01\n",
      "  9.99997045e-01  1.00000000e+00  1.00000000e+00  1.00000000e+00\n",
      "  1.00000000e+00  1.00000000e+00  1.00000000e+00  1.00000000e+00]\n",
      "[-3.48526919e-16 -1.79202663e-16  4.43838285e-17  3.12411291e-16\n",
      "  5.20756869e-16  4.35595964e-12  4.35629350e-12  2.08716040e-06\n",
      "  2.08716040e-06  5.00000000e-01  5.00000000e-01  9.99997913e-01\n",
      "  9.99997913e-01  1.00000000e+00  1.00000000e+00  1.00000000e+00\n",
      "  1.00000000e+00  1.00000000e+00  1.00000000e+00  1.00000000e+00]\n",
      "[-1.46012154e-16  1.26012993e-18  7.80605770e-17  2.13325925e-16\n",
      "  2.39020591e-16  2.07716656e-12  2.07745973e-12  1.44123370e-06\n",
      "  1.44123370e-06  5.00000000e-01  5.00000000e-01  9.99998559e-01\n",
      "  9.99998559e-01  1.00000000e+00  1.00000000e+00  1.00000000e+00\n",
      "  1.00000000e+00  1.00000000e+00  1.00000000e+00  1.00000000e+00]\n",
      "[-4.20360445e-16 -3.47633955e-16 -4.58811971e-17  1.81070414e-16\n",
      "  3.74375574e-16  9.38120350e-13  9.38592194e-13  9.68788540e-07\n",
      "  9.68788540e-07  5.00000000e-01  5.00000000e-01  9.99999031e-01\n",
      "  9.99999031e-01  1.00000000e+00  1.00000000e+00  1.00000000e+00\n",
      "  1.00000000e+00  1.00000000e+00  1.00000000e+00  1.00000000e+00]\n",
      "[-4.43068211e-16 -1.57751847e-16 -1.19976792e-16  2.94685187e-17\n",
      "  5.58512388e-17  3.97568960e-13  3.97670658e-13  6.30537455e-07\n",
      "  6.30537455e-07  5.00000000e-01  5.00000000e-01  9.99999369e-01\n",
      "  9.99999369e-01  1.00000000e+00  1.00000000e+00  1.00000000e+00\n",
      "  1.00000000e+00  1.00000000e+00  1.00000000e+00  1.00000000e+00]\n",
      "[-2.45654949e-16 -1.28311924e-16  7.46312463e-18  1.32583375e-16\n",
      "  1.70891166e-16  1.55488492e-13  1.56090949e-13  3.94566815e-07\n",
      "  3.94566815e-07  5.00000000e-01  5.00000000e-01  9.99999605e-01\n",
      "  9.99999605e-01  1.00000000e+00  1.00000000e+00  1.00000000e+00\n",
      "  1.00000000e+00  1.00000000e+00  1.00000000e+00  1.00000000e+00]\n",
      "[-3.06373828e-16 -1.36433918e-16 -6.95974647e-18  1.14002553e-16\n",
      "  2.17090189e-16  5.52480692e-14  5.52775801e-14  2.35137209e-07\n",
      "  2.35137209e-07  5.00000000e-01  5.00000000e-01  9.99999765e-01\n",
      "  9.99999765e-01  1.00000000e+00  1.00000000e+00  1.00000000e+00\n",
      "  1.00000000e+00  1.00000000e+00  1.00000000e+00  1.00000000e+00]\n",
      "[-3.22435075e-16 -2.65757095e-16 -4.48956939e-17  4.62348776e-17\n",
      "  1.10921136e-16  1.73195804e-14  1.73749903e-14  1.31680355e-07\n",
      "  1.31680355e-07  5.00000000e-01  5.00000000e-01  9.99999868e-01\n",
      "  9.99999868e-01  1.00000000e+00  1.00000000e+00  1.00000000e+00\n",
      "  1.00000000e+00  1.00000000e+00  1.00000000e+00  1.00000000e+00]\n",
      "[-1.62507673e-16 -1.42466522e-16  2.12666871e-17  1.19108552e-16\n",
      "  2.62624690e-16  4.21862257e-15  4.33009472e-15  6.79585265e-08\n",
      "  6.79585265e-08  5.00000000e-01  5.00000000e-01  9.99999932e-01\n",
      "  9.99999932e-01  1.00000000e+00  1.00000000e+00  1.00000000e+00\n",
      "  1.00000000e+00  1.00000000e+00  1.00000000e+00  1.00000000e+00]\n",
      "[-2.37927530e-16 -1.69910824e-16  1.14347597e-16  2.05046401e-16\n",
      "  3.13394902e-16  8.94407322e-16  1.38777878e-15  3.13587544e-08\n",
      "  3.13587545e-08  5.00000000e-01  5.00000000e-01  9.99999969e-01\n",
      "  9.99999969e-01  1.00000000e+00  1.00000000e+00  1.00000000e+00\n",
      "  1.00000000e+00  1.00000000e+00  1.00000000e+00  1.00000000e+00]\n",
      "[-1.28624621e-16  8.84988855e-17  1.49910921e-16  1.62536855e-16\n",
      "  2.57498471e-16  3.16296676e-16  4.15434794e-16  1.22991768e-08\n",
      "  1.22991772e-08  5.00000000e-01  5.00000000e-01  9.99999988e-01\n",
      "  9.99999988e-01  1.00000000e+00  1.00000000e+00  1.00000000e+00\n",
      "  1.00000000e+00  1.00000000e+00  1.00000000e+00  1.00000000e+00]\n",
      "[-2.82359150e-16 -1.10262076e-16 -5.29544495e-18  7.56090096e-17\n",
      "  1.58757873e-16  1.88992506e-16  3.35579726e-16  3.72893150e-09\n",
      "  3.72893161e-09  5.00000000e-01  5.00000000e-01  9.99999996e-01\n",
      "  9.99999996e-01  1.00000000e+00  1.00000000e+00  1.00000000e+00\n",
      "  1.00000000e+00  1.00000000e+00  1.00000000e+00  1.00000000e+00]\n",
      "[-2.14626663e-16 -1.50415805e-16 -7.94711360e-17 -5.60501935e-17\n",
      " -4.00854047e-17  8.22641928e-17  1.43267124e-16  7.06281115e-10\n",
      "  7.06281721e-10  5.00000000e-01  5.00000000e-01  9.99999999e-01\n",
      "  9.99999999e-01  1.00000000e+00  1.00000000e+00  1.00000000e+00\n",
      "  1.00000000e+00  1.00000000e+00  1.00000000e+00  1.00000000e+00]\n",
      "[-1.79400564e-16 -8.10969126e-17  1.80786572e-17  1.18879093e-16\n",
      "  2.94139164e-16  3.88578059e-16  4.24567813e-16  4.23546753e-11\n",
      "  4.23550084e-11  5.00000000e-01  5.00000000e-01  1.00000000e+00\n",
      "  1.00000000e+00  1.00000000e+00  1.00000000e+00  1.00000000e+00\n",
      "  1.00000000e+00  1.00000000e+00  1.00000000e+00  1.00000000e+00]\n",
      "[0.  0.  0.  0.  0.  0.  0.  0.  0.  0.5 0.5 1.  1.  1.  1.  1.  1.  1.\n",
      " 1.  1. ]\n"
     ]
    }
   ],
   "source": [
    "#testing for imaginary eigenvalues of the correlation matrix A\n",
    "N = 20\n",
    "smth = 100\n",
    "S_array = np.array([corr_matrix_A(N, i) for i in np.linspace(-1,1,smth)])\n",
    "for i in range(smth):\n",
    "    print(np.linalg.eigvalsh(S_array[i]))"
   ]
  },
  {
   "cell_type": "code",
   "execution_count": 17,
   "id": "outside-blackjack",
   "metadata": {},
   "outputs": [
    {
     "name": "stdout",
     "output_type": "stream",
     "text": [
      "S old =  [-5.23391544e-16 -4.97914811e-16 -3.70224246e-16 -3.51218758e-16\n",
      " -3.01493660e-16 -2.38743418e-16 -1.97888462e-16 -1.53922413e-16\n",
      " -1.03857259e-16 -9.75506218e-17 -6.43654685e-17 -1.74359356e-18\n",
      "  2.53029130e-17  6.79349035e-17  1.06274189e-16  1.19095519e-16\n",
      "  1.79403206e-16  2.83508849e-16  2.92488284e-16  3.45218662e-16\n",
      "  6.93887087e-16  8.16081279e-16  3.00573026e-08  3.00573028e-08\n",
      "  5.00000000e-01  5.00000000e-01  9.99999970e-01  9.99999970e-01\n",
      "  1.00000000e+00  1.00000000e+00  1.00000000e+00  1.00000000e+00\n",
      "  1.00000000e+00  1.00000000e+00  1.00000000e+00  1.00000000e+00\n",
      "  1.00000000e+00  1.00000000e+00  1.00000000e+00  1.00000000e+00\n",
      "  1.00000000e+00  1.00000000e+00  1.00000000e+00  1.00000000e+00\n",
      "  1.00000000e+00  1.00000000e+00  1.00000000e+00  1.00000000e+00\n",
      "  1.00000000e+00  1.00000000e+00]\n",
      "S new =  [1. 1. 1. 1. 1. 1. 1. 1. 1. 1. 1. 1. 1. 1. 1. 1. 1. 1. 1. 1. 1. 1. 1. 1.\n",
      " 1.]\n"
     ]
    }
   ],
   "source": [
    "#symmetry of the correlation matrix A\n",
    "\n",
    "Num = 50\n",
    "Delta = 0.9\n",
    "S = corr_matrix_A(Num, Delta)\n",
    "S_eigvals = np.linalg.eigvalsh(S)\n",
    "S_new = []\n",
    "for i in range(Num//2):\n",
    "    S_new.append(S_eigvals[i] + S_eigvals[-i-1])\n",
    "S_new = np.array(S_new)\n",
    "print(\"S old = \", S_eigvals)\n",
    "print(\"S new = \", S_new)"
   ]
  },
  {
   "cell_type": "code",
   "execution_count": 18,
   "id": "august-privilege",
   "metadata": {},
   "outputs": [],
   "source": [
    "def Z_n(n, alpha, Delta, N1):\n",
    "    #alpha goes from 0 to 2 pi\n",
    "    C = corr_matrix_A(N1, Delta)\n",
    "    eigenvalues, eigenvectors = np.linalg.eigh(C)\n",
    "    idx = eigenvalues.argsort()[::1]   \n",
    "    eigenvalues = eigenvalues[idx]\n",
    "    eigenvectors = eigenvectors[:,idx]\n",
    "    Z = 1.0\n",
    "    for m in range(N1):\n",
    "        lam = eigenvalues[m]\n",
    "        Z *= ((lam**n)*np.exp(1j*alpha*(1 - lam)) + ((1 - lam)**n)*np.exp(-1j*alpha*lam))\n",
    "    return Z\n",
    "\n",
    "\n",
    "#real Z_N expression"
   ]
  },
  {
   "cell_type": "code",
   "execution_count": 19,
   "id": "wrapped-somerset",
   "metadata": {},
   "outputs": [
    {
     "data": {
      "text/plain": [
       "'N = 10\\nalpha_test = np.array([2*np.pi*j/N for j in range(N)])\\nDelta = 1\\ntyp = 1\\nZ_n_test = np.array(Z_n(typ, alpha_test[i], Delta, N) for i in range(N))\\nplt.plot(alpha_test, Z_n_test)'"
      ]
     },
     "execution_count": 19,
     "metadata": {},
     "output_type": "execute_result"
    }
   ],
   "source": [
    "'''N = 10\n",
    "alpha_test = np.array([2*np.pi*j/N for j in range(N)])\n",
    "Delta = 1\n",
    "typ = 1\n",
    "Z_n_test = np.array(Z_n(typ, alpha_test[i], Delta, N) for i in range(N))\n",
    "plt.plot(alpha_test, Z_n_test)'''"
   ]
  },
  {
   "cell_type": "code",
   "execution_count": 20,
   "id": "dutch-survival",
   "metadata": {},
   "outputs": [],
   "source": [
    "def log_Z_N(n, alpha, Delta, N1):\n",
    "    #alpha goes from 0 to 2 pi\n",
    "    C = corr_matrix_A(N1, Delta)\n",
    "    eigenvalues, eigenvectors = np.linalg.eigh(C)\n",
    "    idx = eigenvalues.argsort()[::1]   \n",
    "    eigenvalues = eigenvalues[idx]\n",
    "    eigenvectors = eigenvectors[:,idx]\n",
    "    Z = 1.0\n",
    "    for m in range(N1):\n",
    "        lam = eigenvalues[m]\n",
    "        Z += np.log(((lam**n)*np.exp(1j*alpha*(1 - lam)) + ((1 - lam)**n)*np.exp(-1j*alpha*lam)))\n",
    "    return Z"
   ]
  },
  {
   "cell_type": "code",
   "execution_count": 21,
   "id": "satisfactory-workplace",
   "metadata": {},
   "outputs": [],
   "source": [
    "N = 20\n",
    "type_num = 1\n",
    "Delta1 = -1\n",
    "Delta2 = 1\n",
    "Delta3 = -0.5\n",
    "Delta4 = 0.5\n",
    "Delta5 = -0.2\n",
    "Delta6 = 0.2\n",
    "Delta7 = -0.1\n",
    "Delta8 = 0.1\n",
    "Delta9 = -0.01\n",
    "Delta10 = 0.01\n",
    "alpha_array = np.linspace(-np.pi, np.pi, N)"
   ]
  },
  {
   "cell_type": "code",
   "execution_count": 22,
   "id": "split-share",
   "metadata": {},
   "outputs": [],
   "source": [
    "Z_n_array1 = np.array([Z_n(type_num, alpha_array[i], Delta1, N) for i in range(N)])\n",
    "Z_n_array2 = np.array([Z_n(type_num, alpha_array[i], Delta2, N) for i in range(N)])\n",
    "Z_n_array3 = np.array([Z_n(type_num, alpha_array[i], Delta3, N) for i in range(N)])\n",
    "Z_n_array4 = np.array([Z_n(type_num, alpha_array[i], Delta4, N) for i in range(N)])\n",
    "Z_n_array5 = np.array([Z_n(type_num, alpha_array[i], Delta5, N) for i in range(N)])\n",
    "Z_n_array6 = np.array([Z_n(type_num, alpha_array[i], Delta6, N) for i in range(N)])\n",
    "Z_n_array7 = np.array([Z_n(type_num, alpha_array[i], Delta7, N) for i in range(N)])\n",
    "Z_n_array8 = np.array([Z_n(type_num, alpha_array[i], Delta8, N) for i in range(N)])\n",
    "Z_n_array9 = np.array([Z_n(type_num, alpha_array[i], Delta9, N) for i in range(N)])\n",
    "Z_n_array10 = np.array([Z_n(type_num, alpha_array[i], Delta10, N) for i in range(N)])"
   ]
  },
  {
   "cell_type": "code",
   "execution_count": 23,
   "id": "legislative-casting",
   "metadata": {},
   "outputs": [
    {
     "name": "stderr",
     "output_type": "stream",
     "text": [
      "C:\\Users\\MI\\Anaconda3\\lib\\site-packages\\numpy\\core\\_asarray.py:83: ComplexWarning: Casting complex values to real discards the imaginary part\n",
      "  return array(a, dtype, copy=False, order=order)\n"
     ]
    },
    {
     "data": {
      "text/plain": [
       "Text(0.5, 1.0, '$\\\\delta$ = 1, N =20')"
      ]
     },
     "execution_count": 23,
     "metadata": {},
     "output_type": "execute_result"
    },
    {
     "data": {
      "image/png": "[encoded data removed]",
      "text/plain": [
       "<Figure size 432x288 with 1 Axes>"
      ]
     },
     "metadata": {
      "needs_background": "light"
     },
     "output_type": "display_data"
    }
   ],
   "source": [
    "# For delta = 1\n",
    "\n",
    "plt.plot(alpha_array, Z_n_array2, label = \"numerical\") #numerical result \n",
    "plt.plot(alpha_array, np.cos(alpha_array/2)**2, label = \"theoretical\") #theoretical result\n",
    "plt.legend()\n",
    "plt.title(\"$\\delta$ = 1, N =\" + str(N))"
   ]
  },
  {
   "cell_type": "code",
   "execution_count": 24,
   "id": "communist-vermont",
   "metadata": {},
   "outputs": [
    {
     "name": "stderr",
     "output_type": "stream",
     "text": [
      "C:\\Users\\MI\\Anaconda3\\lib\\site-packages\\numpy\\core\\_asarray.py:83: ComplexWarning: Casting complex values to real discards the imaginary part\n",
      "  return array(a, dtype, copy=False, order=order)\n",
      "C:\\Users\\MI\\Anaconda3\\lib\\site-packages\\numpy\\core\\_asarray.py:83: ComplexWarning: Casting complex values to real discards the imaginary part\n",
      "  return array(a, dtype, copy=False, order=order)\n",
      "C:\\Users\\MI\\Anaconda3\\lib\\site-packages\\numpy\\core\\_asarray.py:83: ComplexWarning: Casting complex values to real discards the imaginary part\n",
      "  return array(a, dtype, copy=False, order=order)\n",
      "C:\\Users\\MI\\Anaconda3\\lib\\site-packages\\numpy\\core\\_asarray.py:83: ComplexWarning: Casting complex values to real discards the imaginary part\n",
      "  return array(a, dtype, copy=False, order=order)\n"
     ]
    },
    {
     "data": {
      "text/plain": [
       "Text(0.5, 1.0, '$Z_1$, N = 20')"
      ]
     },
     "execution_count": 24,
     "metadata": {},
     "output_type": "execute_result"
    },
    {
     "data": {
      "image/png": "[encoded data removed]",
      "text/plain": [
       "<Figure size 432x288 with 1 Axes>"
      ]
     },
     "metadata": {
      "needs_background": "light"
     },
     "output_type": "display_data"
    }
   ],
   "source": [
    "plt.plot(alpha_array, Z_n_array1, label = \"Delta = \" + str(Delta1))\n",
    "plt.plot(alpha_array, Z_n_array2, label = \"Delta = \" + str(Delta2))\n",
    "plt.plot(alpha_array, Z_n_array3, label = \"Delta = \" + str(Delta3))\n",
    "plt.plot(alpha_array, Z_n_array4, label = \"Delta = \" + str(Delta4))\n",
    "plt.legend()\n",
    "plt.title(\"$Z_1$, N = \" + str(N))"
   ]
  },
  {
   "cell_type": "code",
   "execution_count": 25,
   "id": "romance-missile",
   "metadata": {},
   "outputs": [
    {
     "name": "stderr",
     "output_type": "stream",
     "text": [
      "C:\\Users\\MI\\Anaconda3\\lib\\site-packages\\numpy\\core\\_asarray.py:83: ComplexWarning: Casting complex values to real discards the imaginary part\n",
      "  return array(a, dtype, copy=False, order=order)\n",
      "C:\\Users\\MI\\Anaconda3\\lib\\site-packages\\numpy\\core\\_asarray.py:83: ComplexWarning: Casting complex values to real discards the imaginary part\n",
      "  return array(a, dtype, copy=False, order=order)\n",
      "C:\\Users\\MI\\Anaconda3\\lib\\site-packages\\numpy\\core\\_asarray.py:83: ComplexWarning: Casting complex values to real discards the imaginary part\n",
      "  return array(a, dtype, copy=False, order=order)\n",
      "C:\\Users\\MI\\Anaconda3\\lib\\site-packages\\numpy\\core\\_asarray.py:83: ComplexWarning: Casting complex values to real discards the imaginary part\n",
      "  return array(a, dtype, copy=False, order=order)\n",
      "C:\\Users\\MI\\Anaconda3\\lib\\site-packages\\numpy\\core\\_asarray.py:83: ComplexWarning: Casting complex values to real discards the imaginary part\n",
      "  return array(a, dtype, copy=False, order=order)\n",
      "C:\\Users\\MI\\Anaconda3\\lib\\site-packages\\numpy\\core\\_asarray.py:83: ComplexWarning: Casting complex values to real discards the imaginary part\n",
      "  return array(a, dtype, copy=False, order=order)\n"
     ]
    },
    {
     "data": {
      "text/plain": [
       "Text(0.5, 1.0, '$Z_1$, N = 20')"
      ]
     },
     "execution_count": 25,
     "metadata": {},
     "output_type": "execute_result"
    },
    {
     "data": {
      "image/png": "[encoded data removed]",
      "text/plain": [
       "<Figure size 432x288 with 1 Axes>"
      ]
     },
     "metadata": {
      "needs_background": "light"
     },
     "output_type": "display_data"
    }
   ],
   "source": [
    "plt.plot(alpha_array, Z_n_array5, label = \"Delta = \" + str(Delta5))\n",
    "plt.plot(alpha_array, Z_n_array6, label = \"Delta = \" + str(Delta6))\n",
    "plt.plot(alpha_array, Z_n_array7, label = \"Delta = \" + str(Delta7))\n",
    "plt.plot(alpha_array, Z_n_array8, label = \"Delta = \" + str(Delta8))\n",
    "plt.plot(alpha_array, Z_n_array9, label = \"Delta = \" + str(Delta9))\n",
    "plt.plot(alpha_array, Z_n_array10, label = \"Delta = \" + str(Delta10))\n",
    "plt.legend()\n",
    "plt.title(\"$Z_1$, N = \" + str(N))"
   ]
  },
  {
   "cell_type": "code",
   "execution_count": 26,
   "id": "deadly-ukraine",
   "metadata": {},
   "outputs": [],
   "source": [
    "N1 = 20\n",
    "typ = 2\n",
    "alpha_array_1 = np.array([2*np.pi*j/N for j in range(N1)])\n",
    "\n",
    "log_Z_n_array1 = np.array([log_Z_N(typ, alpha_array_1[i], Delta1, N1) for i in range(N1)])\n",
    "log_Z_n_array2 = np.array([log_Z_N(typ, alpha_array_1[i], Delta2, N1) for i in range(N1)])\n",
    "log_Z_n_array3 = np.array([log_Z_N(typ, alpha_array_1[i], Delta3, N1) for i in range(N1)])\n",
    "log_Z_n_array4 = np.array([log_Z_N(typ, alpha_array_1[i], Delta4, N1) for i in range(N1)])\n",
    "log_Z_n_array5 = np.array([log_Z_N(typ, alpha_array_1[i], Delta5, N1) for i in range(N1)])\n",
    "log_Z_n_array6 = np.array([log_Z_N(typ, alpha_array_1[i], Delta6, N1) for i in range(N1)])\n",
    "log_Z_n_array7 = np.array([log_Z_N(typ, alpha_array_1[i], Delta7, N1) for i in range(N1)])\n",
    "log_Z_n_array8 = np.array([log_Z_N(typ, alpha_array_1[i], Delta8, N1) for i in range(N1)])\n",
    "log_Z_n_array9 = np.array([log_Z_N(typ, alpha_array_1[i], Delta9, N1) for i in range(N1)])\n",
    "log_Z_n_array10 = np.array([log_Z_N(typ, alpha_array_1[i], Delta10, N1) for i in range(N1)])"
   ]
  },
  {
   "cell_type": "code",
   "execution_count": 27,
   "id": "regional-retention",
   "metadata": {},
   "outputs": [
    {
     "name": "stderr",
     "output_type": "stream",
     "text": [
      "C:\\Users\\MI\\Anaconda3\\lib\\site-packages\\numpy\\core\\_asarray.py:83: ComplexWarning: Casting complex values to real discards the imaginary part\n",
      "  return array(a, dtype, copy=False, order=order)\n",
      "C:\\Users\\MI\\Anaconda3\\lib\\site-packages\\numpy\\core\\_asarray.py:83: ComplexWarning: Casting complex values to real discards the imaginary part\n",
      "  return array(a, dtype, copy=False, order=order)\n",
      "C:\\Users\\MI\\Anaconda3\\lib\\site-packages\\numpy\\core\\_asarray.py:83: ComplexWarning: Casting complex values to real discards the imaginary part\n",
      "  return array(a, dtype, copy=False, order=order)\n",
      "C:\\Users\\MI\\Anaconda3\\lib\\site-packages\\numpy\\core\\_asarray.py:83: ComplexWarning: Casting complex values to real discards the imaginary part\n",
      "  return array(a, dtype, copy=False, order=order)\n"
     ]
    },
    {
     "data": {
      "text/plain": [
       "Text(0.5, 1.0, '$log{Z_2}$, N = 20')"
      ]
     },
     "execution_count": 27,
     "metadata": {},
     "output_type": "execute_result"
    },
    {
     "data": {
      "image/png": "[encoded data removed]",
      "text/plain": [
       "<Figure size 432x288 with 1 Axes>"
      ]
     },
     "metadata": {
      "needs_background": "light"
     },
     "output_type": "display_data"
    }
   ],
   "source": [
    "plt.plot(alpha_array_1, log_Z_n_array1, label = \"Delta = \" + str(Delta1))\n",
    "plt.plot(alpha_array_1, log_Z_n_array2, label = \"Delta = \" + str(Delta2))\n",
    "plt.plot(alpha_array_1, log_Z_n_array3, label = \"Delta = \" + str(Delta3))\n",
    "plt.plot(alpha_array_1, log_Z_n_array4, label = \"Delta = \" + str(Delta4))\n",
    "plt.legend()\n",
    "plt.title(\"$log{Z_2}$, N = \" + str(N1))"
   ]
  },
  {
   "cell_type": "code",
   "execution_count": 28,
   "id": "victorian-canyon",
   "metadata": {},
   "outputs": [
    {
     "name": "stderr",
     "output_type": "stream",
     "text": [
      "C:\\Users\\MI\\Anaconda3\\lib\\site-packages\\numpy\\core\\_asarray.py:83: ComplexWarning: Casting complex values to real discards the imaginary part\n",
      "  return array(a, dtype, copy=False, order=order)\n",
      "C:\\Users\\MI\\Anaconda3\\lib\\site-packages\\numpy\\core\\_asarray.py:83: ComplexWarning: Casting complex values to real discards the imaginary part\n",
      "  return array(a, dtype, copy=False, order=order)\n",
      "C:\\Users\\MI\\Anaconda3\\lib\\site-packages\\numpy\\core\\_asarray.py:83: ComplexWarning: Casting complex values to real discards the imaginary part\n",
      "  return array(a, dtype, copy=False, order=order)\n",
      "C:\\Users\\MI\\Anaconda3\\lib\\site-packages\\numpy\\core\\_asarray.py:83: ComplexWarning: Casting complex values to real discards the imaginary part\n",
      "  return array(a, dtype, copy=False, order=order)\n",
      "C:\\Users\\MI\\Anaconda3\\lib\\site-packages\\numpy\\core\\_asarray.py:83: ComplexWarning: Casting complex values to real discards the imaginary part\n",
      "  return array(a, dtype, copy=False, order=order)\n",
      "C:\\Users\\MI\\Anaconda3\\lib\\site-packages\\numpy\\core\\_asarray.py:83: ComplexWarning: Casting complex values to real discards the imaginary part\n",
      "  return array(a, dtype, copy=False, order=order)\n"
     ]
    },
    {
     "data": {
      "text/plain": [
       "Text(0.5, 1.0, '$log{Z_2}$, N = 20')"
      ]
     },
     "execution_count": 28,
     "metadata": {},
     "output_type": "execute_result"
    },
    {
     "data": {
      "image/png": "[encoded data removed]",
      "text/plain": [
       "<Figure size 432x288 with 1 Axes>"
      ]
     },
     "metadata": {
      "needs_background": "light"
     },
     "output_type": "display_data"
    }
   ],
   "source": [
    "plt.plot(alpha_array_1, log_Z_n_array5, label = \"Delta = \" + str(Delta5))\n",
    "plt.plot(alpha_array_1, log_Z_n_array6, label = \"Delta = \" + str(Delta6))\n",
    "plt.plot(alpha_array_1, log_Z_n_array7, label = \"Delta = \" + str(Delta7))\n",
    "plt.plot(alpha_array_1, log_Z_n_array8, label = \"Delta = \" + str(Delta8))\n",
    "plt.plot(alpha_array_1, log_Z_n_array9, label = \"Delta = \" + str(Delta9))\n",
    "plt.plot(alpha_array_1, log_Z_n_array10, label = \"Delta = \" + str(Delta10))\n",
    "plt.legend()\n",
    "plt.title(\"$log{Z_2}$, N = \" + str(N1))"
   ]
  }
 ],
 "metadata": {
  "kernelspec": {
   "display_name": "Python 3",
   "language": "python",
   "name": "python3"
  },
  "language_info": {
   "codemirror_mode": {
    "name": "ipython",
    "version": 3
   },
   "file_extension": ".py",
   "mimetype": "text/x-python",
   "name": "python",
   "nbconvert_exporter": "python",
   "pygments_lexer": "ipython3",
   "version": "3.7.9"
  }
 },
 "nbformat": 4,
 "nbformat_minor": 5
}
