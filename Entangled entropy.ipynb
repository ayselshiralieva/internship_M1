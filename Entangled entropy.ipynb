{
 "cells": [
  {
   "cell_type": "code",
   "execution_count": 1,
   "id": "driven-research",
   "metadata": {},
   "outputs": [],
   "source": [
    "%matplotlib inline\n",
    "import numpy as np\n",
    "import matplotlib.pyplot as plt\n",
    "import scipy.linalg"
   ]
  },
  {
   "cell_type": "code",
   "execution_count": 2,
   "id": "introductory-billion",
   "metadata": {},
   "outputs": [],
   "source": [
    "def SSH_hamiltonian_periodic(N, Delta):\n",
    "    x = np.zeros(N-1)\n",
    "    x[0::2] = 1 - Delta\n",
    "    x[1::2] = 1 + Delta\n",
    "    A = np.diag(x, k = 1) + np.diag(x, k = -1)\n",
    "    A[0][N-1] = 1 + Delta\n",
    "    A[N-1][0] = 1 + Delta\n",
    "    return A"
   ]
  },
  {
   "cell_type": "code",
   "execution_count": 3,
   "id": "taken-berkeley",
   "metadata": {},
   "outputs": [
    {
     "data": {
      "text/plain": [
       "array([[0. , 0.5, 0. , 1.5],\n",
       "       [0.5, 0. , 1.5, 0. ],\n",
       "       [0. , 1.5, 0. , 0.5],\n",
       "       [1.5, 0. , 0.5, 0. ]])"
      ]
     },
     "execution_count": 3,
     "metadata": {},
     "output_type": "execute_result"
    }
   ],
   "source": [
    "SSH_hamiltonian_periodic(4, 0.5)"
   ]
  },
  {
   "cell_type": "code",
   "execution_count": 4,
   "id": "alternate-place",
   "metadata": {},
   "outputs": [],
   "source": [
    "def corr_matrix(N, Delta):\n",
    "    eps = 1e-15\n",
    "    eigenvalues, eigenvectors = np.linalg.eigh(SSH_hamiltonian_periodic(N, Delta))\n",
    "    idx = eigenvalues.argsort()[::1]   \n",
    "    eigenvalues = eigenvalues[idx]\n",
    "    eigenvectors = eigenvectors[:,idx]\n",
    "    Corr_matrix = np.zeros((N,N), dtype = \"complex\")    \n",
    "    for i in range(N):\n",
    "        for j in range(N):\n",
    "            for k in range(N//2):\n",
    "                Corr_matrix[i][j] += np.conjugate(eigenvectors[:,k][i])*(eigenvectors[:,k][j])\n",
    "    '''for i in range(N):\n",
    "        for j in range(N):\n",
    "            if np.abs(np.real(Corr_matrix[i][j])) < eps:\n",
    "                C1 = Corr_matrix[i][j] \n",
    "                Corr_matrix[i][j]= 0 + 1j*np.imag(C1)\n",
    "            if np.abs(np.imag(Corr_matrix[i][j])) < eps:\n",
    "                C2 = Corr_matrix[i][j]\n",
    "                Corr_matrix[i][j]= np.real(C2)'''\n",
    "    return Corr_matrix  "
   ]
  },
  {
   "cell_type": "code",
   "execution_count": 5,
   "id": "passing-peeing",
   "metadata": {},
   "outputs": [
    {
     "data": {
      "text/plain": [
       "array([[ 5.00000000e-01+0.j, -5.55111512e-17+0.j,  1.11022302e-16+0.j,\n",
       "        -5.00000000e-01+0.j],\n",
       "       [-5.55111512e-17+0.j,  5.00000000e-01+0.j, -5.00000000e-01+0.j,\n",
       "         0.00000000e+00+0.j],\n",
       "       [ 1.11022302e-16+0.j, -5.00000000e-01+0.j,  5.00000000e-01+0.j,\n",
       "        -5.55111512e-17+0.j],\n",
       "       [-5.00000000e-01+0.j,  0.00000000e+00+0.j, -5.55111512e-17+0.j,\n",
       "         5.00000000e-01+0.j]])"
      ]
     },
     "execution_count": 5,
     "metadata": {},
     "output_type": "execute_result"
    }
   ],
   "source": [
    "corr_matrix(4, 0.5)"
   ]
  },
  {
   "cell_type": "code",
   "execution_count": 6,
   "id": "colored-damages",
   "metadata": {
    "scrolled": true
   },
   "outputs": [
    {
     "data": {
      "text/plain": [
       "False"
      ]
     },
     "execution_count": 6,
     "metadata": {},
     "output_type": "execute_result"
    }
   ],
   "source": [
    "Delta1 = 0.5\n",
    "N1 = 8\n",
    "\n",
    "eigenvalues1, eigenvectors1 = np.linalg.eig(SSH_hamiltonian_periodic(N1, Delta1))\n",
    "idx1 = eigenvalues1.argsort()[::1]   \n",
    "eigenvalues1 = eigenvalues1[idx1]\n",
    "eigenvectors1 = eigenvectors1[:,idx1]\n",
    "Eig1 = eigenvectors1\n",
    "\n",
    "eigenvalues2, eigenvectors2 = np.linalg.eigh(SSH_hamiltonian_periodic(N1, Delta1))\n",
    "idx2 = eigenvalues2.argsort()[::1]   \n",
    "eigenvalues2 = eigenvalues2[idx2]\n",
    "eigenvectors2 = eigenvectors2[:,idx2]\n",
    "Eig2 = eigenvectors2\n",
    "\n",
    "np.allclose(Eig1, Eig2, atol=1e-8)"
   ]
  },
  {
   "cell_type": "code",
   "execution_count": 7,
   "id": "terminal-cheat",
   "metadata": {},
   "outputs": [],
   "source": [
    "def corr_matrix_A(N, Delta):\n",
    "    S = N//2\n",
    "    return corr_matrix(N, Delta)[0:S, 0:S]"
   ]
  },
  {
   "cell_type": "code",
   "execution_count": 30,
   "id": "external-college",
   "metadata": {},
   "outputs": [
    {
     "data": {
      "text/plain": [
       "array([[5.00000000e-01+0.j, 2.77555756e-17+0.j],\n",
       "       [2.77555756e-17+0.j, 5.00000000e-01+0.j]])"
      ]
     },
     "execution_count": 30,
     "metadata": {},
     "output_type": "execute_result"
    }
   ],
   "source": [
    "corr_matrix_A(4, 0.05)"
   ]
  },
  {
   "cell_type": "code",
   "execution_count": 8,
   "id": "likely-armenia",
   "metadata": {},
   "outputs": [],
   "source": [
    "N = 10\n",
    "Delta = 0.2\n",
    "Corr_m = corr_matrix_A(N, Delta)"
   ]
  },
  {
   "cell_type": "code",
   "execution_count": 36,
   "id": "italian-auction",
   "metadata": {},
   "outputs": [],
   "source": [
    "def entang_entropy_A(N, Delta):\n",
    "    CM = corr_matrix_A(N, Delta)\n",
    "    S = 0.0\n",
    "    lambd = np.linalg.eigvalsh(CM)\n",
    "    for i in range(np.shape(CM)[0]):\n",
    "        if lambd[i] > 1e-14 and (1 - lambd[i]) > 1e-14:     \n",
    "            S -= lambd[i]*np.log(lambd[i]) + (1 - lambd[i])*np.log(1 - lambd[i])\n",
    "        else:\n",
    "            S -= 0\n",
    "    return(S)"
   ]
  },
  {
   "cell_type": "code",
   "execution_count": 10,
   "id": "stable-helicopter",
   "metadata": {},
   "outputs": [],
   "source": [
    "def entang_entropy_A1(N, Delta):\n",
    "    CM = corr_matrix_A(N, Delta)\n",
    "    S = 0.0\n",
    "    lambd = np.linalg.eigvalsh(CM)\n",
    "    for i in range(np.shape(CM)[0]):  \n",
    "        S -= lambd[i]*np.log(lambd[i]) + (1 - lambd[i])*np.log(1 - lambd[i])\n",
    "    return(S)"
   ]
  },
  {
   "cell_type": "code",
   "execution_count": 11,
   "id": "talented-uncertainty",
   "metadata": {},
   "outputs": [
    {
     "data": {
      "text/plain": [
       "[<matplotlib.lines.Line2D at 0x14ed513b048>]"
      ]
     },
     "execution_count": 11,
     "metadata": {},
     "output_type": "execute_result"
    },
    {
     "data": {
      "image/png": "[encoded data removed]",
      "text/plain": [
       "<Figure size 432x288 with 1 Axes>"
      ]
     },
     "metadata": {
      "needs_background": "light"
     },
     "output_type": "display_data"
    }
   ],
   "source": [
    "M = 10\n",
    "N = 100\n",
    "Delta = np.linspace(-1,1,M)\n",
    "Entropy_array = np.array([entang_entropy_A(N, Delta[i]) for i in range(M)])\n",
    "plt.plot(Delta, Entropy_array, \".\")\n",
    "plt.plot(Delta, np.ones(Delta.size)*2*np.log(2))"
   ]
  },
  {
   "cell_type": "code",
   "execution_count": 12,
   "id": "reverse-purchase",
   "metadata": {},
   "outputs": [],
   "source": [
    "#Entropy_array1 = np.array([entang_entropy_A1(N, Delta[i]) for i in range(M)])\n",
    "#plt.plot(Delta, Entropy_array1, \".\")\n",
    "#plt.plot(Delta, np.ones(Delta.size)*2*np.log(2))"
   ]
  },
  {
   "cell_type": "markdown",
   "id": "honest-verse",
   "metadata": {},
   "source": [
    "# FOURIER Transform"
   ]
  },
  {
   "cell_type": "code",
   "execution_count": 45,
   "id": "imposed-handle",
   "metadata": {},
   "outputs": [],
   "source": [
    "def u_func(k, Delta, N):\n",
    "    lambda1 = (1 - Delta) + (1 + Delta)*np.exp(-(4*np.pi/N)*1j*k)\n",
    "    s = np.sqrt(lambda1 / np.conjugate(lambda1))\n",
    "    u1 = (1/np.sqrt(2))*np.array([-s, 1]) \n",
    "    u2 = (1/np.sqrt(2))*np.array([s, 1])\n",
    "    return u1, u2 "
   ]
  },
  {
   "cell_type": "code",
   "execution_count": 14,
   "id": "pleasant-counter",
   "metadata": {},
   "outputs": [
    {
     "data": {
      "text/plain": [
       "(array([-0.44482983-0.54966028j,  0.70710678+0.j        ]),\n",
       " array([0.44482983+0.54966028j, 0.70710678+0.j        ]))"
      ]
     },
     "execution_count": 14,
     "metadata": {},
     "output_type": "execute_result"
    }
   ],
   "source": [
    "u_func(2, 0.5, 10)"
   ]
  },
  {
   "cell_type": "code",
   "execution_count": 15,
   "id": "spread-coalition",
   "metadata": {},
   "outputs": [],
   "source": [
    "def u_func_new(k, Delta, N):\n",
    "    H = np.array([[0, (1 - Delta) + (1 + Delta)*np.exp(-(4*np.pi/N)*1j*k)],[(1 - Delta) + (1 + Delta)*np.exp((4*np.pi/N)*1j*k), 0]])\n",
    "    eigenvalues, eigenvectors = np.linalg.eigh(H)\n",
    "    idx = eigenvalues.argsort()[::1]   \n",
    "    eigenvalues = eigenvalues[idx]\n",
    "    eigenvectors = eigenvectors[:,idx]\n",
    "    return eigenvectors"
   ]
  },
  {
   "cell_type": "code",
   "execution_count": 16,
   "id": "amended-suspension",
   "metadata": {},
   "outputs": [
    {
     "data": {
      "text/plain": [
       "array([[-0.70710678+0.j        ,  0.70710678+0.j        ],\n",
       "       [-0.44482983-0.54966028j, -0.44482983-0.54966028j]])"
      ]
     },
     "execution_count": 16,
     "metadata": {},
     "output_type": "execute_result"
    }
   ],
   "source": [
    "u_func_new(8, 0.5, 10)"
   ]
  },
  {
   "cell_type": "code",
   "execution_count": 17,
   "id": "north-canberra",
   "metadata": {},
   "outputs": [],
   "source": [
    "def corr_matrix_new(N, Delta):\n",
    "    eps = 1e-15\n",
    "    C = np.zeros((N,N),dtype = \"complex\")\n",
    "    for i in range(N):\n",
    "        for j in range(N):\n",
    "            for k in range(N//2):\n",
    "                    C[i][j] += (1/(N//2))*np.conjugate(u_func_new(k, Delta, N)[:,0][i%2])*np.exp(-(4*np.pi/N)*1j*k*(i//2))*np.exp((4*np.pi/N)*1j*k*(j//2))*u_func_new(k, Delta, N)[:,0][j%2]\n",
    "    '''for i in range(N):\n",
    "        for j in range(N):\n",
    "            if np.abs(np.real(C[i][j])) < eps:\n",
    "                C1 = C[i][j] \n",
    "                C[i][j]= 0 + 1j*np.imag(C1)\n",
    "            if np.abs(np.imag(C[i][j])) < eps:\n",
    "                C2 = C[i][j]\n",
    "                C[i][j]= np.real(C2)'''\n",
    "    return C"
   ]
  },
  {
   "cell_type": "code",
   "execution_count": 46,
   "id": "violent-portuguese",
   "metadata": {},
   "outputs": [
    {
     "data": {
      "text/plain": [
       "array([[ 0.5+0.000000e+00j,  0. -3.061617e-17j,  0. +3.061617e-17j,\n",
       "        -0.5+6.123234e-17j],\n",
       "       [ 0. +3.061617e-17j,  0.5+0.000000e+00j, -0.5+0.000000e+00j,\n",
       "         0. +3.061617e-17j],\n",
       "       [ 0. -3.061617e-17j, -0.5+0.000000e+00j,  0.5+0.000000e+00j,\n",
       "         0. -3.061617e-17j],\n",
       "       [-0.5-6.123234e-17j,  0. -3.061617e-17j,  0. +3.061617e-17j,\n",
       "         0.5+0.000000e+00j]])"
      ]
     },
     "execution_count": 46,
     "metadata": {},
     "output_type": "execute_result"
    }
   ],
   "source": [
    "corr_matrix_new(4, 1)"
   ]
  },
  {
   "cell_type": "code",
   "execution_count": 19,
   "id": "little-prisoner",
   "metadata": {},
   "outputs": [
    {
     "data": {
      "text/plain": [
       "array([[ 0.5+0.j,  0. +0.j,  0. +0.j, -0.5+0.j],\n",
       "       [ 0. +0.j,  0.5+0.j, -0.5+0.j,  0. +0.j],\n",
       "       [ 0. +0.j, -0.5+0.j,  0.5+0.j,  0. +0.j],\n",
       "       [-0.5+0.j,  0. +0.j,  0. +0.j,  0.5+0.j]])"
      ]
     },
     "execution_count": 19,
     "metadata": {},
     "output_type": "execute_result"
    }
   ],
   "source": [
    "corr_matrix(4, 1)"
   ]
  },
  {
   "cell_type": "code",
   "execution_count": 20,
   "id": "pleasant-victoria",
   "metadata": {},
   "outputs": [],
   "source": [
    "def corr_matrix_A_new(N, Delta):\n",
    "    S = N//2\n",
    "    return corr_matrix_new(N, Delta)[0:S, 0:S]"
   ]
  },
  {
   "cell_type": "code",
   "execution_count": 21,
   "id": "endless-nudist",
   "metadata": {},
   "outputs": [
    {
     "data": {
      "text/plain": [
       "True"
      ]
     },
     "execution_count": 21,
     "metadata": {},
     "output_type": "execute_result"
    }
   ],
   "source": [
    "np.allclose(corr_matrix_A_new(8, 0.5), corr_matrix_A(8, 0.5), atol = 1e-8)"
   ]
  },
  {
   "cell_type": "code",
   "execution_count": 22,
   "id": "dutch-fancy",
   "metadata": {},
   "outputs": [],
   "source": [
    "def entang_entropy_A_new(N, Delta):\n",
    "    CM = corr_matrix_A_new(N, Delta)\n",
    "    S = 0.0\n",
    "    lambd = np.linalg.eigvalsh(CM)\n",
    "    for i in range(np.shape(CM)[0]):\n",
    "        if lambd[i] > 1e-14 and (1 - lambd[i]) > 1e-14:     \n",
    "            S -= lambd[i]*np.log(lambd[i]) + (1 - lambd[i])*np.log(1 - lambd[i])\n",
    "        else:\n",
    "            S -= 0\n",
    "    return(S)"
   ]
  },
  {
   "cell_type": "code",
   "execution_count": 48,
   "id": "stretch-assist",
   "metadata": {},
   "outputs": [
    {
     "data": {
      "text/plain": [
       "[<matplotlib.lines.Line2D at 0x14ed6a82dc8>]"
      ]
     },
     "execution_count": 48,
     "metadata": {},
     "output_type": "execute_result"
    },
    {
     "data": {
      "image/png": "[encoded data removed]",
      "text/plain": [
       "<Figure size 432x288 with 1 Axes>"
      ]
     },
     "metadata": {
      "needs_background": "light"
     },
     "output_type": "display_data"
    }
   ],
   "source": [
    "M = 10\n",
    "N = 20\n",
    "Delta = np.linspace(-1,1,M)\n",
    "Entropy_array_new = np.array([entang_entropy_A_new(N, Delta[i]) for i in range(M)])\n",
    "plt.plot(Delta, Entropy_array_new, \".\")\n",
    "plt.plot(Delta, np.ones(Delta.size)*2*np.log(2))"
   ]
  },
  {
   "cell_type": "code",
   "execution_count": null,
   "id": "tropical-desert",
   "metadata": {},
   "outputs": [],
   "source": [
    "def "
   ]
  }
 ],
 "metadata": {
  "kernelspec": {
   "display_name": "Python 3",
   "language": "python",
   "name": "python3"
  },
  "language_info": {
   "codemirror_mode": {
    "name": "ipython",
    "version": 3
   },
   "file_extension": ".py",
   "mimetype": "text/x-python",
   "name": "python",
   "nbconvert_exporter": "python",
   "pygments_lexer": "ipython3",
   "version": "3.7.9"
  }
 },
 "nbformat": 4,
 "nbformat_minor": 5
}
